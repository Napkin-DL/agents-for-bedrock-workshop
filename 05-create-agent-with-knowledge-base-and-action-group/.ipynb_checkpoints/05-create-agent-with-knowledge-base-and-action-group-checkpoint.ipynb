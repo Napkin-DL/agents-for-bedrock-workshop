{
 "cells": [
  {
   "cell_type": "markdown",
   "id": "a0bb5c39-2fde-4336-8127-8debe7cb2741",
   "metadata": {},
   "source": [
    "# Knowledge Bases for Amazon Bedrock와 연동된 Agent for Amazon Bedrock 생성 및 Action Group 연결하기\n",
    "\n",
    "이 노트북에서는 회사 데이터를 검색하고 작업을 완료하기 위해 Knowledge Bases for Amazon Bedrock를 사용하는 Amazon Bedrock Agent를 만드는 방법을 배웁니다. 이 노트북의 사용 사례는 레스토랑의 에이전트로, 고객에게 성인용 또는 어린이용 메뉴에 대한 정보를 제공하고 테이블 예약 시스템을 담당하는 작업을 수행합니다. 고객은 예약 정보를 생성, 삭제 또는 가져올 수 있습니다. \n",
    "\n",
    "이 노트북을 완성하는 단계는 다음과 같습니다:\n",
    "\n",
    "1. 필요한 라이브러리 Import\n",
    "2. 데이터 세트를 Amazon S3에 업로드\n",
    "3. Knowledge Base for Amazon Bedrock 생성\n",
    "4. Agent for Amazon Bedrock 생성\n",
    "5. Agent 테스트하기\n",
    "6. 생성된 리소스 정리\n",
    "\n",
    "<img src=\"./images/lab5-architecture.png\" alt=\"Create an Agent with a Knowledge Base and an Action Group\" style=\"height: 400px; width:950px;\"/>\n"
   ]
  },
  {
   "cell_type": "markdown",
   "id": "076a5aba-9735-4e98-8a53-0daccd7e94b0",
   "metadata": {},
   "source": [
    "## 1. Import the needed libraries"
   ]
  },
  {
   "cell_type": "code",
   "execution_count": 1,
   "id": "ac05c073-d45b-4d85-9bf8-ae10aa78be8d",
   "metadata": {
    "tags": []
   },
   "outputs": [],
   "source": [
    "!pip install -q opensearch-py\n",
    "!pip install -q retrying"
   ]
  },
  {
   "cell_type": "code",
   "execution_count": 2,
   "id": "e8ad6ec2-b283-4c5d-879f-e397e46568c0",
   "metadata": {
    "tags": []
   },
   "outputs": [],
   "source": [
    "import os\n",
    "import json\n",
    "import time\n",
    "import uuid\n",
    "import boto3\n",
    "import zipfile\n",
    "import logging\n",
    "import pprint\n",
    "from io import BytesIO\n",
    "from retrying import retry\n",
    "from itertools import cycle\n",
    "from botocore.exceptions import ClientError\n",
    "from opensearchpy import OpenSearch, RequestsHttpConnection, AWSV4SignerAuth\n",
    "from aoss_utils import createEncryptionPolicy, createNetworkPolicy, createAccessPolicy, createCollection, waitForCollectionCreation\n",
    "from bedrock_utils import create_bedrock_execution_role, create_oss_policy_attach_bedrock_execution_role, create_policies_in_oss, delete_iam_role_and_policies"
   ]
  },
  {
   "cell_type": "code",
   "execution_count": 3,
   "id": "d2b2d607-c1f2-4cbb-9f89-d935676e0101",
   "metadata": {
    "tags": []
   },
   "outputs": [],
   "source": [
    "#Clients\n",
    "s3_client = boto3.client('s3')\n",
    "iam_client = boto3.client('iam')\n",
    "sts_client = boto3.client('sts')\n",
    "session = boto3.session.Session()\n",
    "region = session.region_name\n",
    "lambda_client = boto3.client('lambda')\n",
    "dynamodb_client = boto3.client('dynamodb')\n",
    "dynamodb_resource = boto3.resource('dynamodb')\n",
    "bedrock_agent_client = boto3.client('bedrock-agent')\n",
    "bedrock = boto3.client(\"bedrock\",region_name=region)\n",
    "opensearch_client = boto3.client('opensearchserverless')\n",
    "account_id = sts_client.get_caller_identity()[\"Account\"]\n",
    "identity_arn = session.client('sts').get_caller_identity()['Arn']\n",
    "bedrock_agent_runtime_client = boto3.client('bedrock-agent-runtime')\n",
    "logging.basicConfig(format='[%(asctime)s] p%(process)s {%(filename)s:%(lineno)d} %(levelname)s - %(message)s', level=logging.INFO)\n",
    "logger = logging.getLogger(__name__)"
   ]
  },
  {
   "cell_type": "code",
   "execution_count": 4,
   "id": "e5b56a16",
   "metadata": {
    "tags": []
   },
   "outputs": [
    {
     "data": {
      "text/plain": [
       "('us-west-2', '322537213286')"
      ]
     },
     "execution_count": 4,
     "metadata": {},
     "output_type": "execute_result"
    }
   ],
   "source": [
    "session = boto3.session.Session()\n",
    "region = session.region_name\n",
    "account_id = sts_client.get_caller_identity()[\"Account\"]\n",
    "region, account_id"
   ]
  },
  {
   "cell_type": "code",
   "execution_count": 5,
   "id": "d647d2a3",
   "metadata": {
    "tags": []
   },
   "outputs": [],
   "source": [
    "suffix = f\"{region}-{account_id}\"\n",
    "agent_name = 'booking-agent'\n",
    "solution_id = agent_name\n",
    "agent_alias_name = \"booking-agent-alias\"\n",
    "bucket_name = f'{agent_name}-{suffix}'"
   ]
  },
  {
   "cell_type": "markdown",
   "id": "c6b5819d-93a9-44d3-8eaa-5ed1da6a8c95",
   "metadata": {},
   "source": [
    "## 2. Upload the dataset to Amazon S3\n",
    "Knowledge Bases for Amazon Bedrock, currently require data to reside in an Amazon S3 bucket. In this section we will create an Amazon S3 bucket and the files."
   ]
  },
  {
   "cell_type": "markdown",
   "id": "bdc17ae4-3dce-43c4-b79d-ed6884beb7a1",
   "metadata": {},
   "source": [
    "### 2.1 Create the Amazon S3 bucket"
   ]
  },
  {
   "cell_type": "code",
   "execution_count": 6,
   "id": "976cc565-4f58-4284-88eb-dd9498c31958",
   "metadata": {
    "tags": []
   },
   "outputs": [],
   "source": [
    "if region != 'us-east-1':\n",
    "    s3_client.create_bucket(\n",
    "        Bucket=bucket_name.lower(),\n",
    "        CreateBucketConfiguration={'LocationConstraint': region}\n",
    "    )\n",
    "else:\n",
    "    s3_client.create_bucket(Bucket=bucket_name)"
   ]
  },
  {
   "cell_type": "markdown",
   "id": "b7c7a720-5586-4e4b-8a29-2ef17a1cf07a",
   "metadata": {},
   "source": [
    "### 2.2 Upload dataset to the Amazon S3 bucket"
   ]
  },
  {
   "cell_type": "code",
   "execution_count": 7,
   "id": "321c127d-a82a-49a5-b939-32d289376125",
   "metadata": {
    "tags": []
   },
   "outputs": [],
   "source": [
    "dataset_path = \"dataset\"\n",
    "files = [f.name for f in os.scandir(dataset_path) if f.is_file()]\n",
    "for file in files:\n",
    "    s3_client.upload_file(f'{dataset_path}/{file}', bucket_name, f'{file}')"
   ]
  },
  {
   "cell_type": "markdown",
   "id": "6ad39aa6-42bf-4146-9f87-fbb18f674326",
   "metadata": {},
   "source": [
    "## 3. Create a Knowledge Base for Amazon Bedrock\n",
    "\n",
    "이 섹션에서는 Knowledge Base.를 만들고 테스트하는 모든 단계를 살펴봅니다. \n",
    "\n",
    "완료해야 할 단계는 다음과 같습니다:\n",
    "    \n",
    "1. Amazon Opensearch Serverless Index 생성\n",
    "2. Embeddings model ARN 정의\n",
    "3. Knowledge Base 생성\n",
    "4. data source 생성\n",
    "5. Knowledge Base 동기화\n",
    "6. Knowledge Base 테스트"
   ]
  },
  {
   "cell_type": "markdown",
   "id": "4d3d808e-81ae-4205-9ac1-362bbb45d96e",
   "metadata": {},
   "source": [
    "### 3.1 Amazon Opensearch Serverless Service Index 생성\n",
    "\n",
    "Amazon Opensearch Serverless Service에서 신규 인덱스를 생성하려면 다음 단계를 완료해야 합니다:\n",
    "- Amazon Bedrock execution role 생성\n",
    "- OpenSearch Service에서 정책을 생성하고 collection을 생성\n",
    "- 인덱스 설정 및 매핑을 정의하고 인덱스를 생성"
   ]
  },
  {
   "cell_type": "code",
   "execution_count": 8,
   "id": "be047c6d-6d35-414e-915c-e2eec9c656eb",
   "metadata": {
    "tags": []
   },
   "outputs": [
    {
     "name": "stdout",
     "output_type": "stream",
     "text": [
      "Collection name: booking-agent-06deab41\n",
      "Index name: booking-agent-index-06deab41\n"
     ]
    }
   ],
   "source": [
    "def short_uuid():\n",
    "    uuid_str = str(uuid.uuid4())\n",
    "    return uuid_str[:8]\n",
    "\n",
    "short_uuid = short_uuid()\n",
    "\n",
    "collectionName = \"{}-{}\".format(solution_id, short_uuid)\n",
    "indexName = \"{}-index-{}\".format(solution_id, short_uuid)\n",
    "\n",
    "print(\"Collection name:\",collectionName)\n",
    "print(\"Index name:\",indexName)"
   ]
  },
  {
   "cell_type": "markdown",
   "id": "65680beb-9562-4ed0-b354-86588a84a5e8",
   "metadata": {},
   "source": [
    "#### Amazon Bedrock execution role 생성"
   ]
  },
  {
   "cell_type": "code",
   "execution_count": 9,
   "id": "83ce2ee2-d9f7-463a-ab77-2fda11a72328",
   "metadata": {
    "tags": []
   },
   "outputs": [],
   "source": [
    "bedrock_kb_execution_role = create_bedrock_execution_role(bucket_name=bucket_name)\n",
    "bedrock_kb_execution_role_arn = bedrock_kb_execution_role['Role']['Arn']"
   ]
  },
  {
   "cell_type": "markdown",
   "id": "455a3b6f-1bca-410d-86fe-5d38fe61470b",
   "metadata": {},
   "source": [
    "#### OpenSearch Service 정책 생성과 collection 생성"
   ]
  },
  {
   "cell_type": "code",
   "execution_count": 10,
   "id": "861dfb99-2af3-46d9-8deb-32ac1e985fc5",
   "metadata": {
    "tags": []
   },
   "outputs": [
    {
     "name": "stdout",
     "output_type": "stream",
     "text": [
      "Collection: {'createCollectionDetail': {'arn': 'arn:aws:aoss:us-west-2:322537213286:collection/pq16ymgfmelm9zd381t0', 'createdDate': 1717816491185, 'id': 'pq16ymgfmelm9zd381t0', 'kmsKeyArn': 'auto', 'lastModifiedDate': 1717816491185, 'name': 'booking-agent-06deab41', 'standbyReplicas': 'ENABLED', 'status': 'CREATING', 'type': 'VECTORSEARCH'}, 'ResponseMetadata': {'RequestId': 'aa1e98fc-7089-4e96-8683-c00aac18f670', 'HTTPStatusCode': 200, 'HTTPHeaders': {'x-amzn-requestid': 'aa1e98fc-7089-4e96-8683-c00aac18f670', 'date': 'Sat, 08 Jun 2024 03:14:51 GMT', 'content-type': 'application/x-amz-json-1.0', 'content-length': '314', 'connection': 'keep-alive'}, 'RetryAttempts': 0}}\n",
      "Host: pq16ymgfmelm9zd381t0.us-west-2.aoss.amazonaws.com\n",
      "Opensearch serverless arn:  arn:aws:iam::322537213286:policy/AmazonBedrockOSSPolicyForKnowledgeBase_475\n"
     ]
    }
   ],
   "source": [
    "# Create policies in OpenSearch Service (OSS)\n",
    "encryption_policy, network_policy, access_policy = create_policies_in_oss(\n",
    "    vector_store_name=collectionName,\n",
    "    aoss_client=opensearch_client,\n",
    "    bedrock_kb_execution_role_arn=bedrock_kb_execution_role_arn\n",
    ")\n",
    "\n",
    "# Create collection in OpenSearch Service\n",
    "collection = opensearch_client.create_collection(\n",
    "    name=collectionName,\n",
    "    type='VECTORSEARCH'\n",
    ")\n",
    "\n",
    "# Wait for collection creation to complete\n",
    "time.sleep(10)\n",
    "\n",
    "# Extract collection ID and host\n",
    "collection_detail = collection.get('createCollectionDetail', {})\n",
    "collection_id = collection_detail.get('id', '')\n",
    "host = f\"{collection_id}.{region}.aoss.amazonaws.com\"\n",
    "\n",
    "# Print collection details and host\n",
    "print(\"Collection:\", collection)\n",
    "print(\"Host:\", host)\n",
    "\n",
    "# Create OSS policy and attach it to Bedrock execution role\n",
    "create_oss_policy_attach_bedrock_execution_role(\n",
    "    collection_id=collection_id,\n",
    "    bedrock_kb_execution_role=bedrock_kb_execution_role\n",
    ")\n",
    "# Wait for all elements to be created\n",
    "time.sleep(40) "
   ]
  },
  {
   "cell_type": "markdown",
   "id": "f9791ecb-9949-4a2d-9ff6-ae463be967cd",
   "metadata": {},
   "source": [
    "#### index settings and mappings 정의와 index 생성"
   ]
  },
  {
   "cell_type": "code",
   "execution_count": 11,
   "id": "ab88c732-d26b-442e-a502-4a2218e65c80",
   "metadata": {
    "tags": []
   },
   "outputs": [
    {
     "name": "stderr",
     "output_type": "stream",
     "text": [
      "[2024-06-08 03:15:41,622] p4608 {credentials.py:1075} INFO - Found credentials from IAM Role: BaseNotebookInstanceEc2InstanceRole\n",
      "[2024-06-08 03:15:42,666] p4608 {base.py:258} INFO - PUT https://pq16ymgfmelm9zd381t0.us-west-2.aoss.amazonaws.com:443/booking-agent-index-06deab41 [status:200 request:1.043s]\n"
     ]
    },
    {
     "name": "stdout",
     "output_type": "stream",
     "text": [
      "{'acknowledged': True, 'shards_acknowledged': True, 'index': 'booking-agent-index-06deab41'}\n"
     ]
    }
   ],
   "source": [
    "# Set up AWS authentication\n",
    "service = 'aoss'\n",
    "credentials = boto3.Session().get_credentials()\n",
    "awsauth = auth = AWSV4SignerAuth(credentials, region, service)\n",
    "\n",
    "# Define index settings and mappings\n",
    "index_settings = {\n",
    "    \"settings\": {\n",
    "        \"index.knn\": \"true\"\n",
    "    },\n",
    "    \"mappings\": {\n",
    "        \"properties\": {\n",
    "            \"vector\": {\n",
    "                \"type\": \"knn_vector\",\n",
    "                \"dimension\": 1536,\n",
    "                 \"method\": {\n",
    "                     \"name\": \"hnsw\",\n",
    "                     \"engine\": \"faiss\",\n",
    "                     \"space_type\": \"innerproduct\",\n",
    "                     \"parameters\": {\n",
    "                         \"ef_construction\": 512,\n",
    "                         \"m\": 16\n",
    "                     },\n",
    "                 },\n",
    "             },\n",
    "            \"text\": {\n",
    "                \"type\": \"text\"\n",
    "            },\n",
    "            \"text-metadata\": {\n",
    "                \"type\": \"text\"\n",
    "            }\n",
    "        }\n",
    "    }\n",
    "}\n",
    "\n",
    "# Build the OpenSearch client\n",
    "oss_client = OpenSearch(\n",
    "    hosts=[{'host': host, 'port': 443}],\n",
    "    http_auth=awsauth,\n",
    "    use_ssl=True,\n",
    "    verify_certs=True,\n",
    "    connection_class=RequestsHttpConnection,\n",
    "    timeout=300\n",
    ")\n",
    "\n",
    "# Create index\n",
    "response = oss_client.indices.create(index=indexName,body=json.dumps(index_settings))\n",
    "print(response)"
   ]
  },
  {
   "cell_type": "markdown",
   "id": "3e5ddf2e-78ac-47a1-a82e-25db2480653d",
   "metadata": {},
   "source": [
    "### 3.2 Embedding Model ARN 정의\n",
    "Knowledge Bases for Amazon Bedrock에 데이터를 색인하는 데 사용할 임베딩 모델 ARN을 정의합니다."
   ]
  },
  {
   "cell_type": "code",
   "execution_count": 12,
   "id": "ccaf10e0-5eb0-4f22-938b-597267745da6",
   "metadata": {
    "tags": []
   },
   "outputs": [],
   "source": [
    "embeddingModelArn = \"arn:aws:bedrock:{}::foundation-model/amazon.titan-embed-text-v1\".format(region)"
   ]
  },
  {
   "cell_type": "markdown",
   "id": "1a3e8338-9f0d-4c2d-bfe0-8b2342c495e5",
   "metadata": {},
   "source": [
    "### 3.3 Knowledge Base 생성\n",
    "이 섹션에서는 이전에 생성한 Amazon Bedrock 실행 역할, 임베딩 모델 ARN 및 Opensearch 구성을 제공하는 Knowledge Base를 생성합니다. "
   ]
  },
  {
   "cell_type": "code",
   "execution_count": 14,
   "id": "689851fb-0cd3-46ec-9d73-88f8faccb230",
   "metadata": {
    "tags": []
   },
   "outputs": [],
   "source": [
    "knowledge_base_name = solution_id\n",
    "description = \"Agents for Amazon Bedrock와 결합할 수 있는 Restaurant KB 에시\"\n",
    "opensearchServerlessConfiguration = {\n",
    "            \"collectionArn\": collection[\"createCollectionDetail\"]['arn'],\n",
    "            \"vectorIndexName\": indexName,\n",
    "            \"fieldMapping\": {\n",
    "                \"vectorField\": \"vector\",\n",
    "                \"textField\": \"text\",\n",
    "                \"metadataField\": \"text-metadata\"\n",
    "            }\n",
    "        }"
   ]
  },
  {
   "cell_type": "code",
   "execution_count": 15,
   "id": "99f7ce3f-2ad9-4d7f-b641-091ef3b245c4",
   "metadata": {
    "tags": []
   },
   "outputs": [
    {
     "name": "stdout",
     "output_type": "stream",
     "text": [
      "{'createdAt': datetime.datetime(2024, 6, 8, 3, 18, 51, 883799, tzinfo=tzlocal()), 'description': 'Agents for Amazon Bedrock와 결합할 수 있는 Restaurant KB 에시', 'knowledgeBaseArn': 'arn:aws:bedrock:us-west-2:322537213286:knowledge-base/OZHOFK82QI', 'knowledgeBaseConfiguration': {'type': 'VECTOR', 'vectorKnowledgeBaseConfiguration': {'embeddingModelArn': 'arn:aws:bedrock:us-west-2::foundation-model/amazon.titan-embed-text-v1'}}, 'knowledgeBaseId': 'OZHOFK82QI', 'name': 'booking-agent', 'roleArn': 'arn:aws:iam::322537213286:role/AmazonBedrockExecutionRoleForKnowledgeBase_475', 'status': 'CREATING', 'storageConfiguration': {'opensearchServerlessConfiguration': {'collectionArn': 'arn:aws:aoss:us-west-2:322537213286:collection/pq16ymgfmelm9zd381t0', 'fieldMapping': {'metadataField': 'text-metadata', 'textField': 'text', 'vectorField': 'vector'}, 'vectorIndexName': 'booking-agent-index-06deab41'}, 'type': 'OPENSEARCH_SERVERLESS'}, 'updatedAt': datetime.datetime(2024, 6, 8, 3, 18, 51, 883799, tzinfo=tzlocal())}\n"
     ]
    }
   ],
   "source": [
    "@retry(wait_random_min=1000, wait_random_max=2000,stop_max_attempt_number=7)\n",
    "def create_knowledge_base_func():\n",
    "    create_kb_response = bedrock_agent_client.create_knowledge_base(\n",
    "        name = knowledge_base_name,\n",
    "        description = description,\n",
    "        roleArn = bedrock_kb_execution_role_arn,\n",
    "        knowledgeBaseConfiguration = {\n",
    "            \"type\": \"VECTOR\",\n",
    "            \"vectorKnowledgeBaseConfiguration\": {\n",
    "                \"embeddingModelArn\": embeddingModelArn\n",
    "            }\n",
    "        },\n",
    "        storageConfiguration = {\n",
    "            \"type\": \"OPENSEARCH_SERVERLESS\",\n",
    "            \"opensearchServerlessConfiguration\":opensearchServerlessConfiguration\n",
    "        }\n",
    "    )\n",
    "    return create_kb_response[\"knowledgeBase\"]\n",
    "\n",
    "try:\n",
    "    kb = create_knowledge_base_func()\n",
    "    kb_id = kb[\"knowledgeBaseId\"]\n",
    "    print(kb)\n",
    "except Exception as err:\n",
    "    print(f\"{err=}, {type(err)=}\")"
   ]
  },
  {
   "cell_type": "markdown",
   "id": "b3e10e55-73b4-48a5-9b9c-35a1098e9706",
   "metadata": {},
   "source": [
    "### 3.4 Create the data source (S3) 생성\n",
    "\n",
    "knowledge base 생성한 후, 데이터 소스를 knowledge base에 수집하여 색인화하여 쿼리할 수 있도록 합니다."
   ]
  },
  {
   "cell_type": "code",
   "execution_count": 16,
   "id": "752becef-325b-48de-9a2b-78ec931f1ccc",
   "metadata": {
    "tags": []
   },
   "outputs": [
    {
     "name": "stdout",
     "output_type": "stream",
     "text": [
      "The data source id is:  BOHBWOHX5G\n"
     ]
    }
   ],
   "source": [
    "chunkingStrategyConfiguration = {\n",
    "    \"chunkingStrategy\": \"FIXED_SIZE\",\n",
    "    \"fixedSizeChunkingConfiguration\": {\n",
    "        \"maxTokens\": 512,\n",
    "        \"overlapPercentage\": 20\n",
    "    }\n",
    "}\n",
    "\n",
    "s3Configuration = {\n",
    "    \"bucketArn\": f\"arn:aws:s3:::{bucket_name}\"\n",
    "}\n",
    "\n",
    "data_source = bedrock_agent_client.create_data_source(\n",
    "    knowledgeBaseId=kb_id,\n",
    "    name='restaurant-menus-source',\n",
    "    description='Location of the restaurant menus',\n",
    "    dataSourceConfiguration={\n",
    "        'type': 'S3',\n",
    "        's3Configuration': s3Configuration\n",
    "    },\n",
    "    vectorIngestionConfiguration={\n",
    "        'chunkingConfiguration': chunkingStrategyConfiguration\n",
    "    }\n",
    ")\n",
    "\n",
    "data_source_id = data_source[\"dataSource\"][\"dataSourceId\"]\n",
    "print(\"The data source id is: \", data_source_id)"
   ]
  },
  {
   "cell_type": "markdown",
   "id": "14312090-1365-4d1a-a6ea-7fddb00dbbc3",
   "metadata": {},
   "source": [
    "### 3.5 Knowledge Base 동기화\n",
    "데이터 소스를 만들고 Knowledge Base에 연결했으므로 데이터 동기화를 진행할 수 있습니다. \n",
    "\n",
    "\n",
    "데이터 소스에 대한 S3 버킷에서 파일을 추가, 수정 또는 제거할 때마다 데이터 소스를 동기화하여 Knowledge Base에 다시 색인되도록 해야 합니다. 동기화는 증분 방식으로 이루어지므로 Amazon Bedrock은 마지막 동기화 이후 추가, 수정 또는 삭제된 S3 버킷의 개체만 처리합니다."
   ]
  },
  {
   "cell_type": "code",
   "execution_count": 17,
   "id": "0d558744-e297-44c9-9764-ff6ada68b5ed",
   "metadata": {
    "tags": []
   },
   "outputs": [],
   "source": [
    "ingestion_job_response = bedrock_agent_client.start_ingestion_job(\n",
    "    knowledgeBaseId=kb_id,\n",
    "    dataSourceId=data_source_id,\n",
    "    description='Initial Ingestion'\n",
    ")"
   ]
  },
  {
   "cell_type": "code",
   "execution_count": 18,
   "id": "0fa8bb30-6a8d-4a8f-a7be-224241ba3364",
   "metadata": {
    "tags": []
   },
   "outputs": [
    {
     "name": "stdout",
     "output_type": "stream",
     "text": [
      "IN_PROGRESS\n",
      "IN_PROGRESS\n",
      "COMPLETE\n",
      "CPU times: user 7.86 ms, sys: 3.48 ms, total: 11.3 ms\n",
      "Wall time: 1min\n"
     ]
    }
   ],
   "source": [
    "%%time\n",
    "status = bedrock_agent_client.get_ingestion_job(\n",
    "    knowledgeBaseId=ingestion_job_response[\"ingestionJob\"][\"knowledgeBaseId\"],\n",
    "    dataSourceId=ingestion_job_response[\"ingestionJob\"][\"dataSourceId\"],\n",
    "    ingestionJobId=ingestion_job_response[\"ingestionJob\"][\"ingestionJobId\"]\n",
    ")[\"ingestionJob\"][\"status\"]\n",
    "print(status)\n",
    "while status not in [\"COMPLETE\", \"FAILED\", \"STOPPED\"]:\n",
    "    status = bedrock_agent_client.get_ingestion_job(\n",
    "        knowledgeBaseId=ingestion_job_response[\"ingestionJob\"][\"knowledgeBaseId\"],\n",
    "        dataSourceId=ingestion_job_response[\"ingestionJob\"][\"dataSourceId\"],\n",
    "        ingestionJobId=ingestion_job_response[\"ingestionJob\"][\"ingestionJobId\"]\n",
    "    )[\"ingestionJob\"][\"status\"]\n",
    "    print(status)\n",
    "    time.sleep(30)"
   ]
  },
  {
   "cell_type": "markdown",
   "id": "315e0df7-4008-4fb4-b28d-a4df6ff446f6",
   "metadata": {},
   "source": [
    "### 3.6 Knowledge Base 테스트\n",
    "이제 Knowlegde Base를 사용할 수 있게 되었으니 **retrieve** 및 **retrieve_and_생성** 함수를 사용하여 테스트해 볼 수 있습니다. "
   ]
  },
  {
   "cell_type": "code",
   "execution_count": 19,
   "id": "f199e822-6e06-4bac-9dbf-40ff0be98598",
   "metadata": {
    "tags": []
   },
   "outputs": [
    {
     "name": "stdout",
     "output_type": "stream",
     "text": [
      "The 5 mains available in the children's menu are:\n",
      "\n",
      "1. Mini Cheeseburgers - Small beef patties topped with cheese, served on mini buns.\n",
      "2. Fish Sticks - Breaded fish sticks served with tartar sauce.\n",
      "3. Grilled Cheese Sandwich - Melted cheese between slices of buttered bread, grilled to perfection.\n",
      "4. Spaghetti with Marinara Sauce - Kid-friendly spaghetti noodles topped with tomato marinara sauce.\n",
      "5. Mini Pita Pizza - Small pita bread topped with tomato sauce, cheese, and favorite toppings.\n",
      "\n"
     ]
    }
   ],
   "source": [
    "response = bedrock_agent_runtime_client.retrieve_and_generate(\n",
    "    input={\n",
    "        \"text\": \"Which are the 5 mains available in the childrens menu?\"\n",
    "    },\n",
    "    retrieveAndGenerateConfiguration={\n",
    "        \"type\": \"KNOWLEDGE_BASE\",\n",
    "        \"knowledgeBaseConfiguration\": {\n",
    "            'knowledgeBaseId': kb_id,\n",
    "            \"modelArn\": \"arn:aws:bedrock:{}::foundation-model/anthropic.claude-3-sonnet-20240229-v1:0\".format(region),\n",
    "            \"retrievalConfiguration\": {\n",
    "                \"vectorSearchConfiguration\": {\n",
    "                    \"numberOfResults\":5\n",
    "                } \n",
    "            }\n",
    "        }\n",
    "    }\n",
    ")\n",
    "\n",
    "print(response['output']['text'],end='\\n'*2)"
   ]
  },
  {
   "cell_type": "code",
   "execution_count": 23,
   "id": "34a3f96b-926a-411c-bef7-38c4689fed7b",
   "metadata": {
    "tags": []
   },
   "outputs": [
    {
     "name": "stdout",
     "output_type": "stream",
     "text": [
      "Chunk 1:  The Regrettable Experience — Children's Menu Entrees:   1. CHICKEN NUGGETS   ●   ●   ●   Description: Crispy chicken nuggets served with a side of ketchup or ranch dressing.   Allergens: Gluten (in the coating), possible Soy.   Suitable for Vegetarians: No   2. MACARONI AND CHEESE   ●   ●   ●   Description: Classic macaroni pasta smothered in creamy cheese sauce.   Allergens: Dairy, Gluten.   Suitable for Vegetarians: Yes   3. MINI CHEESE QUESADILLAS   ●   ●   ●   Description: Small flour tortillas filled with melted cheese, served with a mild salsa.   Allergens: Dairy, Gluten.   Suitable for Vegetarians: Yes   4. PEANUT BUTTER AND BANANA SANDWICH   ●   ●   ●   Description: Peanut butter and banana slices on whole wheat bread.   Allergens: Nuts (peanut), Gluten.   Suitable for Vegetarians: Yes (if using vegetarian peanut butter)   5. VEGGIE PITA POCKETS   ●   ●   ●   Description: Mini whole wheat pita pockets filled with hummus, cucumber, and cherry tomatoes.   Allergens: Gluten, possible Soy.   Suitable for Vegetarians: Yes   Mains:   1. MINI CHEESEBURGERS   ●   ●   ●   Description: Small beef patties topped with cheese, served on mini buns.   Allergens: Dairy, Gluten.   Suitable for Vegetarians: No   2. FISH STICKS   ●   ●   ●   Description: Breaded fish sticks served with tartar sauce.   Allergens: Gluten (in the breading), possible Soy.   Suitable for Vegetarians: No        3. GRILLED CHEESE SANDWICH   ●   ●   ●   Description: Melted cheese between slices of buttered bread, grilled to perfection.   Allergens: Dairy, Gluten.   Suitable for Vegetarians: Yes   4. SPAGHETTI WITH MARINARA SAUCE   ●   ●   ●   Description: Kid-friendly spaghetti noodles topped with tomato marinara sauce.   Allergens: Gluten.   Suitable for Vegetarians: Yes   5.\n",
      "\n",
      "Chunk 1 Location:  {'s3Location': {'uri': 's3://booking-agent-us-west-2-322537213286/Restaurant_Childrens_Menu.pdf'}, 'type': 'S3'}\n",
      "\n",
      "Chunk 1 Score:  1.3962294\n",
      "\n",
      "Chunk 1 Metadata:  {'x-amz-bedrock-kb-source-uri': 's3://booking-agent-us-west-2-322537213286/Restaurant_Childrens_Menu.pdf'}\n",
      "\n",
      "Chunk 2:  Allergens: Dairy, Gluten.   Suitable for Vegetarians: Yes   4. SPAGHETTI WITH MARINARA SAUCE   ●   ●   ●   Description: Kid-friendly spaghetti noodles topped with tomato marinara sauce.   Allergens: Gluten.   Suitable for Vegetarians: Yes   5. MINI PITA PIZZA   ●   ●   ●   Description: Small pita bread topped with tomato sauce, cheese, and favorite toppings.   Allergens: Dairy, Gluten.   Suitable for Vegetarians: Yes   Desserts:   1. MINI ICE CREAM SUNDAE   ●   ●   ●   Description: A scoop of vanilla ice cream with chocolate sauce and rainbow sprinkles.   Allergens: Dairy.   Suitable for Vegetarians: Yes   2. FRUIT KABOBS   ●   ●   ●   Description: Fresh fruit chunks on skewers for a fun and healthy dessert.   Allergens: None.   Suitable for Vegetarians: Yes   3. CHOCOLATE CHIP COOKIE BITES   ●   ●   ●   Description: Bite-sized chocolate chip cookies.   Allergens: Dairy, Gluten.   Suitable for Vegetarians: Yes   4. BANANA SPLIT   ●   ●   ●   Description: Sliced banana with scoops of strawberry, chocolate, and vanilla ice cream, topped with whipped cream and a cherry.   Allergens: Dairy.   Suitable for Vegetarians: Yes   5. JELLO CUPS   ●   ●   Description: Colorful and wiggly gelatin cups.   Allergens: None.        ● Suitable for Vegetarians: Yes\n",
      "\n",
      "Chunk 2 Location:  {'s3Location': {'uri': 's3://booking-agent-us-west-2-322537213286/Restaurant_Childrens_Menu.pdf'}, 'type': 'S3'}\n",
      "\n",
      "Chunk 2 Score:  1.3080974\n",
      "\n",
      "Chunk 2 Metadata:  {'x-amz-bedrock-kb-source-uri': 's3://booking-agent-us-west-2-322537213286/Restaurant_Childrens_Menu.pdf'}\n",
      "\n",
      "Chunk 3:  The Regrettable Experience -- Dinner Menu Entrees:   1. BUFFALO CHICKEN WINGS   ●   ●   Description: Classic buffalo wings served with celery sticks and blue cheese dressing.   Allergens: Dairy (in blue cheese dressing), Gluten (in the coating), possible Soy (in the sauce).   2. SHRIMP AND GRITS   ●   ●   Description: Succulent shrimp sautéed in a flavorful sauce, served over creamy cheese grits.   Allergens: Dairy (in the cheese grits).   3. CAPRESE SALAD STUFFED AVOCADO   ●   ●   Description: Avocado halves filled with a fresh caprese salad of tomatoes, mozzarella, and basil, drizzled with balsamic glaze.   Allergens: Dairy (in mozzarella), potential Tree Nuts (if using balsamic glaze with nuts).   4. LOADED POTATO SKINS   ●   ●   Description: Crispy potato skins filled with melted cheddar cheese, bacon bits, green onions, and a dollop of sour cream.   Allergens: Dairy (in cheese and sour cream), possible Soy (in bacon bits).   5. VEGETARIAN CHILI   ●   ●   Description: Hearty chili made with a variety of beans, vegetables, and spices, topped with shredded cheese and chopped green onions.   Allergens: None in the basic recipe, but be mindful of specific dietary restrictions.   Mains:   1. GRILLED BBQ CHICKEN   ●   ●   Description: Juicy grilled chicken breasts slathered in smoky barbecue sauce, served with coleslaw and baked beans.   Allergens: Possible Gluten (in barbecue sauce), potential Soy (in marinade).   2. SOUTHERN FRIED CATFISH   ●   ●   Description: Cornmeal-crusted catfish fillets, fried to perfection and served with hushpuppies and tartar sauce.   Allergens: Gluten (in the breading).   3. BBQ PULLED PORK SANDWICHES   ●   ●   Description: Slow-cooked pulled pork in tangy barbecue sauce, piled high on a bun and served with coleslaw.   Allergens: Possible Gluten (in barbecue sauce, bun), potential Soy (in sauce).   4.\n",
      "\n",
      "Chunk 3 Location:  {'s3Location': {'uri': 's3://booking-agent-us-west-2-322537213286/Restaurant_Dinner_Menu.pdf'}, 'type': 'S3'}\n",
      "\n",
      "Chunk 3 Score:  1.2712302\n",
      "\n",
      "Chunk 3 Metadata:  {'x-amz-bedrock-kb-source-uri': 's3://booking-agent-us-west-2-322537213286/Restaurant_Dinner_Menu.pdf'}\n",
      "\n",
      "Chunk 4:  Allergens: Gluten (in the breading).   3. BBQ PULLED PORK SANDWICHES   ●   ●   Description: Slow-cooked pulled pork in tangy barbecue sauce, piled high on a bun and served with coleslaw.   Allergens: Possible Gluten (in barbecue sauce, bun), potential Soy (in sauce).   4. STEAK WITH GARLIC BUTTER        ●   ●   Description: Grilled sirloin steak seasoned with garlic butter, accompanied by loaded mashed potatoes and sautéed vegetables.   Allergens: Dairy (in garlic butter), potential Soy (in marinade).   5. VEGETABLE STIR-FRY WITH TOFU   ●   ●   Description: Stir-fried tofu and a colorful medley of vegetables in a savory soy-ginger sauce, served over jasmine rice.   Allergens: Soy (in tofu and sauce).   Desserts:   1. CLASSIC NEW YORK CHEESECAKE   ●   ●   Description: Creamy cheesecake with a graham cracker crust, topped with a choice of fruit compote or chocolate ganache.   Allergens: Dairy (in cheesecake), Gluten (in the crust).   2. APPLE PIE A LA MODE   ●   ●   Description: Warm apple pie with a flaky crust, served with a scoop of vanilla ice cream and a drizzle of caramel sauce.   Allergens: Dairy (in ice cream), Gluten (in pie crust).   3. CHOCOLATE LAVA CAKE   ●   ●   Description: Rich and gooey chocolate cake with a molten center, dusted with powdered sugar and served with a scoop of raspberry sorbet.   Allergens: Dairy (in cake), possible Gluten (depending on recipe), potential Soy (in chocolate).   4. PECAN PIE BARS   ●   ●   Description: Buttery shortbread crust topped with a gooey pecan filling, cut into bars for easy serving.   Allergens: Dairy (in crust), Nuts (in pecan filling), Gluten (in crust).   5. BANANA PUDDING PARFAIT   ●   ●   Description: Layers of vanilla pudding, sliced bananas, and vanilla wafers, topped with whipped cream and a sprinkle of crushed nuts.   Allergens: Dairy (in pudding), Gluten (in wafers).\n",
      "\n",
      "Chunk 4 Location:  {'s3Location': {'uri': 's3://booking-agent-us-west-2-322537213286/Restaurant_Dinner_Menu.pdf'}, 'type': 'S3'}\n",
      "\n",
      "Chunk 4 Score:  1.25946\n",
      "\n",
      "Chunk 4 Metadata:  {'x-amz-bedrock-kb-source-uri': 's3://booking-agent-us-west-2-322537213286/Restaurant_Dinner_Menu.pdf'}\n",
      "\n"
     ]
    }
   ],
   "source": [
    "response_ret = bedrock_agent_runtime_client.retrieve(\n",
    "    knowledgeBaseId=kb_id, \n",
    "    nextToken='string',\n",
    "    retrievalConfiguration={\n",
    "        \"vectorSearchConfiguration\": {\n",
    "            \"numberOfResults\":5,\n",
    "                } \n",
    "            },\n",
    "    retrievalQuery={\n",
    "        'text': '어린이 메뉴로 이용할 수 있는 5가지 메인 메뉴는 무엇인가요?'\n",
    "            \n",
    "        }\n",
    ")\n",
    "\n",
    "def response_print(retrieve_resp):\n",
    "#structure 'retrievalResults': list of contents\n",
    "# each list has content,location,score,metadata\n",
    "    for num,chunk in enumerate(response_ret['retrievalResults'],1):\n",
    "        print(f'Chunk {num}: ',chunk['content']['text'],end='\\n'*2)\n",
    "        print(f'Chunk {num} Location: ',chunk['location'],end='\\n'*2)\n",
    "        print(f'Chunk {num} Score: ',chunk['score'],end='\\n'*2)\n",
    "        print(f'Chunk {num} Metadata: ',chunk['metadata'],end='\\n'*2)\n",
    "\n",
    "response_print(response_ret)"
   ]
  },
  {
   "cell_type": "markdown",
   "id": "e032c452-4feb-406d-aa6e-b85a59aded79",
   "metadata": {},
   "source": [
    "## 4. Agent for Amazon Bedrock 생성\n",
    "\n",
    "이 섹션에서는 Agent for Amazon Bedrock를 생성하는 모든 단계를 살펴봅니다. \n",
    "\n",
    "완료해야 할 단계는 다음과 같습니다:\n",
    "    \n",
    "1. Amazon DynamoDB 테이블 생성\n",
    "2. AWS Lambda function 생성\n",
    "3. 에이전트에 필요한 IAM 정책 생성\n",
    "4. Agent 생성\n",
    "5. Agent Action Group 만들기\n",
    "6. Agent가 Action Group Lambda를 호출하도록 허용\n",
    "7. Knowledge Base를 agent에게 연결\n",
    "8. Agent 준비 및 alias 생성"
   ]
  },
  {
   "cell_type": "markdown",
   "id": "c5edf3bd-3214-4fe3-a9bc-df927e30b8b4",
   "metadata": {},
   "source": [
    "### 4.1 Create the DynamoDB table 생성\n",
    "레스토랑 예약 정보가 포함된 DynamoDB 테이블을 생성합니다."
   ]
  },
  {
   "cell_type": "code",
   "execution_count": 21,
   "id": "18ff65c0-0207-4e34-932f-6d291f4d5c8d",
   "metadata": {
    "tags": []
   },
   "outputs": [
    {
     "name": "stdout",
     "output_type": "stream",
     "text": [
      "Creating table restaurant_bookings...\n",
      "Table restaurant_bookings created successfully!\n"
     ]
    }
   ],
   "source": [
    "table_name = 'restaurant_bookings'\n",
    "table = dynamodb_resource.create_table(\n",
    "    TableName=table_name,\n",
    "    KeySchema=[\n",
    "        {\n",
    "            'AttributeName': 'booking_id',\n",
    "            'KeyType': 'HASH'\n",
    "        }\n",
    "    ],\n",
    "    AttributeDefinitions=[\n",
    "        {\n",
    "            'AttributeName': 'booking_id',\n",
    "            'AttributeType': 'S'\n",
    "        }\n",
    "    ],\n",
    "    BillingMode='PAY_PER_REQUEST'  # Use on-demand capacity mode\n",
    ")\n",
    "\n",
    "# Wait for the table to be created\n",
    "print(f'Creating table {table_name}...')\n",
    "table.wait_until_exists()\n",
    "print(f'Table {table_name} created successfully!')"
   ]
  },
  {
   "cell_type": "markdown",
   "id": "8460c785-e13f-4182-84d7-3bf7aafd3842",
   "metadata": {},
   "source": [
    "### 4.2 Lambda Function 생성\n",
    "\n",
    "이제 DynamoDB 테이블과 상호 작용하는 람다 함수를 만들어 보겠습니다. 이를 위해 다음과 같이 하겠습니다:\n",
    "\n",
    "1. 람다 함수에 대한 로직이 포함된 `lambda_function.py` 파일을 생성합니다.\n",
    "2. 람다 함수에 대한 IAM 역할을 생성합니다.\n",
    "3. 필요한 권한으로 람다 함수를 생성합니다."
   ]
  },
  {
   "cell_type": "markdown",
   "id": "68871530-2953-4a37-854e-10323cabf095",
   "metadata": {},
   "source": [
    "#### Create the function code"
   ]
  },
  {
   "cell_type": "code",
   "execution_count": 22,
   "id": "12271f1f-4739-472b-8909-cc81c148a941",
   "metadata": {
    "tags": []
   },
   "outputs": [
    {
     "name": "stdout",
     "output_type": "stream",
     "text": [
      "Overwriting lambda_function.py\n"
     ]
    }
   ],
   "source": [
    "%%writefile lambda_function.py\n",
    "import json\n",
    "import uuid\n",
    "import boto3\n",
    "\n",
    "dynamodb = boto3.resource('dynamodb')\n",
    "table = dynamodb.Table('restaurant_bookings')\n",
    "\n",
    "def get_booking_details(booking_id):\n",
    "    try:\n",
    "        response = table.get_item(Key={'booking_id': booking_id})\n",
    "        if 'Item' in response:\n",
    "            return response['Item']\n",
    "        else:\n",
    "            return {'message': f'{booking_id} ID로 예약을 찾을 수 없습니다.'}\n",
    "    except Exception as e:\n",
    "        return {'error': str(e)}\n",
    "\n",
    "def create_booking(date, hour, num_guests):\n",
    "    try:\n",
    "        booking_id = str(uuid.uuid4())[:8]\n",
    "        table.put_item(\n",
    "            Item={\n",
    "                'booking_id': booking_id,\n",
    "                'date': date,\n",
    "                'hour': hour,\n",
    "                'num_guests': num_guests\n",
    "            }\n",
    "        )\n",
    "        return {'booking_id': booking_id}\n",
    "    except Exception as e:\n",
    "        return {'error': str(e)}\n",
    "\n",
    "def delete_booking(booking_id):\n",
    "    try:\n",
    "        response = table.delete_item(Key={'booking_id': booking_id})\n",
    "        if response['ResponseMetadata']['HTTPStatusCode'] == 200:\n",
    "            return {'message': f'Booking with ID {booking_id} deleted successfully'}\n",
    "        else:\n",
    "            return {'message': f'{booking_id} ID로 예약을 삭제하지 못했습니다.'}\n",
    "    except Exception as e:\n",
    "        return {'error': str(e)}\n",
    "\n",
    "def lambda_handler(event, context):\n",
    "    actionGroup = event.get('actionGroup', '')\n",
    "    function = event.get('function', '')\n",
    "    parameters = event.get('parameters', [])\n",
    "\n",
    "    if function == 'get_booking_details':\n",
    "        booking_id = None\n",
    "        for param in parameters:\n",
    "            if param[\"name\"] == \"booking_id\":\n",
    "                booking_id = param[\"value\"]\n",
    "\n",
    "        if booking_id:\n",
    "            response = str(get_booking_details(booking_id))\n",
    "            responseBody = {'TEXT': {'body': json.dumps(response)}}\n",
    "        else:\n",
    "            responseBody = {'TEXT': {'body': 'Missing booking_id parameter'}}\n",
    "\n",
    "    elif function == 'create_booking':\n",
    "        date = None\n",
    "        hour = None\n",
    "        num_guests = None\n",
    "        for param in parameters:\n",
    "            if param[\"name\"] == \"date\":\n",
    "                date = param[\"value\"]\n",
    "            if param[\"name\"] == \"hour\":\n",
    "                hour = param[\"value\"]\n",
    "            if param[\"name\"] == \"num_guests\":\n",
    "                num_guests = int(param[\"value\"])\n",
    "\n",
    "        if date and hour and num_guests:\n",
    "            response = str(create_booking(date, hour, num_guests))\n",
    "            responseBody = {'TEXT': {'body': json.dumps(response)}}\n",
    "        else:\n",
    "            responseBody = {'TEXT': {'body': 'Missing required parameters'}}\n",
    "\n",
    "    elif function == 'delete_booking':\n",
    "        booking_id = None\n",
    "        for param in parameters:\n",
    "            if param[\"name\"] == \"booking_id\":\n",
    "                booking_id = param[\"value\"]\n",
    "\n",
    "        if booking_id:\n",
    "            response = str(delete_booking(booking_id))\n",
    "            responseBody = {'TEXT': {'body': json.dumps(response)}}\n",
    "        else:\n",
    "            responseBody = {'TEXT': {'body': 'Missing booking_id parameter'}}\n",
    "\n",
    "    else:\n",
    "        responseBody = {'TEXT': {'body': 'Invalid function'}}\n",
    "\n",
    "    action_response = {\n",
    "        'actionGroup': actionGroup,\n",
    "        'function': function,\n",
    "        'functionResponse': {\n",
    "            'responseBody': responseBody\n",
    "        }\n",
    "    }\n",
    "\n",
    "    function_response = {'response': action_response, 'messageVersion': event['messageVersion']}\n",
    "    print(\"Response: {}\".format(function_response))\n",
    "\n",
    "    return function_response"
   ]
  },
  {
   "cell_type": "markdown",
   "id": "b8a4eefa-0ee8-4505-bba4-b62f5ba54a79",
   "metadata": {},
   "source": [
    "#### Create the required permissions"
   ]
  },
  {
   "cell_type": "code",
   "execution_count": null,
   "id": "490addc9-16a0-48e1-bd8f-02abb56bb520",
   "metadata": {},
   "outputs": [],
   "source": [
    "lambda_function_role = f'{solution_id}-lambda-role'"
   ]
  },
  {
   "cell_type": "code",
   "execution_count": null,
   "id": "4472bbc9-ef63-4a1b-a2fd-73f0630b26cf",
   "metadata": {},
   "outputs": [],
   "source": [
    "# Create IAM Role for the Lambda function\n",
    "try:\n",
    "    assume_role_policy_document = {\n",
    "        \"Version\": \"2012-10-17\",\n",
    "        \"Statement\": [\n",
    "            {\n",
    "                \"Effect\": \"Allow\",\n",
    "                \"Principal\": {\n",
    "                    \"Service\": \"lambda.amazonaws.com\"\n",
    "                },\n",
    "                \"Action\": \"sts:AssumeRole\"\n",
    "            }\n",
    "        ]\n",
    "    }\n",
    "\n",
    "    assume_role_policy_document_json = json.dumps(assume_role_policy_document)\n",
    "\n",
    "    lambda_iam_role = iam_client.create_role(\n",
    "        RoleName=lambda_function_role,\n",
    "        AssumeRolePolicyDocument=assume_role_policy_document_json\n",
    "    )\n",
    "\n",
    "    # Pause to make sure role is created\n",
    "    time.sleep(10)\n",
    "except:\n",
    "    lambda_iam_role = iam_client.get_role(RoleName=lambda_function_role)\n",
    "\n",
    "# Attach the AWSLambdaBasicExecutionRole policy\n",
    "iam_client.attach_role_policy(\n",
    "    RoleName=lambda_function_role,\n",
    "    PolicyArn='arn:aws:iam::aws:policy/service-role/AWSLambdaBasicExecutionRole'\n",
    ")\n",
    "\n",
    "# Create a policy to grant access to the DynamoDB table\n",
    "dynamodb_access_policy = {\n",
    "    \"Version\": \"2012-10-17\",\n",
    "    \"Statement\": [\n",
    "        {\n",
    "            \"Effect\": \"Allow\",\n",
    "            \"Action\": [\n",
    "                \"dynamodb:GetItem\",\n",
    "                \"dynamodb:PutItem\",\n",
    "                \"dynamodb:DeleteItem\"\n",
    "            ],\n",
    "            \"Resource\": \"arn:aws:dynamodb:{}:{}:table/{}\".format(region, account_id, table_name)\n",
    "        }\n",
    "    ]\n",
    "}\n",
    "\n",
    "# Create the policy\n",
    "dynamodb_access_policy_json = json.dumps(dynamodb_access_policy)\n",
    "dynamodb_access_policy_response = iam_client.create_policy(\n",
    "    PolicyName='{}-DynamoDBAccessPolicy'.format(solution_id),\n",
    "    PolicyDocument=dynamodb_access_policy_json\n",
    ")\n",
    "\n",
    "# Attach the policy to the Lambda function's role\n",
    "iam_client.attach_role_policy(\n",
    "    RoleName=lambda_function_role,\n",
    "    PolicyArn=dynamodb_access_policy_response['Policy']['Arn']\n",
    ")"
   ]
  },
  {
   "cell_type": "markdown",
   "id": "17ed0c0d-7826-4a84-b1cf-34059c87701a",
   "metadata": {},
   "source": [
    "#### Create the function "
   ]
  },
  {
   "cell_type": "code",
   "execution_count": null,
   "id": "682ea2b4-5654-4e2f-b3dd-bc763a3c5918",
   "metadata": {},
   "outputs": [],
   "source": [
    "lambda_function_name = f'{solution_id}-lambda'"
   ]
  },
  {
   "cell_type": "code",
   "execution_count": null,
   "id": "1cfb2214-9a2e-4521-9d69-3d1c6117c2c3",
   "metadata": {},
   "outputs": [],
   "source": [
    "# Package up the lambda function code\n",
    "s = BytesIO()\n",
    "z = zipfile.ZipFile(s, 'w')\n",
    "z.write(\"lambda_function.py\")\n",
    "z.close()\n",
    "zip_content = s.getvalue()\n",
    "\n",
    "# Create Lambda Function\n",
    "lambda_function = lambda_client.create_function(\n",
    "    FunctionName=lambda_function_name,\n",
    "    Runtime='python3.12',\n",
    "    Timeout=60,\n",
    "    Role=lambda_iam_role['Role']['Arn'],\n",
    "    Code={'ZipFile': zip_content},\n",
    "    Handler='lambda_function.lambda_handler'\n",
    ")"
   ]
  },
  {
   "cell_type": "markdown",
   "id": "aef843aa-9f0f-473f-ab4e-1c4827974b87",
   "metadata": {},
   "source": [
    "### 4.3 Create the IAM policies needed for the Agent\n",
    "We first need to create the agent policies that allow bedrock model invocation and Knowledge Base query and the agent IAM role with the policy associated to it. We will allow this agent to invoke the Claude Sonnet model"
   ]
  },
  {
   "cell_type": "code",
   "execution_count": null,
   "id": "1018b2c3-f91d-4701-8730-e793739906c1",
   "metadata": {},
   "outputs": [],
   "source": [
    "agent_bedrock_allow_policy_name = f\"{solution_id}-ba\"\n",
    "agent_role_name = f'AmazonBedrockExecutionRoleForAgents_{solution_id}'\n",
    "agent_foundation_model = \"anthropic.claude-3-sonnet-20240229-v1:0\""
   ]
  },
  {
   "cell_type": "code",
   "execution_count": null,
   "id": "aa92a151-36ca-4099-8bc6-156b49b0c3e4",
   "metadata": {},
   "outputs": [],
   "source": [
    "# Create IAM policies for agent\n",
    "bedrock_agent_bedrock_allow_policy_statement = {\n",
    "    \"Version\": \"2012-10-17\",\n",
    "    \"Statement\": [\n",
    "        {\n",
    "            \"Sid\": \"AmazonBedrockAgentBedrockFoundationModelPolicy\",\n",
    "            \"Effect\": \"Allow\",\n",
    "            \"Action\": \"bedrock:InvokeModel\",\n",
    "            \"Resource\": [\n",
    "                f\"arn:aws:bedrock:{region}::foundation-model/{agent_foundation_model}\"\n",
    "            ]\n",
    "        },\n",
    "        {\n",
    "            \"Sid\": \"QueryKB\",\n",
    "            \"Effect\": \"Allow\",\n",
    "            \"Action\": [\n",
    "                \"bedrock:Retrieve\",\n",
    "                \"bedrock:RetrieveAndGenerate\"\n",
    "            ],\n",
    "            \"Resource\": [\n",
    "                f\"arn:aws:bedrock:{region}:{account_id}:knowledge-base/{kb_id}\"\n",
    "            ]\n",
    "        },\n",
    "    ]\n",
    "}\n",
    "\n",
    "bedrock_policy_json = json.dumps(bedrock_agent_bedrock_allow_policy_statement)\n",
    "\n",
    "agent_bedrock_policy = iam_client.create_policy(\n",
    "    PolicyName=agent_bedrock_allow_policy_name,\n",
    "    PolicyDocument=bedrock_policy_json\n",
    ")"
   ]
  },
  {
   "cell_type": "code",
   "execution_count": null,
   "id": "dd45ef4e-1f2d-4747-a16e-f64fc6f865f5",
   "metadata": {},
   "outputs": [],
   "source": [
    "# Create IAM Role for the agent and attach IAM policies\n",
    "assume_role_policy_document = {\n",
    "    \"Version\": \"2012-10-17\",\n",
    "    \"Statement\": [{\n",
    "          \"Effect\": \"Allow\",\n",
    "          \"Principal\": {\n",
    "            \"Service\": \"bedrock.amazonaws.com\"\n",
    "          },\n",
    "          \"Action\": \"sts:AssumeRole\"\n",
    "    }]\n",
    "}\n",
    "\n",
    "assume_role_policy_document_json = json.dumps(assume_role_policy_document)\n",
    "agent_role = iam_client.create_role(\n",
    "    RoleName=agent_role_name,\n",
    "    AssumeRolePolicyDocument=assume_role_policy_document_json\n",
    ")\n",
    "\n",
    "# Pause to make sure role is created\n",
    "time.sleep(10)\n",
    "    \n",
    "iam_client.attach_role_policy(\n",
    "    RoleName=agent_role_name,\n",
    "    PolicyArn=agent_bedrock_policy['Policy']['Arn']\n",
    ")"
   ]
  },
  {
   "cell_type": "markdown",
   "id": "595bf767-3a26-4f92-b629-ba2908b90d81",
   "metadata": {},
   "source": [
    "### 4.4 Create the Agent\n",
    "Once the needed IAM role is created, we can use the bedrock agent client to create a new agent. To do so we use the `create_agent` function. It requires an agent name, underline foundation model and instruction. You can also provide an agent description. Note that the agent created is not yet prepared. We will focus on preparing the agent and then using it to invoke actions and use other APIs"
   ]
  },
  {
   "cell_type": "code",
   "execution_count": null,
   "id": "82654f5f-26ae-4fdd-ab71-94a4c5b77d69",
   "metadata": {},
   "outputs": [],
   "source": [
    "\n",
    "agent_description = \"Agent in charge of a restaurants table bookings\"\n",
    "agent_instruction = \"\"\"\n",
    "You are a restaurant agent, helping clients retrieve information from their booking, \n",
    "create a new booking or delete an existing booking\n",
    "\"\"\""
   ]
  },
  {
   "cell_type": "code",
   "execution_count": null,
   "id": "7ccaf856-7eff-4bd1-ac47-c89b6fbf7e8f",
   "metadata": {},
   "outputs": [],
   "source": [
    "response = bedrock_agent_client.create_agent(\n",
    "    agentName=agent_name,\n",
    "    agentResourceRoleArn=agent_role['Role']['Arn'],\n",
    "    description=agent_description,\n",
    "    idleSessionTTLInSeconds=1800,\n",
    "    foundationModel=agent_foundation_model,\n",
    "    instruction=agent_instruction,\n",
    ")\n",
    "response"
   ]
  },
  {
   "cell_type": "code",
   "execution_count": null,
   "id": "40c48d3c-ed67-450b-b840-23ec1a99fee7",
   "metadata": {},
   "outputs": [],
   "source": [
    "agent_id = response['agent']['agentId']\n",
    "print(\"The agent id is:\",agent_id)"
   ]
  },
  {
   "cell_type": "markdown",
   "id": "3f30f874-eb63-4ec3-8c19-36fab0f598df",
   "metadata": {},
   "source": [
    "### 4.5 Create the Agent Action Group\n",
    "We will now create an agent action group that uses the lambda function created before. The [`create_agent_action_group`](https://boto3.amazonaws.com/v1/documentation/api/latest/reference/services/bedrock-agent/client/create_agent_action_group.html) function provides this functionality. We will use `DRAFT` as the agent version since we haven't yet created an agent version or alias. To inform the agent about the action group functionalities, we will provide an action group description containing the functionalities of the action group.\n",
    "\n",
    "In this example, we will provide the Action Group functionality using a `functionSchema`.\n",
    "\n",
    "To define the functions using a function schema, you need to provide the `name`, `description` and `parameters` for each function."
   ]
  },
  {
   "cell_type": "code",
   "execution_count": null,
   "id": "91c4c380-ca58-467a-ab67-b475605a0274",
   "metadata": {},
   "outputs": [],
   "source": [
    "agent_functions = [\n",
    "    {\n",
    "        'name': 'get_booking_details',\n",
    "        'description': 'Retrieve details of a restaurant booking',\n",
    "        'parameters': {\n",
    "            \"booking_id\": {\n",
    "                \"description\": \"The ID of the booking to retrieve\",\n",
    "                \"required\": True,\n",
    "                \"type\": \"string\"\n",
    "            }\n",
    "        }\n",
    "    },\n",
    "    {\n",
    "        'name': 'create_booking',\n",
    "        'description': 'Create a new restaurant booking',\n",
    "        'parameters': {\n",
    "            \"date\": {\n",
    "                \"description\": \"The date of the booking\",\n",
    "                \"required\": True,\n",
    "                \"type\": \"string\"\n",
    "            },\n",
    "            \"hour\": {\n",
    "                \"description\": \"The hour of the booking\",\n",
    "                \"required\": True,\n",
    "                \"type\": \"string\"\n",
    "            },\n",
    "            \"num_guests\": {\n",
    "                \"description\": \"The number of guests for the booking\",\n",
    "                \"required\": True,\n",
    "                \"type\": \"integer\"\n",
    "            }\n",
    "        }\n",
    "    },\n",
    "    {\n",
    "        'name': 'delete_booking',\n",
    "        'description': 'Delete an existing restaurant booking',\n",
    "        'parameters': {\n",
    "            \"booking_id\": {\n",
    "                \"description\": \"The ID of the booking to delete\",\n",
    "                \"required\": True,\n",
    "                \"type\": \"string\"\n",
    "            }\n",
    "        }\n",
    "    },\n",
    "]"
   ]
  },
  {
   "cell_type": "code",
   "execution_count": null,
   "id": "5f985d4e-2bb8-4648-9dc6-eec92a0d94f5",
   "metadata": {},
   "outputs": [],
   "source": [
    "agent_action_group_description = \"\"\"\n",
    "Actions for getting table booking information, create a new booking or delete an existing booking\"\"\"\n",
    "\n",
    "agent_action_group_name = \"TableBookingsActionGroup\""
   ]
  },
  {
   "cell_type": "code",
   "execution_count": null,
   "id": "24559f1c-e081-4f03-959f-a82f9444aa49",
   "metadata": {},
   "outputs": [],
   "source": [
    "# Pause to make sure agent is created\n",
    "time.sleep(30)\n",
    "\n",
    "# Now, we can configure and create an action group here:\n",
    "agent_action_group_response = bedrock_agent_client.create_agent_action_group(\n",
    "    agentId=agent_id,\n",
    "    agentVersion='DRAFT',\n",
    "    actionGroupExecutor={\n",
    "        'lambda': lambda_function['FunctionArn']\n",
    "    },\n",
    "    actionGroupName=agent_action_group_name,\n",
    "    functionSchema={\n",
    "        'functions': agent_functions\n",
    "    },\n",
    "    description=agent_action_group_description\n",
    ")"
   ]
  },
  {
   "cell_type": "code",
   "execution_count": null,
   "id": "0a0c3eeb-37f3-4ec9-88d4-43c5306c3195",
   "metadata": {},
   "outputs": [],
   "source": [
    "agent_action_group_response"
   ]
  },
  {
   "cell_type": "markdown",
   "id": "b7d27e07-7d4c-4c59-987d-41a606c6af65",
   "metadata": {},
   "source": [
    "### 4.6 Allow the Agent to invoke the Action Group Lambda\n",
    "Before using the action group, we need to allow the agent to invoke the lambda function associated with the action group. This is done via resource-based policy. Let's add the resource-based policy to the lambda function created"
   ]
  },
  {
   "cell_type": "code",
   "execution_count": null,
   "id": "3262f6dd-fb05-4351-904d-8097c0f52134",
   "metadata": {},
   "outputs": [],
   "source": [
    "# Create allow invoke permission on lambda\n",
    "response = lambda_client.add_permission(\n",
    "    FunctionName=lambda_function_name,\n",
    "    StatementId='allow_bedrock',\n",
    "    Action='lambda:InvokeFunction',\n",
    "    Principal='bedrock.amazonaws.com',\n",
    "    SourceArn=f\"arn:aws:bedrock:{region}:{account_id}:agent/{agent_id}\",\n",
    ")\n"
   ]
  },
  {
   "cell_type": "code",
   "execution_count": null,
   "id": "eb3b8c21-f14a-4645-b28e-3ac9a50f1f7f",
   "metadata": {},
   "outputs": [],
   "source": [
    "response"
   ]
  },
  {
   "cell_type": "markdown",
   "id": "2c8536a4-e625-464c-bae2-d28dba82c556",
   "metadata": {},
   "source": [
    "### 4.7 Associate the Knowledge Base to the agent\n",
    "Now we have created the Agent we can go ahead and associate the Knowledge Base we created earlier. "
   ]
  },
  {
   "cell_type": "code",
   "execution_count": null,
   "id": "95c7b781-7e82-47b6-a268-237fa97ab58d",
   "metadata": {},
   "outputs": [],
   "source": [
    "response = bedrock_agent_client.associate_agent_knowledge_base(\n",
    "    agentId=agent_id,\n",
    "    agentVersion='DRAFT',\n",
    "    description='Access the knowledge base when customers ask about the plates in the menu.',\n",
    "    knowledgeBaseId=kb_id,\n",
    "    knowledgeBaseState='ENABLED'\n",
    ")"
   ]
  },
  {
   "cell_type": "code",
   "execution_count": null,
   "id": "0c72b5ee-2479-41b2-93e1-fd7aa66da08d",
   "metadata": {},
   "outputs": [],
   "source": [
    "response"
   ]
  },
  {
   "cell_type": "markdown",
   "id": "b42a8caf-4c76-4760-a7cd-4c6b189f9f5b",
   "metadata": {},
   "source": [
    "### 4.8 Prepare the Agent and create an alias\n",
    "\n",
    "Let's create a DRAFT version of the agent that can be used for internal testing.\n"
   ]
  },
  {
   "cell_type": "code",
   "execution_count": null,
   "id": "4013c967-9a14-4689-b0b5-61aa4f75748c",
   "metadata": {},
   "outputs": [],
   "source": [
    "response = bedrock_agent_client.prepare_agent(\n",
    "    agentId=agent_id\n",
    ")\n",
    "print(response)"
   ]
  },
  {
   "cell_type": "markdown",
   "id": "4c2f477d-60b5-4135-bfe4-e9af3874d611",
   "metadata": {},
   "source": [
    "We are also going to create an Agent alias to later on use to invoke it"
   ]
  },
  {
   "cell_type": "code",
   "execution_count": null,
   "id": "b9889aaf-9238-479d-b9f1-2ab13b1ec9c0",
   "metadata": {},
   "outputs": [],
   "source": [
    "response = bedrock_agent_client.create_agent_alias(\n",
    "    agentAliasName='TestAlias',\n",
    "    agentId=agent_id,\n",
    "    description='Test alias',\n",
    ")\n",
    "\n",
    "alias_id = response[\"agentAlias\"][\"agentAliasId\"]\n",
    "print(\"The Agent alias is:\",alias_id)"
   ]
  },
  {
   "cell_type": "markdown",
   "id": "785eaa07-9059-471b-86cc-9506e9c0b47c",
   "metadata": {},
   "source": [
    "## 5. Test the Agent\n",
    "Now that we've created the agent, let's use the `bedrock-agent-runtime` client to invoke this agent and perform some tasks."
   ]
  },
  {
   "cell_type": "code",
   "execution_count": null,
   "id": "607efd7f-469a-4875-9c1c-16ab018fc341",
   "metadata": {},
   "outputs": [],
   "source": [
    "def invokeAgent(query, session, enable_trace=False):\n",
    "    end_session:bool = False\n",
    "    \n",
    "    # invoke the agent API\n",
    "    agentResponse = bedrock_agent_runtime_client.invoke_agent(\n",
    "        inputText=query,\n",
    "        agentId=agent_id,\n",
    "        agentAliasId=alias_id, \n",
    "        sessionId=session_id,\n",
    "        enableTrace=enable_trace, \n",
    "        endSession= end_session\n",
    "    )\n",
    "    \n",
    "    if enable_trace:\n",
    "        logger.info(pprint.pprint(agentResponse))\n",
    "    \n",
    "    event_stream = agentResponse['completion']\n",
    "    try:\n",
    "        for event in event_stream:        \n",
    "            if 'chunk' in event:\n",
    "                data = event['chunk']['bytes']\n",
    "                if enable_trace:\n",
    "                    logger.info(f\"Final answer ->\\n{data.decode('utf8')}\")\n",
    "                agent_answer = data.decode('utf8')\n",
    "                end_event_received = True\n",
    "                return agent_answer\n",
    "                # End event indicates that the request finished successfully\n",
    "            elif 'trace' in event:\n",
    "                if enable_trace:\n",
    "                    logger.info(json.dumps(event['trace'], indent=2))\n",
    "            else:\n",
    "                raise Exception(\"unexpected event.\", event)\n",
    "    except Exception as e:\n",
    "        raise Exception(\"unexpected event.\", e)"
   ]
  },
  {
   "cell_type": "code",
   "execution_count": null,
   "id": "bb134630-0c01-4ec7-b761-1f1a1eca4957",
   "metadata": {},
   "outputs": [],
   "source": [
    "session_id:str = str(uuid.uuid1())\n",
    "query = \"What are the starters in the childrens menu?\"\n",
    "response = invokeAgent(query, session_id)\n",
    "print(response)"
   ]
  },
  {
   "cell_type": "code",
   "execution_count": null,
   "id": "1e0201c0-abb3-4ad5-a7e7-1750d14a2717",
   "metadata": {},
   "outputs": [],
   "source": [
    "query = \"I want to create a booking for 2 people, at 8pm on the 5th of May\"\n",
    "response = invokeAgent(query, session_id)\n",
    "print(response)"
   ]
  },
  {
   "cell_type": "code",
   "execution_count": null,
   "id": "bfb8612f-6221-4199-b44b-4c341ac08f7f",
   "metadata": {},
   "outputs": [],
   "source": [
    "query = \"I want to get the information for booking 4179858b\"\n",
    "response = invokeAgent(query, session_id)\n",
    "print(response)"
   ]
  },
  {
   "cell_type": "code",
   "execution_count": null,
   "id": "717da5f1",
   "metadata": {},
   "outputs": [],
   "source": [
    "query = \"I want to get the information for booking 1e421532\"\n",
    "response = invokeAgent(query, session_id)\n",
    "print(response)"
   ]
  },
  {
   "cell_type": "code",
   "execution_count": null,
   "id": "5bf770ef-5602-434e-bef2-0394b9136fe7",
   "metadata": {},
   "outputs": [],
   "source": [
    "query = \"I want to delete the booking 1e421532\"\n",
    "response = invokeAgent(query, session_id)\n",
    "print(response)"
   ]
  },
  {
   "cell_type": "markdown",
   "id": "5dcfdf43",
   "metadata": {},
   "source": [
    "Now show a call with full trace"
   ]
  },
  {
   "cell_type": "code",
   "execution_count": null,
   "id": "ebcb9737",
   "metadata": {},
   "outputs": [],
   "source": [
    "session_id:str = str(uuid.uuid1())\n",
    "query = \"What are the desserts on the adult menu?\"\n",
    "response = invokeAgent(query, session_id, enable_trace=True)\n",
    "print(response)"
   ]
  },
  {
   "cell_type": "markdown",
   "id": "8ebf4438-1f48-4642-a57c-530a16815064",
   "metadata": {},
   "source": [
    "## 6. Clean-up \n",
    "Let's delete all the associated resources created to avoid unnecessary costs. "
   ]
  },
  {
   "cell_type": "code",
   "execution_count": null,
   "id": "4ed0cb4f-31ab-4535-a1d7-93e33c706b32",
   "metadata": {},
   "outputs": [],
   "source": [
    "action_group_id=agent_action_group_response['agentActionGroup']['actionGroupId']\n",
    "action_group_name = agent_action_group_response['agentActionGroup']['actionGroupName']\n"
   ]
  },
  {
   "cell_type": "code",
   "execution_count": null,
   "id": "4c4b7bdd-5d87-4dfa-b390-8401dbb57c49",
   "metadata": {},
   "outputs": [],
   "source": [
    "import boto3\n",
    "\n",
    "def clean_up_resources(\n",
    "    agent_id, alias_id, action_group_id, action_group_name,\n",
    "    lambda_function_name, bucket_name, kb_id, collection_id, agent_role_name, table_name\n",
    "):\n",
    "\n",
    "    # Delete Agent Action Group, Agent Alias, and Agent\n",
    "    try:\n",
    "        response = bedrock_agent_client.update_agent_action_group(\n",
    "                        agentId=agent_id,\n",
    "                        agentVersion='DRAFT',\n",
    "                        actionGroupId= action_group_id,\n",
    "                        actionGroupName=action_group_name,\n",
    "                        actionGroupExecutor={\n",
    "                            'lambda': lambda_function['FunctionArn']\n",
    "                        },\n",
    "                        functionSchema={\n",
    "                            'functions': agent_functions\n",
    "                        },\n",
    "                        actionGroupState='DISABLED',\n",
    "                    )\n",
    "        bedrock_agent_client.delete_agent_action_group(agentId=agent_id, agentVersion='DRAFT', \n",
    "                                                       actionGroupId=action_group_id)\n",
    "        bedrock_agent_client.delete_agent_alias(agentAliasId=alias_id, agentId=agent_id)\n",
    "        bedrock_agent_client.delete_agent(agentId=agent_id)\n",
    "        print(f\"Agent {agent_id}, Agent Alias {alias_id}, and Action Group have been deleted.\")\n",
    "    except Exception as e:\n",
    "        print(f\"Error deleting Agent resources: {e}\")\n",
    "\n",
    "    # Delete Lambda function\n",
    "    try:\n",
    "        lambda_client.delete_function(FunctionName=lambda_function_name)\n",
    "        print(f\"Lambda function {lambda_function_name} has been deleted.\")\n",
    "    except Exception as e:\n",
    "        print(f\"Error deleting Lambda function {lambda_function_name}: {e}\")\n",
    "\n",
    "    # Delete all objects in the bucket and the bucket itself\n",
    "    try:\n",
    "        response = s3_client.list_objects_v2(Bucket=bucket_name)\n",
    "        if 'Contents' in response:\n",
    "            for obj in response['Contents']:\n",
    "                s3_client.delete_object(Bucket=bucket_name, Key=obj['Key'])\n",
    "        s3_client.delete_bucket(Bucket=bucket_name)\n",
    "        print(f\"Bucket {bucket_name} and its objects have been deleted.\")\n",
    "    except Exception as e:\n",
    "        print(f\"Error deleting bucket {bucket_name}: {e}\")\n",
    "\n",
    "    # Delete Knowledge Base\n",
    "    try:\n",
    "        bedrock_agent_client.delete_knowledge_base(knowledgeBaseId=kb_id)\n",
    "        print(f\"Knowledge Base {kb_id} has been deleted.\")\n",
    "    except Exception as e:\n",
    "        print(f\"Error deleting Knowledge Base {kb_id}: {e}\")\n",
    "\n",
    "    # Delete Opensearch Collection\n",
    "    try:\n",
    "        opensearch_client.delete_collection(id=collection_id)\n",
    "        print(f\"Collection {collection_id} has been deleted.\")\n",
    "    except Exception as e:\n",
    "        print(f\"Error deleting Collection {collection_id}: {e}\")\n",
    "\n",
    "    # Delete Lambda Role and its policies\n",
    "    try:\n",
    "        attached_policies = iam_client.list_attached_role_policies(RoleName=agent_role_name)['AttachedPolicies']\n",
    "        for policy in attached_policies:\n",
    "            policy_name = policy['PolicyName']\n",
    "            iam_client.detach_role_policy(RoleName=agent_role_name, PolicyArn=policy['PolicyArn'])\n",
    "            iam_client.delete_role_policy(RoleName=agent_role_name, PolicyName=policy_name)\n",
    "            print(f\"Detached and deleted policy {policy_name} from role {agent_role_name}\")\n",
    "        iam_client.delete_role(RoleName=agent_role_name)\n",
    "        print(f\"Role {agent_role_name} has been deleted.\")\n",
    "    except Exception as e:\n",
    "        pass\n",
    "        print(f\"Error deleting role {agent_role_name}: {e}\")\n",
    "\n",
    "    # Delete DynamoDB table\n",
    "    try:\n",
    "        dynamodb_client.delete_table(TableName=table_name)\n",
    "        print(f\"Table {table_name} is being deleted...\")\n",
    "        waiter = dynamodb_client.get_waiter('table_not_exists')\n",
    "        waiter.wait(TableName=table_name)\n",
    "        print(f\"Table {table_name} has been deleted.\")\n",
    "    except Exception as e:\n",
    "        print(f\"Error deleting table {table_name}: {e}\")"
   ]
  },
  {
   "cell_type": "code",
   "execution_count": null,
   "id": "f6b9cf99-db17-4e7b-aea1-ec07550e9dd1",
   "metadata": {},
   "outputs": [],
   "source": [
    "clean_up_resources(agent_id, alias_id, \n",
    "                   action_group_id, action_group_name, \n",
    "                   lambda_function_name, bucket_name, \n",
    "                   kb_id, collection_id, agent_role_name, table_name)\n",
    "delete_iam_role_and_policies()"
   ]
  },
  {
   "cell_type": "code",
   "execution_count": null,
   "id": "6a9db157",
   "metadata": {},
   "outputs": [],
   "source": []
  }
 ],
 "metadata": {
  "availableInstances": [
   {
    "_defaultOrder": 0,
    "_isFastLaunch": true,
    "category": "General purpose",
    "gpuNum": 0,
    "hideHardwareSpecs": false,
    "memoryGiB": 4,
    "name": "ml.t3.medium",
    "vcpuNum": 2
   },
   {
    "_defaultOrder": 1,
    "_isFastLaunch": false,
    "category": "General purpose",
    "gpuNum": 0,
    "hideHardwareSpecs": false,
    "memoryGiB": 8,
    "name": "ml.t3.large",
    "vcpuNum": 2
   },
   {
    "_defaultOrder": 2,
    "_isFastLaunch": false,
    "category": "General purpose",
    "gpuNum": 0,
    "hideHardwareSpecs": false,
    "memoryGiB": 16,
    "name": "ml.t3.xlarge",
    "vcpuNum": 4
   },
   {
    "_defaultOrder": 3,
    "_isFastLaunch": false,
    "category": "General purpose",
    "gpuNum": 0,
    "hideHardwareSpecs": false,
    "memoryGiB": 32,
    "name": "ml.t3.2xlarge",
    "vcpuNum": 8
   },
   {
    "_defaultOrder": 4,
    "_isFastLaunch": true,
    "category": "General purpose",
    "gpuNum": 0,
    "hideHardwareSpecs": false,
    "memoryGiB": 8,
    "name": "ml.m5.large",
    "vcpuNum": 2
   },
   {
    "_defaultOrder": 5,
    "_isFastLaunch": false,
    "category": "General purpose",
    "gpuNum": 0,
    "hideHardwareSpecs": false,
    "memoryGiB": 16,
    "name": "ml.m5.xlarge",
    "vcpuNum": 4
   },
   {
    "_defaultOrder": 6,
    "_isFastLaunch": false,
    "category": "General purpose",
    "gpuNum": 0,
    "hideHardwareSpecs": false,
    "memoryGiB": 32,
    "name": "ml.m5.2xlarge",
    "vcpuNum": 8
   },
   {
    "_defaultOrder": 7,
    "_isFastLaunch": false,
    "category": "General purpose",
    "gpuNum": 0,
    "hideHardwareSpecs": false,
    "memoryGiB": 64,
    "name": "ml.m5.4xlarge",
    "vcpuNum": 16
   },
   {
    "_defaultOrder": 8,
    "_isFastLaunch": false,
    "category": "General purpose",
    "gpuNum": 0,
    "hideHardwareSpecs": false,
    "memoryGiB": 128,
    "name": "ml.m5.8xlarge",
    "vcpuNum": 32
   },
   {
    "_defaultOrder": 9,
    "_isFastLaunch": false,
    "category": "General purpose",
    "gpuNum": 0,
    "hideHardwareSpecs": false,
    "memoryGiB": 192,
    "name": "ml.m5.12xlarge",
    "vcpuNum": 48
   },
   {
    "_defaultOrder": 10,
    "_isFastLaunch": false,
    "category": "General purpose",
    "gpuNum": 0,
    "hideHardwareSpecs": false,
    "memoryGiB": 256,
    "name": "ml.m5.16xlarge",
    "vcpuNum": 64
   },
   {
    "_defaultOrder": 11,
    "_isFastLaunch": false,
    "category": "General purpose",
    "gpuNum": 0,
    "hideHardwareSpecs": false,
    "memoryGiB": 384,
    "name": "ml.m5.24xlarge",
    "vcpuNum": 96
   },
   {
    "_defaultOrder": 12,
    "_isFastLaunch": false,
    "category": "General purpose",
    "gpuNum": 0,
    "hideHardwareSpecs": false,
    "memoryGiB": 8,
    "name": "ml.m5d.large",
    "vcpuNum": 2
   },
   {
    "_defaultOrder": 13,
    "_isFastLaunch": false,
    "category": "General purpose",
    "gpuNum": 0,
    "hideHardwareSpecs": false,
    "memoryGiB": 16,
    "name": "ml.m5d.xlarge",
    "vcpuNum": 4
   },
   {
    "_defaultOrder": 14,
    "_isFastLaunch": false,
    "category": "General purpose",
    "gpuNum": 0,
    "hideHardwareSpecs": false,
    "memoryGiB": 32,
    "name": "ml.m5d.2xlarge",
    "vcpuNum": 8
   },
   {
    "_defaultOrder": 15,
    "_isFastLaunch": false,
    "category": "General purpose",
    "gpuNum": 0,
    "hideHardwareSpecs": false,
    "memoryGiB": 64,
    "name": "ml.m5d.4xlarge",
    "vcpuNum": 16
   },
   {
    "_defaultOrder": 16,
    "_isFastLaunch": false,
    "category": "General purpose",
    "gpuNum": 0,
    "hideHardwareSpecs": false,
    "memoryGiB": 128,
    "name": "ml.m5d.8xlarge",
    "vcpuNum": 32
   },
   {
    "_defaultOrder": 17,
    "_isFastLaunch": false,
    "category": "General purpose",
    "gpuNum": 0,
    "hideHardwareSpecs": false,
    "memoryGiB": 192,
    "name": "ml.m5d.12xlarge",
    "vcpuNum": 48
   },
   {
    "_defaultOrder": 18,
    "_isFastLaunch": false,
    "category": "General purpose",
    "gpuNum": 0,
    "hideHardwareSpecs": false,
    "memoryGiB": 256,
    "name": "ml.m5d.16xlarge",
    "vcpuNum": 64
   },
   {
    "_defaultOrder": 19,
    "_isFastLaunch": false,
    "category": "General purpose",
    "gpuNum": 0,
    "hideHardwareSpecs": false,
    "memoryGiB": 384,
    "name": "ml.m5d.24xlarge",
    "vcpuNum": 96
   },
   {
    "_defaultOrder": 20,
    "_isFastLaunch": false,
    "category": "General purpose",
    "gpuNum": 0,
    "hideHardwareSpecs": true,
    "memoryGiB": 0,
    "name": "ml.geospatial.interactive",
    "supportedImageNames": [
     "sagemaker-geospatial-v1-0"
    ],
    "vcpuNum": 0
   },
   {
    "_defaultOrder": 21,
    "_isFastLaunch": true,
    "category": "Compute optimized",
    "gpuNum": 0,
    "hideHardwareSpecs": false,
    "memoryGiB": 4,
    "name": "ml.c5.large",
    "vcpuNum": 2
   },
   {
    "_defaultOrder": 22,
    "_isFastLaunch": false,
    "category": "Compute optimized",
    "gpuNum": 0,
    "hideHardwareSpecs": false,
    "memoryGiB": 8,
    "name": "ml.c5.xlarge",
    "vcpuNum": 4
   },
   {
    "_defaultOrder": 23,
    "_isFastLaunch": false,
    "category": "Compute optimized",
    "gpuNum": 0,
    "hideHardwareSpecs": false,
    "memoryGiB": 16,
    "name": "ml.c5.2xlarge",
    "vcpuNum": 8
   },
   {
    "_defaultOrder": 24,
    "_isFastLaunch": false,
    "category": "Compute optimized",
    "gpuNum": 0,
    "hideHardwareSpecs": false,
    "memoryGiB": 32,
    "name": "ml.c5.4xlarge",
    "vcpuNum": 16
   },
   {
    "_defaultOrder": 25,
    "_isFastLaunch": false,
    "category": "Compute optimized",
    "gpuNum": 0,
    "hideHardwareSpecs": false,
    "memoryGiB": 72,
    "name": "ml.c5.9xlarge",
    "vcpuNum": 36
   },
   {
    "_defaultOrder": 26,
    "_isFastLaunch": false,
    "category": "Compute optimized",
    "gpuNum": 0,
    "hideHardwareSpecs": false,
    "memoryGiB": 96,
    "name": "ml.c5.12xlarge",
    "vcpuNum": 48
   },
   {
    "_defaultOrder": 27,
    "_isFastLaunch": false,
    "category": "Compute optimized",
    "gpuNum": 0,
    "hideHardwareSpecs": false,
    "memoryGiB": 144,
    "name": "ml.c5.18xlarge",
    "vcpuNum": 72
   },
   {
    "_defaultOrder": 28,
    "_isFastLaunch": false,
    "category": "Compute optimized",
    "gpuNum": 0,
    "hideHardwareSpecs": false,
    "memoryGiB": 192,
    "name": "ml.c5.24xlarge",
    "vcpuNum": 96
   },
   {
    "_defaultOrder": 29,
    "_isFastLaunch": true,
    "category": "Accelerated computing",
    "gpuNum": 1,
    "hideHardwareSpecs": false,
    "memoryGiB": 16,
    "name": "ml.g4dn.xlarge",
    "vcpuNum": 4
   },
   {
    "_defaultOrder": 30,
    "_isFastLaunch": false,
    "category": "Accelerated computing",
    "gpuNum": 1,
    "hideHardwareSpecs": false,
    "memoryGiB": 32,
    "name": "ml.g4dn.2xlarge",
    "vcpuNum": 8
   },
   {
    "_defaultOrder": 31,
    "_isFastLaunch": false,
    "category": "Accelerated computing",
    "gpuNum": 1,
    "hideHardwareSpecs": false,
    "memoryGiB": 64,
    "name": "ml.g4dn.4xlarge",
    "vcpuNum": 16
   },
   {
    "_defaultOrder": 32,
    "_isFastLaunch": false,
    "category": "Accelerated computing",
    "gpuNum": 1,
    "hideHardwareSpecs": false,
    "memoryGiB": 128,
    "name": "ml.g4dn.8xlarge",
    "vcpuNum": 32
   },
   {
    "_defaultOrder": 33,
    "_isFastLaunch": false,
    "category": "Accelerated computing",
    "gpuNum": 4,
    "hideHardwareSpecs": false,
    "memoryGiB": 192,
    "name": "ml.g4dn.12xlarge",
    "vcpuNum": 48
   },
   {
    "_defaultOrder": 34,
    "_isFastLaunch": false,
    "category": "Accelerated computing",
    "gpuNum": 1,
    "hideHardwareSpecs": false,
    "memoryGiB": 256,
    "name": "ml.g4dn.16xlarge",
    "vcpuNum": 64
   },
   {
    "_defaultOrder": 35,
    "_isFastLaunch": false,
    "category": "Accelerated computing",
    "gpuNum": 1,
    "hideHardwareSpecs": false,
    "memoryGiB": 61,
    "name": "ml.p3.2xlarge",
    "vcpuNum": 8
   },
   {
    "_defaultOrder": 36,
    "_isFastLaunch": false,
    "category": "Accelerated computing",
    "gpuNum": 4,
    "hideHardwareSpecs": false,
    "memoryGiB": 244,
    "name": "ml.p3.8xlarge",
    "vcpuNum": 32
   },
   {
    "_defaultOrder": 37,
    "_isFastLaunch": false,
    "category": "Accelerated computing",
    "gpuNum": 8,
    "hideHardwareSpecs": false,
    "memoryGiB": 488,
    "name": "ml.p3.16xlarge",
    "vcpuNum": 64
   },
   {
    "_defaultOrder": 38,
    "_isFastLaunch": false,
    "category": "Accelerated computing",
    "gpuNum": 8,
    "hideHardwareSpecs": false,
    "memoryGiB": 768,
    "name": "ml.p3dn.24xlarge",
    "vcpuNum": 96
   },
   {
    "_defaultOrder": 39,
    "_isFastLaunch": false,
    "category": "Memory Optimized",
    "gpuNum": 0,
    "hideHardwareSpecs": false,
    "memoryGiB": 16,
    "name": "ml.r5.large",
    "vcpuNum": 2
   },
   {
    "_defaultOrder": 40,
    "_isFastLaunch": false,
    "category": "Memory Optimized",
    "gpuNum": 0,
    "hideHardwareSpecs": false,
    "memoryGiB": 32,
    "name": "ml.r5.xlarge",
    "vcpuNum": 4
   },
   {
    "_defaultOrder": 41,
    "_isFastLaunch": false,
    "category": "Memory Optimized",
    "gpuNum": 0,
    "hideHardwareSpecs": false,
    "memoryGiB": 64,
    "name": "ml.r5.2xlarge",
    "vcpuNum": 8
   },
   {
    "_defaultOrder": 42,
    "_isFastLaunch": false,
    "category": "Memory Optimized",
    "gpuNum": 0,
    "hideHardwareSpecs": false,
    "memoryGiB": 128,
    "name": "ml.r5.4xlarge",
    "vcpuNum": 16
   },
   {
    "_defaultOrder": 43,
    "_isFastLaunch": false,
    "category": "Memory Optimized",
    "gpuNum": 0,
    "hideHardwareSpecs": false,
    "memoryGiB": 256,
    "name": "ml.r5.8xlarge",
    "vcpuNum": 32
   },
   {
    "_defaultOrder": 44,
    "_isFastLaunch": false,
    "category": "Memory Optimized",
    "gpuNum": 0,
    "hideHardwareSpecs": false,
    "memoryGiB": 384,
    "name": "ml.r5.12xlarge",
    "vcpuNum": 48
   },
   {
    "_defaultOrder": 45,
    "_isFastLaunch": false,
    "category": "Memory Optimized",
    "gpuNum": 0,
    "hideHardwareSpecs": false,
    "memoryGiB": 512,
    "name": "ml.r5.16xlarge",
    "vcpuNum": 64
   },
   {
    "_defaultOrder": 46,
    "_isFastLaunch": false,
    "category": "Memory Optimized",
    "gpuNum": 0,
    "hideHardwareSpecs": false,
    "memoryGiB": 768,
    "name": "ml.r5.24xlarge",
    "vcpuNum": 96
   },
   {
    "_defaultOrder": 47,
    "_isFastLaunch": false,
    "category": "Accelerated computing",
    "gpuNum": 1,
    "hideHardwareSpecs": false,
    "memoryGiB": 16,
    "name": "ml.g5.xlarge",
    "vcpuNum": 4
   },
   {
    "_defaultOrder": 48,
    "_isFastLaunch": false,
    "category": "Accelerated computing",
    "gpuNum": 1,
    "hideHardwareSpecs": false,
    "memoryGiB": 32,
    "name": "ml.g5.2xlarge",
    "vcpuNum": 8
   },
   {
    "_defaultOrder": 49,
    "_isFastLaunch": false,
    "category": "Accelerated computing",
    "gpuNum": 1,
    "hideHardwareSpecs": false,
    "memoryGiB": 64,
    "name": "ml.g5.4xlarge",
    "vcpuNum": 16
   },
   {
    "_defaultOrder": 50,
    "_isFastLaunch": false,
    "category": "Accelerated computing",
    "gpuNum": 1,
    "hideHardwareSpecs": false,
    "memoryGiB": 128,
    "name": "ml.g5.8xlarge",
    "vcpuNum": 32
   },
   {
    "_defaultOrder": 51,
    "_isFastLaunch": false,
    "category": "Accelerated computing",
    "gpuNum": 1,
    "hideHardwareSpecs": false,
    "memoryGiB": 256,
    "name": "ml.g5.16xlarge",
    "vcpuNum": 64
   },
   {
    "_defaultOrder": 52,
    "_isFastLaunch": false,
    "category": "Accelerated computing",
    "gpuNum": 4,
    "hideHardwareSpecs": false,
    "memoryGiB": 192,
    "name": "ml.g5.12xlarge",
    "vcpuNum": 48
   },
   {
    "_defaultOrder": 53,
    "_isFastLaunch": false,
    "category": "Accelerated computing",
    "gpuNum": 4,
    "hideHardwareSpecs": false,
    "memoryGiB": 384,
    "name": "ml.g5.24xlarge",
    "vcpuNum": 96
   },
   {
    "_defaultOrder": 54,
    "_isFastLaunch": false,
    "category": "Accelerated computing",
    "gpuNum": 8,
    "hideHardwareSpecs": false,
    "memoryGiB": 768,
    "name": "ml.g5.48xlarge",
    "vcpuNum": 192
   },
   {
    "_defaultOrder": 55,
    "_isFastLaunch": false,
    "category": "Accelerated computing",
    "gpuNum": 8,
    "hideHardwareSpecs": false,
    "memoryGiB": 1152,
    "name": "ml.p4d.24xlarge",
    "vcpuNum": 96
   },
   {
    "_defaultOrder": 56,
    "_isFastLaunch": false,
    "category": "Accelerated computing",
    "gpuNum": 8,
    "hideHardwareSpecs": false,
    "memoryGiB": 1152,
    "name": "ml.p4de.24xlarge",
    "vcpuNum": 96
   },
   {
    "_defaultOrder": 57,
    "_isFastLaunch": false,
    "category": "Accelerated computing",
    "gpuNum": 0,
    "hideHardwareSpecs": false,
    "memoryGiB": 32,
    "name": "ml.trn1.2xlarge",
    "vcpuNum": 8
   },
   {
    "_defaultOrder": 58,
    "_isFastLaunch": false,
    "category": "Accelerated computing",
    "gpuNum": 0,
    "hideHardwareSpecs": false,
    "memoryGiB": 512,
    "name": "ml.trn1.32xlarge",
    "vcpuNum": 128
   },
   {
    "_defaultOrder": 59,
    "_isFastLaunch": false,
    "category": "Accelerated computing",
    "gpuNum": 0,
    "hideHardwareSpecs": false,
    "memoryGiB": 512,
    "name": "ml.trn1n.32xlarge",
    "vcpuNum": 128
   }
  ],
  "instance_type": "ml.t3.medium",
  "kernelspec": {
   "display_name": "conda_python3",
   "language": "python",
   "name": "conda_python3"
  },
  "language_info": {
   "codemirror_mode": {
    "name": "ipython",
    "version": 3
   },
   "file_extension": ".py",
   "mimetype": "text/x-python",
   "name": "python",
   "nbconvert_exporter": "python",
   "pygments_lexer": "ipython3",
   "version": "3.10.14"
  }
 },
 "nbformat": 4,
 "nbformat_minor": 5
}
