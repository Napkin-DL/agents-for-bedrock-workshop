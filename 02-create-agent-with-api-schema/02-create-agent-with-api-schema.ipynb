{
 "cells": [
  {
   "cell_type": "markdown",
   "id": "c55b33be-98be-4c48-99de-99e5e2ec163d",
   "metadata": {},
   "source": [
    "# Boto3 SDK를 통해 Agent 생성 및 호출하기\n",
    "\n",
    "> *이 노트북은 SageMaker Studio*의 **`Data Science 3.0`** kernel과 잘 작동해야 합니다."
   ]
  },
  {
   "cell_type": "markdown",
   "id": "9d7392ac-61be-4b9b-bc7b-f48de8282c7b",
   "metadata": {
    "tags": []
   },
   "source": [
    "## Introduction\n",
    "\n",
    "이 노트북에서는 `bedrock-agent`와 `bedrock-agent-runtime` boto3 client 사용하는 방법을 설명합니다:\n",
    "- 에이전트 생성\n",
    "- API 스키마를 사용하여 액션 그룹 생성(함수 정의 사용과 비교)\n",
    "- 에이전트를 액션 그룹과 연결하고 에이전트 준비\n",
    "- 에이전트 alias 생성\n",
    "- 에이전트 호출\n",
    "\n",
    "여기서는 Boto3 API를 사용하여 Bedrock's Claude Sonnet를 사용하겠습니다. \n",
    "\n",
    "**Note:** *이 노트북은 SageMaker Studio에서 사용하거나 AWS 자격 증명을 설정한 경우 로컬에서 실행할 수 있습니다*.\n",
    "\n",
    "#### 사전 준비 사항\n",
    "이 노트북에는 다음 permissions이 필요합니다: \n",
    "- Amazon IAM 역할 생성 및 삭제\n",
    "- AWS Lambda 함수 생성, 업데이트 및 호출 \n",
    "- Amazon S3 buckets 생성, 업데이트 및 삭제 \n",
    "- Amazon Bedrock에 액세스 \n",
    "\n",
    "관리자 역할 없이 이 노트북을 실행하는 경우, 역할에 다음 관리 정책이 포함되어 있는지 확인하세요:\n",
    "- IAMFullAccess\n",
    "- AWSLambda_FullAccess\n",
    "- AmazonS3FullAccess\n",
    "- AmazonBedrockFullAccess\n",
    "\n",
    "#### Context\n",
    "Boto3 SDK를 사용하여 Bedrock용 에이전트를 생성하고 호출하는 방법을 보여드리겠습니다.\n",
    "\n",
    "#### Use case\n",
    "이 노트북에서는 에이전트가 보험금 청구 사용 사례의 assistant 역할을 합니다. 에이전트는 보험 직원이 진행 중인 보험금 청구를 확인하고, 특정 보험금 청구에 대한 세부 정보를 식별하고, 보험금 청구에 대한 열린 문서를 가져오고, 보험금 청구자에게 알림을 보낼 수 있도록 도와줍니다.\n",
    "\n",
    "생성된 에이전트는 다단계 프로세스에서 다음 작업 또는 이러한 작업의 조합을 처리할 수 있습니다:\n",
    "- Get Open Claims (보험금 청구 열기)\n",
    "- Get Claim Details (상세 청구 내용)\n",
    "- Get Claim Outstanding Documents (청구 대표 문서들)\n",
    "- Send Claim reminder (청구자에게 알림 전송)"
   ]
  },
  {
   "cell_type": "markdown",
   "id": "5be31135-a5ef-409e-a67b-412b78f07b36",
   "metadata": {},
   "source": [
    "<img src=\"./images/20-architecture-agent-API.png\" alt=\"Create an Agent with Function Definition\" style=\"height: 400px; width:950px;\"/>"
   ]
  },
  {
   "cell_type": "markdown",
   "id": "5463f03b-7f8b-4a95-a7c8-0caa46d6ae4b",
   "metadata": {},
   "source": [
    "## Notebook setup"
   ]
  },
  {
   "cell_type": "code",
   "execution_count": 7,
   "id": "1b5428e2-37d0-4199-a234-33521ec995ad",
   "metadata": {
    "tags": []
   },
   "outputs": [],
   "source": [
    "import logging\n",
    "import boto3\n",
    "import time\n",
    "import zipfile\n",
    "from io import BytesIO\n",
    "import json\n",
    "import uuid\n",
    "import pprint"
   ]
  },
  {
   "cell_type": "code",
   "execution_count": 8,
   "id": "ea10158d-adb7-463e-ae3e-df72da6e850b",
   "metadata": {
    "tags": []
   },
   "outputs": [],
   "source": [
    "# setting logger\n",
    "logging.basicConfig(format='[%(asctime)s] p%(process)s {%(filename)s:%(lineno)d} %(levelname)s - %(message)s', level=logging.INFO)\n",
    "logger = logging.getLogger(__name__)"
   ]
  },
  {
   "cell_type": "code",
   "execution_count": 9,
   "id": "be67a917-11f8-43a0-a8d5-1b379ec77119",
   "metadata": {
    "tags": []
   },
   "outputs": [
    {
     "name": "stderr",
     "output_type": "stream",
     "text": [
      "[2024-06-07 10:50:20,615] p12271 {credentials.py:1075} INFO - Found credentials from IAM Role: BaseNotebookInstanceEc2InstanceRole\n"
     ]
    }
   ],
   "source": [
    "# get boto3 clients for required AWS services\n",
    "sts_client = boto3.client('sts')\n",
    "iam_client = boto3.client('iam')\n",
    "s3_client = boto3.client('s3')\n",
    "lambda_client = boto3.client('lambda')\n",
    "bedrock_agent_client = boto3.client('bedrock-agent')\n",
    "bedrock_agent_runtime_client = boto3.client('bedrock-agent-runtime')"
   ]
  },
  {
   "cell_type": "code",
   "execution_count": 22,
   "id": "acfd85b8-4a47-4da9-bdd6-2ac38c1e3803",
   "metadata": {
    "tags": []
   },
   "outputs": [
    {
     "data": {
      "text/plain": [
       "('us-west-2', '322537213286')"
      ]
     },
     "execution_count": 22,
     "metadata": {},
     "output_type": "execute_result"
    }
   ],
   "source": [
    "session = boto3.session.Session()\n",
    "region = session.region_name\n",
    "account_id = sts_client.get_caller_identity()[\"Account\"]\n",
    "region, account_id"
   ]
  },
  {
   "cell_type": "code",
   "execution_count": 23,
   "id": "815ca906-776c-4993-a7c8-73fbbab22b80",
   "metadata": {
    "tags": []
   },
   "outputs": [],
   "source": [
    "from time import strftime\n",
    "current_time = strftime(\"%m%d-%H%M%s\")"
   ]
  },
  {
   "cell_type": "code",
   "execution_count": 24,
   "id": "6501bd5f-2b77-42d6-9662-6cc5b5b5642b",
   "metadata": {
    "tags": []
   },
   "outputs": [],
   "source": [
    "# Generate random prefix for unique IAM roles, agent name and S3 Bucket and \n",
    "# assign variables\n",
    "\n",
    "\n",
    "suffix = f\"{region}-{account_id}\"\n",
    "agent_name = \"insurance-claims-agent\"\n",
    "agent_alias_name = \"workshop-alias\"\n",
    "bucket_name = f'{agent_name}-{suffix}'\n",
    "bucket_key = f'{agent_name}-schema.json'\n",
    "schema_name = 'insurance_claims_agent_openapi_schema.json'\n",
    "schema_arn = f'arn:aws:s3:::{bucket_name}/{bucket_key}'\n",
    "bedrock_agent_bedrock_allow_policy_name = f\"{agent_name}-allow-{current_time}\"\n",
    "bedrock_agent_s3_allow_policy_name = f\"{agent_name}-s3-allow-{current_time}\"\n",
    "lambda_role_name = f'{agent_name}-lambda-role-{current_time}'\n",
    "agent_role_name = f'AmazonBedrockExecutionRoleForAgents-{current_time}'\n",
    "lambda_code_path = \"lambda_function.py\"\n",
    "lambda_name = f'{agent_name}-{current_time}'\n",
    "model_id = \"anthropic.claude-3-sonnet-20240229-v1:0\""
   ]
  },
  {
   "cell_type": "markdown",
   "id": "03c964ba-6f6f-4e4b-a654-b09e54a3cd58",
   "metadata": {
    "tags": []
   },
   "source": [
    "### S3 버킷 생성 및 API Schema 업로드하기\n",
    "\n",
    "Agents에는 s3에 저장된 API Schema가 필요합니다. 파일을 저장할 S3 버킷을 생성하고 새로 생성된 버킷에 파일을 업로드해 보겠습니다."
   ]
  },
  {
   "cell_type": "code",
   "execution_count": 64,
   "id": "b27a568e-fe9b-47dd-b66d-305c258493ec",
   "metadata": {
    "tags": []
   },
   "outputs": [
    {
     "name": "stdout",
     "output_type": "stream",
     "text": [
      "{\n",
      "  \"openapi\": \"3.0.0\",\n",
      "  \"info\": {\n",
      "    \"title\": \"Insurance Claims Automation API\",\n",
      "    \"version\": \"1.0.0\",\n",
      "    \"description\": \"APIs for managing insurance claims by pulling list of open claims, identifying outstanding paperwork for each claim, identifying all claim details, and sending reminders to policy holders.\"\n",
      "  },\n",
      "  \"paths\": {\n",
      "    \"/open-items\": {\n",
      "      \"get\": {\n",
      "        \"summary\": \"Gets the list of all open insurance claims\",\n",
      "        \"description\": \"Gets the list of all open insurance claims. Returns all claimIds that are open.\",\n",
      "        \"operationId\": \"getAllOpenClaims\",\n",
      "        \"responses\": {\n",
      "          \"200\": {\n",
      "            \"description\": \"Gets the list of all open insurance claims for policy holders\",\n",
      "            \"content\": {\n",
      "              \"application/json\": {\n",
      "                \"schema\": {\n",
      "                  \"type\": \"array\",\n",
      "                  \"items\": {\n",
      "                    \"type\": \"object\",\n",
      "                    \"properties\": {\n",
      "                      \"claimId\": {\n",
      "                        \"type\": \"string\",\n",
      "                        \"description\": \"Unique ID of the claim.\"\n",
      "                      },\n",
      "                      \"policyHolderId\": {\n",
      "                        \"type\": \"string\",\n",
      "                        \"description\": \"Unique ID of the policy holder who has filed the claim.\"\n",
      "                      },\n",
      "                      \"claimStatus\": {\n",
      "                        \"type\": \"string\",\n",
      "                        \"description\": \"The status of the claim. Claim can be in Open or Closed state.\"\n",
      "                      }\n",
      "                    }\n",
      "                  }\n",
      "                }\n",
      "              }\n",
      "            }\n",
      "          }\n",
      "        }\n",
      "      }\n",
      "    },\n",
      "    \"/open-items/{claimId}/outstanding-paperwork\": {\n",
      "      \"get\": {\n",
      "        \"summary\": \"Gets outstanding paperwork for a specific claim\",\n",
      "        \"description\": \"Gets the list of pending documents that needs to be uploaded by the policy holder before the claim can be processed. The API takes in only one claim id and returns the list of documents that are pending to be uploaded. This API should be called for each claim id.\",\n",
      "        \"operationId\": \"getOutstandingPaperwork\",\n",
      "        \"parameters\": [\n",
      "          {\n",
      "            \"name\": \"claimId\",\n",
      "            \"in\": \"path\",\n",
      "            \"description\": \"Unique ID of the open insurance claim\",\n",
      "            \"required\": true,\n",
      "            \"schema\": {\n",
      "              \"type\": \"string\"\n",
      "            }\n",
      "          }\n",
      "        ],\n",
      "        \"responses\": {\n",
      "          \"200\": {\n",
      "            \"description\": \"List of documents that are pending to be uploaded by policy holder for insurance claim\",\n",
      "            \"content\": {\n",
      "              \"application/json\": {\n",
      "                \"schema\": {\n",
      "                  \"type\": \"object\",\n",
      "                  \"properties\": {\n",
      "                    \"pendingDocuments\": {\n",
      "                      \"type\": \"string\",\n",
      "                      \"description\": \"The list of pending documents for the claim.\"\n",
      "                    }\n",
      "                  }\n",
      "                }\n",
      "              }\n",
      "            }\n",
      "          }\n",
      "        }\n",
      "      }\n",
      "    },\n",
      "    \"/open-items/{claimId}/detail\": {\n",
      "      \"get\": {\n",
      "        \"summary\": \"Gets all details about a specific claim\",\n",
      "        \"description\": \"Gets all details about a specific claim given a claim id.\",\n",
      "        \"operationId\": \"getClaimDetail\",\n",
      "        \"parameters\": [\n",
      "          {\n",
      "            \"name\": \"claimId\",\n",
      "            \"in\": \"path\",\n",
      "            \"description\": \"Unique ID of the open insurance claim\",\n",
      "            \"required\": true,\n",
      "            \"schema\": {\n",
      "              \"type\": \"string\"\n",
      "            }\n",
      "          }\n",
      "        ],\n",
      "        \"responses\": {\n",
      "          \"200\": {\n",
      "            \"description\": \"Details of the claim\",\n",
      "            \"content\": {\n",
      "              \"application/json\": {\n",
      "                \"schema\": {\n",
      "                  \"type\": \"object\",\n",
      "                  \"properties\": {\n",
      "                    \"claimId\": {\n",
      "                      \"type\": \"string\",\n",
      "                      \"description\": \"Unique identifier for the claim.\"\n",
      "                    },\n",
      "                    \"createdDate\": {\n",
      "                      \"type\": \"string\",\n",
      "                      \"description\": \"Date the claim was created.\"\n",
      "                    },\n",
      "                    \"lastActivityDate\": {\n",
      "                      \"type\": \"string\",\n",
      "                      \"description\": \"Date of last activity.\"\n",
      "                    },\n",
      "                    \"status\": {\n",
      "                      \"type\": \"string\",\n",
      "                      \"description\": \"Claim status. One of: Open, Completed.\"\n",
      "                    },\n",
      "                    \"policyType\": {\n",
      "                      \"type\": \"string\",\n",
      "                      \"description\": \"Policy type. One of: Vehicle, Life, Disability.\"\n",
      "                    }\n",
      "                  }\n",
      "                }\n",
      "              }\n",
      "            }\n",
      "          }\n",
      "        }\n",
      "      }\n",
      "    },\n",
      "    \"/notify\": {\n",
      "      \"post\": {\n",
      "        \"summary\": \"API to send reminder to the policy holder about pending documents for the open claim\",\n",
      "        \"description\": \"Send reminder to the policy holder about pending documents for the open claim. The API takes in only one claim id and its pending documents at a time, sends the reminder and returns the tracking details for the reminder. This API should be called for each claim id you want to send reminders.\",\n",
      "        \"operationId\": \"sendReminder\",\n",
      "        \"requestBody\": {\n",
      "          \"required\": true,\n",
      "          \"content\": {\n",
      "            \"application/json\": {\n",
      "              \"schema\": {\n",
      "                \"type\": \"object\",\n",
      "                \"properties\": {\n",
      "                  \"claimId\": {\n",
      "                    \"type\": \"string\",\n",
      "                    \"description\": \"Unique ID of open claims to send reminders.\"\n",
      "                  },\n",
      "                  \"pendingDocuments\": {\n",
      "                    \"type\": \"array\",\n",
      "                    \"items\": {\n",
      "                      \"type\": \"object\",\n",
      "                      \"properties\": {\n",
      "                        \"pendingDocument\": {\n",
      "                          \"type\": \"string\",\n",
      "                          \"description\": \"name of the pending document in the claim\"\n",
      "                        },\n",
      "                        \"DocumentRequirements\": {\n",
      "                          \"type\": \"string\",\n",
      "                          \"description\": \"the requirements of the pending document in the claim\"\n",
      "                        }\n",
      "                      }\n",
      "                    },\n",
      "                    \"description\": \"List of object containing the pending documents id as key and their requirements as value\"\n",
      "                  }\n",
      "                },\n",
      "                \"required\": [\n",
      "                  \"claimId\",\n",
      "                  \"pendingDocuments\"\n",
      "                ]\n",
      "              }\n",
      "            }\n",
      "          }\n",
      "        },\n",
      "        \"responses\": {\n",
      "          \"200\": {\n",
      "            \"description\": \"Reminders sent successfully\",\n",
      "            \"content\": {\n",
      "              \"application/json\": {\n",
      "                \"schema\": {\n",
      "                  \"type\": \"object\",\n",
      "                  \"properties\": {\n",
      "                    \"sendReminderTrackingId\": {\n",
      "                      \"type\": \"string\",\n",
      "                      \"description\": \"Unique Id to track the status of the send reminder call\"\n",
      "                    },\n",
      "                    \"sendReminderStatus\": {\n",
      "                      \"type\": \"string\",\n",
      "                      \"description\": \"Status of send reminder notifications\"\n",
      "                    }\n",
      "                  }\n",
      "                }\n",
      "              }\n",
      "            }\n",
      "          },\n",
      "          \"400\": {\n",
      "            \"description\": \"Bad request. One or more required fields are missing or invalid.\"\n",
      "          }\n",
      "        }\n",
      "      }\n",
      "    }\n",
      "  }\n",
      "}\n"
     ]
    }
   ],
   "source": [
    "import json\n",
    "\n",
    "with open('insurance_claims_agent_openapi_schema.json', 'r') as f:\n",
    "    json_data = json.load(f)\n",
    "print(json.dumps(json_data, ensure_ascii=False, indent=2))"
   ]
  },
  {
   "cell_type": "code",
   "execution_count": 25,
   "id": "70aac712-e1e9-4761-9ed2-92181cb65a11",
   "metadata": {
    "tags": []
   },
   "outputs": [
    {
     "name": "stdout",
     "output_type": "stream",
     "text": [
      "An error occurred (BucketAlreadyOwnedByYou) when calling the CreateBucket operation: Your previous request to create the named bucket succeeded and you already own it.\n"
     ]
    }
   ],
   "source": [
    "# Create S3 bucket for Open API schema\n",
    "try:\n",
    "    if region == \"us-east-1\":\n",
    "        s3bucket = s3_client.create_bucket(\n",
    "            Bucket=bucket_name\n",
    "        )\n",
    "    else:\n",
    "        s3bucket = s3_client.create_bucket(\n",
    "            Bucket=bucket_name,\n",
    "            CreateBucketConfiguration={ 'LocationConstraint': region } \n",
    "        )\n",
    "except Exception as e:\n",
    "    print(e)"
   ]
  },
  {
   "cell_type": "code",
   "execution_count": 26,
   "id": "159ff709-acdc-4174-9b5a-7fab8e0408df",
   "metadata": {
    "tags": []
   },
   "outputs": [],
   "source": [
    "# Upload Open API schema to this s3 bucket\n",
    "s3_client.upload_file(schema_name, bucket_name, bucket_key)"
   ]
  },
  {
   "cell_type": "markdown",
   "id": "ca46ab2f-f5a3-484b-9720-b3d586f47308",
   "metadata": {},
   "source": [
    "### 액션 그룹을 위한 람다 함수 만들기\n",
    "이제 agent action group에 필요한 람다 함수를 만들어 보겠습니다. 먼저 람다 IAM 역할과 정책을 만들어야 합니다. 그런 다음 람다 함수를 ZIP 형식으로 패키징하여 함수를 만듭니다."
   ]
  },
  {
   "cell_type": "code",
   "execution_count": 27,
   "id": "55b4269a-9781-4efd-b7c6-9dcb222541ac",
   "metadata": {
    "tags": []
   },
   "outputs": [
    {
     "data": {
      "text/plain": [
       "{'ResponseMetadata': {'RequestId': 'ddef12b1-ba43-439f-83d0-1eb3f0ff614c',\n",
       "  'HTTPStatusCode': 200,\n",
       "  'HTTPHeaders': {'date': 'Fri, 07 Jun 2024 10:51:21 GMT',\n",
       "   'x-amzn-requestid': 'ddef12b1-ba43-439f-83d0-1eb3f0ff614c',\n",
       "   'content-type': 'text/xml',\n",
       "   'content-length': '212'},\n",
       "  'RetryAttempts': 0}}"
      ]
     },
     "execution_count": 27,
     "metadata": {},
     "output_type": "execute_result"
    }
   ],
   "source": [
    "# Create IAM Role for the Lambda function\n",
    "try:\n",
    "    assume_role_policy_document = {\n",
    "        \"Version\": \"2012-10-17\",\n",
    "        \"Statement\": [\n",
    "            {\n",
    "                \"Effect\": \"Allow\",\n",
    "                \"Action\": \"bedrock:InvokeModel\",\n",
    "                \"Principal\": {\n",
    "                    \"Service\": \"lambda.amazonaws.com\"\n",
    "                },\n",
    "                \"Action\": \"sts:AssumeRole\"\n",
    "            }\n",
    "        ]\n",
    "    }\n",
    "\n",
    "    assume_role_policy_document_json = json.dumps(assume_role_policy_document)\n",
    "\n",
    "    lambda_iam_role = iam_client.create_role(\n",
    "        RoleName=lambda_role_name,\n",
    "        AssumeRolePolicyDocument=assume_role_policy_document_json\n",
    "    )\n",
    "\n",
    "    # Pause to make sure role is created\n",
    "    time.sleep(10)\n",
    "except:\n",
    "    lambda_iam_role = iam_client.get_role(RoleName=lambda_role_name)\n",
    "\n",
    "iam_client.attach_role_policy(\n",
    "    RoleName=lambda_role_name,\n",
    "    PolicyArn='arn:aws:iam::aws:policy/service-role/AWSLambdaBasicExecutionRole'\n",
    ")"
   ]
  },
  {
   "cell_type": "markdown",
   "id": "fa5f99ca-ccfc-4a47-aec4-541e36686138",
   "metadata": {},
   "source": [
    "agent의 Action group으로 사용될 람다 함수 코드를 살펴보세요."
   ]
  },
  {
   "cell_type": "code",
   "execution_count": 28,
   "id": "04e53f6c-184d-4ab7-b845-87f380d263cb",
   "metadata": {
    "scrolled": true,
    "tags": []
   },
   "outputs": [
    {
     "name": "stdout",
     "output_type": "stream",
     "text": [
      "\u001b[37m#!/usr/bin/env python3\u001b[39;49;00m\u001b[37m\u001b[39;49;00m\n",
      "\u001b[37m# Copyright Amazon.com, Inc. or its affiliates. All Rights Reserved.\u001b[39;49;00m\u001b[37m\u001b[39;49;00m\n",
      "\u001b[37m# SPDX-License-Identifier: MIT-0\u001b[39;49;00m\u001b[37m\u001b[39;49;00m\n",
      "\u001b[34mimport\u001b[39;49;00m \u001b[04m\u001b[36mjson\u001b[39;49;00m\u001b[37m\u001b[39;49;00m\n",
      "\u001b[37m\u001b[39;49;00m\n",
      "\u001b[37m\u001b[39;49;00m\n",
      "\u001b[34mdef\u001b[39;49;00m \u001b[32mget_named_parameter\u001b[39;49;00m(event, name):\u001b[37m\u001b[39;49;00m\n",
      "    \u001b[34mreturn\u001b[39;49;00m \u001b[36mnext\u001b[39;49;00m(item \u001b[34mfor\u001b[39;49;00m item \u001b[35min\u001b[39;49;00m event[\u001b[33m'\u001b[39;49;00m\u001b[33mparameters\u001b[39;49;00m\u001b[33m'\u001b[39;49;00m] \u001b[34mif\u001b[39;49;00m item[\u001b[33m'\u001b[39;49;00m\u001b[33mname\u001b[39;49;00m\u001b[33m'\u001b[39;49;00m] == name)[\u001b[33m'\u001b[39;49;00m\u001b[33mvalue\u001b[39;49;00m\u001b[33m'\u001b[39;49;00m]\u001b[37m\u001b[39;49;00m\n",
      "\u001b[37m\u001b[39;49;00m\n",
      "\u001b[37m\u001b[39;49;00m\n",
      "\u001b[34mdef\u001b[39;49;00m \u001b[32mget_named_property\u001b[39;49;00m(event, name):\u001b[37m\u001b[39;49;00m\n",
      "    \u001b[34mreturn\u001b[39;49;00m \u001b[36mnext\u001b[39;49;00m(\u001b[37m\u001b[39;49;00m\n",
      "        item \u001b[34mfor\u001b[39;49;00m item \u001b[35min\u001b[39;49;00m\u001b[37m\u001b[39;49;00m\n",
      "        event[\u001b[33m'\u001b[39;49;00m\u001b[33mrequestBody\u001b[39;49;00m\u001b[33m'\u001b[39;49;00m][\u001b[33m'\u001b[39;49;00m\u001b[33mcontent\u001b[39;49;00m\u001b[33m'\u001b[39;49;00m][\u001b[33m'\u001b[39;49;00m\u001b[33mapplication/json\u001b[39;49;00m\u001b[33m'\u001b[39;49;00m][\u001b[33m'\u001b[39;49;00m\u001b[33mproperties\u001b[39;49;00m\u001b[33m'\u001b[39;49;00m]\u001b[37m\u001b[39;49;00m\n",
      "        \u001b[34mif\u001b[39;49;00m item[\u001b[33m'\u001b[39;49;00m\u001b[33mname\u001b[39;49;00m\u001b[33m'\u001b[39;49;00m] == name)[\u001b[33m'\u001b[39;49;00m\u001b[33mvalue\u001b[39;49;00m\u001b[33m'\u001b[39;49;00m]\u001b[37m\u001b[39;49;00m\n",
      "\u001b[37m\u001b[39;49;00m\n",
      "\u001b[37m\u001b[39;49;00m\n",
      "\u001b[34mdef\u001b[39;49;00m \u001b[32mclaim_detail\u001b[39;49;00m(payload):\u001b[37m\u001b[39;49;00m\n",
      "    claim_id = payload[\u001b[33m'\u001b[39;49;00m\u001b[33mparameters\u001b[39;49;00m\u001b[33m'\u001b[39;49;00m][\u001b[34m0\u001b[39;49;00m][\u001b[33m'\u001b[39;49;00m\u001b[33mvalue\u001b[39;49;00m\u001b[33m'\u001b[39;49;00m]\u001b[37m\u001b[39;49;00m\n",
      "    \u001b[34mif\u001b[39;49;00m claim_id == \u001b[33m'\u001b[39;49;00m\u001b[33mclaim-857\u001b[39;49;00m\u001b[33m'\u001b[39;49;00m:\u001b[37m\u001b[39;49;00m\n",
      "        \u001b[34mreturn\u001b[39;49;00m {\u001b[37m\u001b[39;49;00m\n",
      "            \u001b[33m\"\u001b[39;49;00m\u001b[33mresponse\u001b[39;49;00m\u001b[33m\"\u001b[39;49;00m: {\u001b[37m\u001b[39;49;00m\n",
      "                \u001b[33m\"\u001b[39;49;00m\u001b[33mclaimId\u001b[39;49;00m\u001b[33m\"\u001b[39;49;00m: claim_id,\u001b[37m\u001b[39;49;00m\n",
      "                \u001b[33m\"\u001b[39;49;00m\u001b[33mcreatedDate\u001b[39;49;00m\u001b[33m\"\u001b[39;49;00m: \u001b[33m\"\u001b[39;49;00m\u001b[33m21-Jul-2023\u001b[39;49;00m\u001b[33m\"\u001b[39;49;00m,\u001b[37m\u001b[39;49;00m\n",
      "                \u001b[33m\"\u001b[39;49;00m\u001b[33mlastActivityDate\u001b[39;49;00m\u001b[33m\"\u001b[39;49;00m: \u001b[33m\"\u001b[39;49;00m\u001b[33m25-Jul-2023\u001b[39;49;00m\u001b[33m\"\u001b[39;49;00m,\u001b[37m\u001b[39;49;00m\n",
      "                \u001b[33m\"\u001b[39;49;00m\u001b[33mstatus\u001b[39;49;00m\u001b[33m\"\u001b[39;49;00m: \u001b[33m\"\u001b[39;49;00m\u001b[33mOpen\u001b[39;49;00m\u001b[33m\"\u001b[39;49;00m,\u001b[37m\u001b[39;49;00m\n",
      "                \u001b[33m\"\u001b[39;49;00m\u001b[33mpolicyType\u001b[39;49;00m\u001b[33m\"\u001b[39;49;00m: \u001b[33m\"\u001b[39;49;00m\u001b[33mVehicle\u001b[39;49;00m\u001b[33m\"\u001b[39;49;00m\u001b[37m\u001b[39;49;00m\n",
      "            }\u001b[37m\u001b[39;49;00m\n",
      "        }\u001b[37m\u001b[39;49;00m\n",
      "    \u001b[34melif\u001b[39;49;00m claim_id == \u001b[33m'\u001b[39;49;00m\u001b[33mclaim-006\u001b[39;49;00m\u001b[33m'\u001b[39;49;00m:\u001b[37m\u001b[39;49;00m\n",
      "        \u001b[34mreturn\u001b[39;49;00m {\u001b[37m\u001b[39;49;00m\n",
      "            \u001b[33m\"\u001b[39;49;00m\u001b[33mresponse\u001b[39;49;00m\u001b[33m\"\u001b[39;49;00m: {\u001b[37m\u001b[39;49;00m\n",
      "                \u001b[33m\"\u001b[39;49;00m\u001b[33mclaimId\u001b[39;49;00m\u001b[33m\"\u001b[39;49;00m: claim_id,\u001b[37m\u001b[39;49;00m\n",
      "                \u001b[33m\"\u001b[39;49;00m\u001b[33mcreatedDate\u001b[39;49;00m\u001b[33m\"\u001b[39;49;00m: \u001b[33m\"\u001b[39;49;00m\u001b[33m20-May-2023\u001b[39;49;00m\u001b[33m\"\u001b[39;49;00m,\u001b[37m\u001b[39;49;00m\n",
      "                \u001b[33m\"\u001b[39;49;00m\u001b[33mlastActivityDate\u001b[39;49;00m\u001b[33m\"\u001b[39;49;00m: \u001b[33m\"\u001b[39;49;00m\u001b[33m23-Jul-2023\u001b[39;49;00m\u001b[33m\"\u001b[39;49;00m,\u001b[37m\u001b[39;49;00m\n",
      "                \u001b[33m\"\u001b[39;49;00m\u001b[33mstatus\u001b[39;49;00m\u001b[33m\"\u001b[39;49;00m: \u001b[33m\"\u001b[39;49;00m\u001b[33mOpen\u001b[39;49;00m\u001b[33m\"\u001b[39;49;00m,\u001b[37m\u001b[39;49;00m\n",
      "                \u001b[33m\"\u001b[39;49;00m\u001b[33mpolicyType\u001b[39;49;00m\u001b[33m\"\u001b[39;49;00m: \u001b[33m\"\u001b[39;49;00m\u001b[33mVehicle\u001b[39;49;00m\u001b[33m\"\u001b[39;49;00m\u001b[37m\u001b[39;49;00m\n",
      "            }\u001b[37m\u001b[39;49;00m\n",
      "        }\u001b[37m\u001b[39;49;00m\n",
      "    \u001b[34melif\u001b[39;49;00m claim_id == \u001b[33m'\u001b[39;49;00m\u001b[33mclaim-999\u001b[39;49;00m\u001b[33m'\u001b[39;49;00m:\u001b[37m\u001b[39;49;00m\n",
      "        \u001b[34mreturn\u001b[39;49;00m {\u001b[37m\u001b[39;49;00m\n",
      "            \u001b[33m\"\u001b[39;49;00m\u001b[33mresponse\u001b[39;49;00m\u001b[33m\"\u001b[39;49;00m: {\u001b[37m\u001b[39;49;00m\n",
      "                \u001b[33m\"\u001b[39;49;00m\u001b[33mclaimId\u001b[39;49;00m\u001b[33m\"\u001b[39;49;00m: claim_id,\u001b[37m\u001b[39;49;00m\n",
      "                \u001b[33m\"\u001b[39;49;00m\u001b[33mcreatedDate\u001b[39;49;00m\u001b[33m\"\u001b[39;49;00m: \u001b[33m\"\u001b[39;49;00m\u001b[33m10-Jan-2023\u001b[39;49;00m\u001b[33m\"\u001b[39;49;00m,\u001b[37m\u001b[39;49;00m\n",
      "                \u001b[33m\"\u001b[39;49;00m\u001b[33mlastActivityDate\u001b[39;49;00m\u001b[33m\"\u001b[39;49;00m: \u001b[33m\"\u001b[39;49;00m\u001b[33m31-Feb-2023\u001b[39;49;00m\u001b[33m\"\u001b[39;49;00m,\u001b[37m\u001b[39;49;00m\n",
      "                \u001b[33m\"\u001b[39;49;00m\u001b[33mstatus\u001b[39;49;00m\u001b[33m\"\u001b[39;49;00m: \u001b[33m\"\u001b[39;49;00m\u001b[33mCompleted\u001b[39;49;00m\u001b[33m\"\u001b[39;49;00m,\u001b[37m\u001b[39;49;00m\n",
      "                \u001b[33m\"\u001b[39;49;00m\u001b[33mpolicyType\u001b[39;49;00m\u001b[33m\"\u001b[39;49;00m: \u001b[33m\"\u001b[39;49;00m\u001b[33mDisability\u001b[39;49;00m\u001b[33m\"\u001b[39;49;00m\u001b[37m\u001b[39;49;00m\n",
      "            }\u001b[37m\u001b[39;49;00m\n",
      "        }\u001b[37m\u001b[39;49;00m\n",
      "    \u001b[34melse\u001b[39;49;00m:\u001b[37m\u001b[39;49;00m\n",
      "        \u001b[34mreturn\u001b[39;49;00m {\u001b[37m\u001b[39;49;00m\n",
      "            \u001b[33m\"\u001b[39;49;00m\u001b[33mresponse\u001b[39;49;00m\u001b[33m\"\u001b[39;49;00m: {\u001b[37m\u001b[39;49;00m\n",
      "                \u001b[33m\"\u001b[39;49;00m\u001b[33mclaimId\u001b[39;49;00m\u001b[33m\"\u001b[39;49;00m: claim_id,\u001b[37m\u001b[39;49;00m\n",
      "                \u001b[33m\"\u001b[39;49;00m\u001b[33mcreatedDate\u001b[39;49;00m\u001b[33m\"\u001b[39;49;00m: \u001b[33m\"\u001b[39;49;00m\u001b[33m18-Apr-2023\u001b[39;49;00m\u001b[33m\"\u001b[39;49;00m,\u001b[37m\u001b[39;49;00m\n",
      "                \u001b[33m\"\u001b[39;49;00m\u001b[33mlastActivityDate\u001b[39;49;00m\u001b[33m\"\u001b[39;49;00m: \u001b[33m\"\u001b[39;49;00m\u001b[33m20-Apr-2023\u001b[39;49;00m\u001b[33m\"\u001b[39;49;00m,\u001b[37m\u001b[39;49;00m\n",
      "                \u001b[33m\"\u001b[39;49;00m\u001b[33mstatus\u001b[39;49;00m\u001b[33m\"\u001b[39;49;00m: \u001b[33m\"\u001b[39;49;00m\u001b[33mOpen\u001b[39;49;00m\u001b[33m\"\u001b[39;49;00m,\u001b[37m\u001b[39;49;00m\n",
      "                \u001b[33m\"\u001b[39;49;00m\u001b[33mpolicyType\u001b[39;49;00m\u001b[33m\"\u001b[39;49;00m: \u001b[33m\"\u001b[39;49;00m\u001b[33mVehicle\u001b[39;49;00m\u001b[33m\"\u001b[39;49;00m\u001b[37m\u001b[39;49;00m\n",
      "            }\u001b[37m\u001b[39;49;00m\n",
      "        }\u001b[37m\u001b[39;49;00m\n",
      "\u001b[37m\u001b[39;49;00m\n",
      "\u001b[37m\u001b[39;49;00m\n",
      "\u001b[34mdef\u001b[39;49;00m \u001b[32mopen_claims\u001b[39;49;00m():\u001b[37m\u001b[39;49;00m\n",
      "    \u001b[34mreturn\u001b[39;49;00m {\u001b[37m\u001b[39;49;00m\n",
      "        \u001b[33m\"\u001b[39;49;00m\u001b[33mresponse\u001b[39;49;00m\u001b[33m\"\u001b[39;49;00m: [\u001b[37m\u001b[39;49;00m\n",
      "            {\u001b[37m\u001b[39;49;00m\n",
      "                \u001b[33m\"\u001b[39;49;00m\u001b[33mclaimId\u001b[39;49;00m\u001b[33m\"\u001b[39;49;00m: \u001b[33m\"\u001b[39;49;00m\u001b[33mclaim-006\u001b[39;49;00m\u001b[33m\"\u001b[39;49;00m,\u001b[37m\u001b[39;49;00m\n",
      "                \u001b[33m\"\u001b[39;49;00m\u001b[33mpolicyHolderId\u001b[39;49;00m\u001b[33m\"\u001b[39;49;00m: \u001b[33m\"\u001b[39;49;00m\u001b[33mA945684\u001b[39;49;00m\u001b[33m\"\u001b[39;49;00m,\u001b[37m\u001b[39;49;00m\n",
      "                \u001b[33m\"\u001b[39;49;00m\u001b[33mclaimStatus\u001b[39;49;00m\u001b[33m\"\u001b[39;49;00m: \u001b[33m\"\u001b[39;49;00m\u001b[33mOpen\u001b[39;49;00m\u001b[33m\"\u001b[39;49;00m\u001b[37m\u001b[39;49;00m\n",
      "            },\u001b[37m\u001b[39;49;00m\n",
      "            {\u001b[37m\u001b[39;49;00m\n",
      "                \u001b[33m\"\u001b[39;49;00m\u001b[33mclaimId\u001b[39;49;00m\u001b[33m\"\u001b[39;49;00m: \u001b[33m\"\u001b[39;49;00m\u001b[33mclaim-857\u001b[39;49;00m\u001b[33m\"\u001b[39;49;00m,\u001b[37m\u001b[39;49;00m\n",
      "                \u001b[33m\"\u001b[39;49;00m\u001b[33mpolicyHolderId\u001b[39;49;00m\u001b[33m\"\u001b[39;49;00m: \u001b[33m\"\u001b[39;49;00m\u001b[33mA645987\u001b[39;49;00m\u001b[33m\"\u001b[39;49;00m,\u001b[37m\u001b[39;49;00m\n",
      "                \u001b[33m\"\u001b[39;49;00m\u001b[33mclaimStatus\u001b[39;49;00m\u001b[33m\"\u001b[39;49;00m: \u001b[33m\"\u001b[39;49;00m\u001b[33mOpen\u001b[39;49;00m\u001b[33m\"\u001b[39;49;00m\u001b[37m\u001b[39;49;00m\n",
      "            },\u001b[37m\u001b[39;49;00m\n",
      "            {\u001b[37m\u001b[39;49;00m\n",
      "                \u001b[33m\"\u001b[39;49;00m\u001b[33mclaimId\u001b[39;49;00m\u001b[33m\"\u001b[39;49;00m: \u001b[33m\"\u001b[39;49;00m\u001b[33mclaim-334\u001b[39;49;00m\u001b[33m\"\u001b[39;49;00m,\u001b[37m\u001b[39;49;00m\n",
      "                \u001b[33m\"\u001b[39;49;00m\u001b[33mpolicyHolderId\u001b[39;49;00m\u001b[33m\"\u001b[39;49;00m: \u001b[33m\"\u001b[39;49;00m\u001b[33mA987654\u001b[39;49;00m\u001b[33m\"\u001b[39;49;00m,\u001b[37m\u001b[39;49;00m\n",
      "                \u001b[33m\"\u001b[39;49;00m\u001b[33mclaimStatus\u001b[39;49;00m\u001b[33m\"\u001b[39;49;00m: \u001b[33m\"\u001b[39;49;00m\u001b[33mOpen\u001b[39;49;00m\u001b[33m\"\u001b[39;49;00m\u001b[37m\u001b[39;49;00m\n",
      "            }\u001b[37m\u001b[39;49;00m\n",
      "        ]\u001b[37m\u001b[39;49;00m\n",
      "    }\u001b[37m\u001b[39;49;00m\n",
      "\u001b[37m\u001b[39;49;00m\n",
      "\u001b[37m\u001b[39;49;00m\n",
      "\u001b[34mdef\u001b[39;49;00m \u001b[32moutstanding_paperwork\u001b[39;49;00m(parameters):\u001b[37m\u001b[39;49;00m\n",
      "    \u001b[34mfor\u001b[39;49;00m parameter \u001b[35min\u001b[39;49;00m parameters:\u001b[37m\u001b[39;49;00m\n",
      "        \u001b[34mif\u001b[39;49;00m parameter.get(\u001b[33m\"\u001b[39;49;00m\u001b[33mvalue\u001b[39;49;00m\u001b[33m\"\u001b[39;49;00m, \u001b[34mNone\u001b[39;49;00m) == \u001b[33m\"\u001b[39;49;00m\u001b[33mclaim-857\u001b[39;49;00m\u001b[33m\"\u001b[39;49;00m:\u001b[37m\u001b[39;49;00m\n",
      "            \u001b[34mreturn\u001b[39;49;00m {\u001b[37m\u001b[39;49;00m\n",
      "                \u001b[33m\"\u001b[39;49;00m\u001b[33mresponse\u001b[39;49;00m\u001b[33m\"\u001b[39;49;00m: {\u001b[37m\u001b[39;49;00m\n",
      "                    \u001b[33m\"\u001b[39;49;00m\u001b[33mpendingDocuments\u001b[39;49;00m\u001b[33m\"\u001b[39;49;00m: \u001b[33m\"\u001b[39;49;00m\u001b[33mDriverLicense, VehicleRegistration\u001b[39;49;00m\u001b[33m\"\u001b[39;49;00m\u001b[37m\u001b[39;49;00m\n",
      "                }\u001b[37m\u001b[39;49;00m\n",
      "            }\u001b[37m\u001b[39;49;00m\n",
      "        \u001b[34melif\u001b[39;49;00m parameter.get(\u001b[33m\"\u001b[39;49;00m\u001b[33mvalue\u001b[39;49;00m\u001b[33m\"\u001b[39;49;00m, \u001b[34mNone\u001b[39;49;00m) == \u001b[33m\"\u001b[39;49;00m\u001b[33mclaim-006\u001b[39;49;00m\u001b[33m\"\u001b[39;49;00m:\u001b[37m\u001b[39;49;00m\n",
      "            \u001b[34mreturn\u001b[39;49;00m {\u001b[37m\u001b[39;49;00m\n",
      "                \u001b[33m\"\u001b[39;49;00m\u001b[33mresponse\u001b[39;49;00m\u001b[33m\"\u001b[39;49;00m: {\u001b[37m\u001b[39;49;00m\n",
      "                    \u001b[33m\"\u001b[39;49;00m\u001b[33mpendingDocuments\u001b[39;49;00m\u001b[33m\"\u001b[39;49;00m: \u001b[33m\"\u001b[39;49;00m\u001b[33mAccidentImages\u001b[39;49;00m\u001b[33m\"\u001b[39;49;00m\u001b[37m\u001b[39;49;00m\n",
      "                }\u001b[37m\u001b[39;49;00m\n",
      "            }\u001b[37m\u001b[39;49;00m\n",
      "        \u001b[34melse\u001b[39;49;00m:\u001b[37m\u001b[39;49;00m\n",
      "            \u001b[34mreturn\u001b[39;49;00m {\u001b[37m\u001b[39;49;00m\n",
      "                \u001b[33m\"\u001b[39;49;00m\u001b[33mresponse\u001b[39;49;00m\u001b[33m\"\u001b[39;49;00m: {\u001b[37m\u001b[39;49;00m\n",
      "                    \u001b[33m\"\u001b[39;49;00m\u001b[33mpendingDocuments\u001b[39;49;00m\u001b[33m\"\u001b[39;49;00m: \u001b[33m\"\u001b[39;49;00m\u001b[33m\"\u001b[39;49;00m\u001b[37m\u001b[39;49;00m\n",
      "                }\u001b[37m\u001b[39;49;00m\n",
      "            }\u001b[37m\u001b[39;49;00m\n",
      "\u001b[37m\u001b[39;49;00m\n",
      "\u001b[37m\u001b[39;49;00m\n",
      "\u001b[34mdef\u001b[39;49;00m \u001b[32msend_reminder\u001b[39;49;00m(payload):\u001b[37m\u001b[39;49;00m\n",
      "    \u001b[36mprint\u001b[39;49;00m(payload)\u001b[37m\u001b[39;49;00m\n",
      "    \u001b[34mreturn\u001b[39;49;00m {\u001b[37m\u001b[39;49;00m\n",
      "        \u001b[33m\"\u001b[39;49;00m\u001b[33mresponse\u001b[39;49;00m\u001b[33m\"\u001b[39;49;00m: {\u001b[37m\u001b[39;49;00m\n",
      "            \u001b[33m\"\u001b[39;49;00m\u001b[33msendReminderTrackingId\u001b[39;49;00m\u001b[33m\"\u001b[39;49;00m: \u001b[33m\"\u001b[39;49;00m\u001b[33m50e8400-e29b-41d4-a716-446655440000\u001b[39;49;00m\u001b[33m\"\u001b[39;49;00m,\u001b[37m\u001b[39;49;00m\n",
      "            \u001b[33m\"\u001b[39;49;00m\u001b[33msendReminderStatus\u001b[39;49;00m\u001b[33m\"\u001b[39;49;00m: \u001b[33m\"\u001b[39;49;00m\u001b[33mInProgress\u001b[39;49;00m\u001b[33m\"\u001b[39;49;00m\u001b[37m\u001b[39;49;00m\n",
      "        }\u001b[37m\u001b[39;49;00m\n",
      "    }\u001b[37m\u001b[39;49;00m\n",
      "\u001b[37m\u001b[39;49;00m\n",
      "\u001b[37m\u001b[39;49;00m\n",
      "\u001b[34mdef\u001b[39;49;00m \u001b[32mlambda_handler\u001b[39;49;00m(event, context):\u001b[37m\u001b[39;49;00m\n",
      "    action = event[\u001b[33m'\u001b[39;49;00m\u001b[33mactionGroup\u001b[39;49;00m\u001b[33m'\u001b[39;49;00m]\u001b[37m\u001b[39;49;00m\n",
      "    api_path = event[\u001b[33m'\u001b[39;49;00m\u001b[33mapiPath\u001b[39;49;00m\u001b[33m'\u001b[39;49;00m]\u001b[37m\u001b[39;49;00m\n",
      "\u001b[37m\u001b[39;49;00m\n",
      "    \u001b[34mif\u001b[39;49;00m api_path == \u001b[33m'\u001b[39;49;00m\u001b[33m/open-items\u001b[39;49;00m\u001b[33m'\u001b[39;49;00m:\u001b[37m\u001b[39;49;00m\n",
      "        body = open_claims()\u001b[37m\u001b[39;49;00m\n",
      "    \u001b[34melif\u001b[39;49;00m api_path == \u001b[33m'\u001b[39;49;00m\u001b[33m/open-items/\u001b[39;49;00m\u001b[33m{claimId}\u001b[39;49;00m\u001b[33m/outstanding-paperwork\u001b[39;49;00m\u001b[33m'\u001b[39;49;00m:\u001b[37m\u001b[39;49;00m\n",
      "        parameters = event[\u001b[33m'\u001b[39;49;00m\u001b[33mparameters\u001b[39;49;00m\u001b[33m'\u001b[39;49;00m]\u001b[37m\u001b[39;49;00m\n",
      "        body = outstanding_paperwork(parameters)\u001b[37m\u001b[39;49;00m\n",
      "    \u001b[34melif\u001b[39;49;00m api_path == \u001b[33m'\u001b[39;49;00m\u001b[33m/open-items/\u001b[39;49;00m\u001b[33m{claimId}\u001b[39;49;00m\u001b[33m/detail\u001b[39;49;00m\u001b[33m'\u001b[39;49;00m:\u001b[37m\u001b[39;49;00m\n",
      "        body = claim_detail(event)\u001b[37m\u001b[39;49;00m\n",
      "    \u001b[34melif\u001b[39;49;00m api_path == \u001b[33m'\u001b[39;49;00m\u001b[33m/notify\u001b[39;49;00m\u001b[33m'\u001b[39;49;00m:\u001b[37m\u001b[39;49;00m\n",
      "        body = send_reminder(event)\u001b[37m\u001b[39;49;00m\n",
      "    \u001b[34melse\u001b[39;49;00m:\u001b[37m\u001b[39;49;00m\n",
      "        body = {\u001b[33m\"\u001b[39;49;00m\u001b[33m{}\u001b[39;49;00m\u001b[33m::\u001b[39;49;00m\u001b[33m{}\u001b[39;49;00m\u001b[33m is not a valid api, try another one.\u001b[39;49;00m\u001b[33m\"\u001b[39;49;00m.format(action, api_path)}\u001b[37m\u001b[39;49;00m\n",
      "\u001b[37m\u001b[39;49;00m\n",
      "    response_body = {\u001b[37m\u001b[39;49;00m\n",
      "        \u001b[33m'\u001b[39;49;00m\u001b[33mapplication/json\u001b[39;49;00m\u001b[33m'\u001b[39;49;00m: {\u001b[37m\u001b[39;49;00m\n",
      "            \u001b[33m'\u001b[39;49;00m\u001b[33mbody\u001b[39;49;00m\u001b[33m'\u001b[39;49;00m: \u001b[36mstr\u001b[39;49;00m(body)\u001b[37m\u001b[39;49;00m\n",
      "        }\u001b[37m\u001b[39;49;00m\n",
      "    }\u001b[37m\u001b[39;49;00m\n",
      "\u001b[37m\u001b[39;49;00m\n",
      "    action_response = {\u001b[37m\u001b[39;49;00m\n",
      "        \u001b[33m'\u001b[39;49;00m\u001b[33mactionGroup\u001b[39;49;00m\u001b[33m'\u001b[39;49;00m: event[\u001b[33m'\u001b[39;49;00m\u001b[33mactionGroup\u001b[39;49;00m\u001b[33m'\u001b[39;49;00m],\u001b[37m\u001b[39;49;00m\n",
      "        \u001b[33m'\u001b[39;49;00m\u001b[33mapiPath\u001b[39;49;00m\u001b[33m'\u001b[39;49;00m: event[\u001b[33m'\u001b[39;49;00m\u001b[33mapiPath\u001b[39;49;00m\u001b[33m'\u001b[39;49;00m],\u001b[37m\u001b[39;49;00m\n",
      "        \u001b[33m'\u001b[39;49;00m\u001b[33mhttpMethod\u001b[39;49;00m\u001b[33m'\u001b[39;49;00m: event[\u001b[33m'\u001b[39;49;00m\u001b[33mhttpMethod\u001b[39;49;00m\u001b[33m'\u001b[39;49;00m],\u001b[37m\u001b[39;49;00m\n",
      "        \u001b[33m'\u001b[39;49;00m\u001b[33mhttpStatusCode\u001b[39;49;00m\u001b[33m'\u001b[39;49;00m: \u001b[34m200\u001b[39;49;00m,\u001b[37m\u001b[39;49;00m\n",
      "        \u001b[33m'\u001b[39;49;00m\u001b[33mresponseBody\u001b[39;49;00m\u001b[33m'\u001b[39;49;00m: response_body\u001b[37m\u001b[39;49;00m\n",
      "    }\u001b[37m\u001b[39;49;00m\n",
      "\u001b[37m\u001b[39;49;00m\n",
      "    response = {\u001b[33m'\u001b[39;49;00m\u001b[33mresponse\u001b[39;49;00m\u001b[33m'\u001b[39;49;00m: action_response}\u001b[37m\u001b[39;49;00m\n",
      "    \u001b[34mreturn\u001b[39;49;00m response\u001b[37m\u001b[39;49;00m\n"
     ]
    }
   ],
   "source": [
    "!pygmentize lambda_function.py"
   ]
  },
  {
   "cell_type": "code",
   "execution_count": 29,
   "id": "f8b0dbc2-9c36-4f0a-8701-472f7c162a65",
   "metadata": {
    "tags": []
   },
   "outputs": [],
   "source": [
    "# Package up the lambda function code\n",
    "s = BytesIO()\n",
    "z = zipfile.ZipFile(s, 'w')\n",
    "z.write(lambda_code_path)\n",
    "z.close()\n",
    "zip_content = s.getvalue()\n",
    "\n",
    "# Create Lambda Function\n",
    "lambda_function = lambda_client.create_function(\n",
    "    FunctionName=lambda_name,\n",
    "    Runtime='python3.12',\n",
    "    Timeout=180,\n",
    "    Role=lambda_iam_role['Role']['Arn'],\n",
    "    Code={'ZipFile': zip_content},\n",
    "    Handler='lambda_function.lambda_handler'\n",
    ")"
   ]
  },
  {
   "cell_type": "markdown",
   "id": "ded8e395-f8b7-4a64-9bb4-ac3f7dc8742a",
   "metadata": {},
   "source": [
    "### Agent 만들기\n",
    "에이전트를 생성하겠습니다. 그러기 위해서는 먼저 bedrock 모델 호출과 s3 bucket 액세스를 허용하는 Agent Policy를 만들어야 합니다. "
   ]
  },
  {
   "cell_type": "code",
   "execution_count": 36,
   "id": "1d627d18-35f4-4752-9960-9d2ccf4f48f0",
   "metadata": {
    "tags": []
   },
   "outputs": [
    {
     "ename": "EntityAlreadyExistsException",
     "evalue": "An error occurred (EntityAlreadyExists) when calling the CreatePolicy operation: A policy called insurance-claims-agent-allow-0607-10511717757470 already exists. Duplicate names are not allowed.",
     "output_type": "error",
     "traceback": [
      "\u001b[0;31m---------------------------------------------------------------------------\u001b[0m",
      "\u001b[0;31mEntityAlreadyExistsException\u001b[0m              Traceback (most recent call last)",
      "Cell \u001b[0;32mIn[36], line 19\u001b[0m\n\u001b[1;32m      3\u001b[0m bedrock_agent_bedrock_allow_policy_statement \u001b[38;5;241m=\u001b[39m {\n\u001b[1;32m      4\u001b[0m     \u001b[38;5;124m\"\u001b[39m\u001b[38;5;124mVersion\u001b[39m\u001b[38;5;124m\"\u001b[39m: \u001b[38;5;124m\"\u001b[39m\u001b[38;5;124m2012-10-17\u001b[39m\u001b[38;5;124m\"\u001b[39m,\n\u001b[1;32m      5\u001b[0m     \u001b[38;5;124m\"\u001b[39m\u001b[38;5;124mStatement\u001b[39m\u001b[38;5;124m\"\u001b[39m: [\n\u001b[0;32m   (...)\u001b[0m\n\u001b[1;32m     14\u001b[0m     ]\n\u001b[1;32m     15\u001b[0m }\n\u001b[1;32m     17\u001b[0m bedrock_policy_json \u001b[38;5;241m=\u001b[39m json\u001b[38;5;241m.\u001b[39mdumps(bedrock_agent_bedrock_allow_policy_statement)\n\u001b[0;32m---> 19\u001b[0m agent_bedrock_policy \u001b[38;5;241m=\u001b[39m \u001b[43miam_client\u001b[49m\u001b[38;5;241;43m.\u001b[39;49m\u001b[43mcreate_policy\u001b[49m\u001b[43m(\u001b[49m\n\u001b[1;32m     20\u001b[0m \u001b[43m    \u001b[49m\u001b[43mPolicyName\u001b[49m\u001b[38;5;241;43m=\u001b[39;49m\u001b[43mbedrock_agent_bedrock_allow_policy_name\u001b[49m\u001b[43m,\u001b[49m\n\u001b[1;32m     21\u001b[0m \u001b[43m    \u001b[49m\u001b[43mPolicyDocument\u001b[49m\u001b[38;5;241;43m=\u001b[39;49m\u001b[43mbedrock_policy_json\u001b[49m\n\u001b[1;32m     22\u001b[0m \u001b[43m)\u001b[49m\n",
      "File \u001b[0;32m~/anaconda3/envs/python3/lib/python3.10/site-packages/botocore/client.py:565\u001b[0m, in \u001b[0;36mClientCreator._create_api_method.<locals>._api_call\u001b[0;34m(self, *args, **kwargs)\u001b[0m\n\u001b[1;32m    561\u001b[0m     \u001b[38;5;28;01mraise\u001b[39;00m \u001b[38;5;167;01mTypeError\u001b[39;00m(\n\u001b[1;32m    562\u001b[0m         \u001b[38;5;124mf\u001b[39m\u001b[38;5;124m\"\u001b[39m\u001b[38;5;132;01m{\u001b[39;00mpy_operation_name\u001b[38;5;132;01m}\u001b[39;00m\u001b[38;5;124m() only accepts keyword arguments.\u001b[39m\u001b[38;5;124m\"\u001b[39m\n\u001b[1;32m    563\u001b[0m     )\n\u001b[1;32m    564\u001b[0m \u001b[38;5;66;03m# The \"self\" in this scope is referring to the BaseClient.\u001b[39;00m\n\u001b[0;32m--> 565\u001b[0m \u001b[38;5;28;01mreturn\u001b[39;00m \u001b[38;5;28;43mself\u001b[39;49m\u001b[38;5;241;43m.\u001b[39;49m\u001b[43m_make_api_call\u001b[49m\u001b[43m(\u001b[49m\u001b[43moperation_name\u001b[49m\u001b[43m,\u001b[49m\u001b[43m \u001b[49m\u001b[43mkwargs\u001b[49m\u001b[43m)\u001b[49m\n",
      "File \u001b[0;32m~/anaconda3/envs/python3/lib/python3.10/site-packages/botocore/client.py:1021\u001b[0m, in \u001b[0;36mBaseClient._make_api_call\u001b[0;34m(self, operation_name, api_params)\u001b[0m\n\u001b[1;32m   1017\u001b[0m     error_code \u001b[38;5;241m=\u001b[39m error_info\u001b[38;5;241m.\u001b[39mget(\u001b[38;5;124m\"\u001b[39m\u001b[38;5;124mQueryErrorCode\u001b[39m\u001b[38;5;124m\"\u001b[39m) \u001b[38;5;129;01mor\u001b[39;00m error_info\u001b[38;5;241m.\u001b[39mget(\n\u001b[1;32m   1018\u001b[0m         \u001b[38;5;124m\"\u001b[39m\u001b[38;5;124mCode\u001b[39m\u001b[38;5;124m\"\u001b[39m\n\u001b[1;32m   1019\u001b[0m     )\n\u001b[1;32m   1020\u001b[0m     error_class \u001b[38;5;241m=\u001b[39m \u001b[38;5;28mself\u001b[39m\u001b[38;5;241m.\u001b[39mexceptions\u001b[38;5;241m.\u001b[39mfrom_code(error_code)\n\u001b[0;32m-> 1021\u001b[0m     \u001b[38;5;28;01mraise\u001b[39;00m error_class(parsed_response, operation_name)\n\u001b[1;32m   1022\u001b[0m \u001b[38;5;28;01melse\u001b[39;00m:\n\u001b[1;32m   1023\u001b[0m     \u001b[38;5;28;01mreturn\u001b[39;00m parsed_response\n",
      "\u001b[0;31mEntityAlreadyExistsException\u001b[0m: An error occurred (EntityAlreadyExists) when calling the CreatePolicy operation: A policy called insurance-claims-agent-allow-0607-10511717757470 already exists. Duplicate names are not allowed."
     ]
    }
   ],
   "source": [
    "# Create IAM policies for agent\n",
    "\n",
    "bedrock_agent_bedrock_allow_policy_statement = {\n",
    "    \"Version\": \"2012-10-17\",\n",
    "    \"Statement\": [\n",
    "        {\n",
    "            \"Sid\": \"AmazonBedrockAgentBedrockFoundationModelPolicy\",\n",
    "            \"Effect\": \"Allow\",\n",
    "            \"Action\": \"bedrock:InvokeModel\",\n",
    "            \"Resource\": [\n",
    "                f\"arn:aws:bedrock:{region}::foundation-model/{model_id}\"\n",
    "            ]\n",
    "        }\n",
    "    ]\n",
    "}\n",
    "\n",
    "bedrock_policy_json = json.dumps(bedrock_agent_bedrock_allow_policy_statement)\n",
    "\n",
    "agent_bedrock_policy = iam_client.create_policy(\n",
    "    PolicyName=bedrock_agent_bedrock_allow_policy_name,\n",
    "    PolicyDocument=bedrock_policy_json\n",
    ")\n",
    "\n"
   ]
  },
  {
   "cell_type": "markdown",
   "id": "12e58ba0-1281-4950-b173-0d6d89d5934e",
   "metadata": {},
   "source": [
    "다음으로 S3에서 Agent의 OpenAPI 스키마를 가져올 수 있는 Policy를 생성합니다."
   ]
  },
  {
   "cell_type": "code",
   "execution_count": null,
   "id": "55ff92f7-e525-4d28-87ca-c3b262d0ddd0",
   "metadata": {
    "tags": []
   },
   "outputs": [],
   "source": [
    "bedrock_agent_s3_allow_policy_statement = {\n",
    "    \"Version\": \"2012-10-17\",\n",
    "    \"Statement\": [\n",
    "        {\n",
    "            \"Sid\": \"AllowAgentAccessOpenAPISchema\",\n",
    "            \"Effect\": \"Allow\",\n",
    "            \"Action\": [\"s3:GetObject\"],\n",
    "            \"Resource\": [\n",
    "                schema_arn\n",
    "            ]\n",
    "        }\n",
    "    ]\n",
    "}\n",
    "\n",
    "\n",
    "bedrock_agent_s3_json = json.dumps(bedrock_agent_s3_allow_policy_statement)\n",
    "agent_s3_schema_policy = iam_client.create_policy(\n",
    "    PolicyName=bedrock_agent_s3_allow_policy_name,\n",
    "    Description=f\"Policy to allow invoke Lambda that was provisioned for it.\",\n",
    "    PolicyDocument=bedrock_agent_s3_json\n",
    ")"
   ]
  },
  {
   "cell_type": "markdown",
   "id": "7f65d3a1-5400-4da0-87b0-df9099f9d160",
   "metadata": {},
   "source": [
    "2개의 Policy를 추가하여 role을 생성합니다."
   ]
  },
  {
   "cell_type": "code",
   "execution_count": 32,
   "id": "f1148115-bcc3-4e5b-ba58-f8946679036d",
   "metadata": {
    "tags": []
   },
   "outputs": [
    {
     "data": {
      "text/plain": [
       "{'ResponseMetadata': {'RequestId': '4c09a0e2-8edc-4fd8-bc4c-3a226406ceab',\n",
       "  'HTTPStatusCode': 200,\n",
       "  'HTTPHeaders': {'date': 'Fri, 07 Jun 2024 10:51:33 GMT',\n",
       "   'x-amzn-requestid': '4c09a0e2-8edc-4fd8-bc4c-3a226406ceab',\n",
       "   'content-type': 'text/xml',\n",
       "   'content-length': '212'},\n",
       "  'RetryAttempts': 0}}"
      ]
     },
     "execution_count": 32,
     "metadata": {},
     "output_type": "execute_result"
    }
   ],
   "source": [
    "# Create IAM Role for the agent and attach IAM policies\n",
    "assume_role_policy_document = {\n",
    "    \"Version\": \"2012-10-17\",\n",
    "    \"Statement\": [{\n",
    "          \"Effect\": \"Allow\",\n",
    "          \"Principal\": {\n",
    "            \"Service\": \"bedrock.amazonaws.com\"\n",
    "          },\n",
    "          \"Action\": \"sts:AssumeRole\"\n",
    "    }]\n",
    "}\n",
    "\n",
    "assume_role_policy_document_json = json.dumps(assume_role_policy_document)\n",
    "agent_role = iam_client.create_role(\n",
    "    RoleName=agent_role_name,\n",
    "    AssumeRolePolicyDocument=assume_role_policy_document_json\n",
    ")\n",
    "\n",
    "# Pause to make sure role is created\n",
    "time.sleep(10)\n",
    "    \n",
    "iam_client.attach_role_policy(\n",
    "    RoleName=agent_role_name,\n",
    "    PolicyArn=agent_bedrock_policy['Policy']['Arn']\n",
    ")\n",
    "\n",
    "iam_client.attach_role_policy(\n",
    "    RoleName=agent_role_name,\n",
    "    PolicyArn=agent_s3_schema_policy['Policy']['Arn']\n",
    ")"
   ]
  },
  {
   "cell_type": "markdown",
   "id": "96b86215-bc3d-47f6-a98c-6f96c513d886",
   "metadata": {},
   "source": [
    "#### Agent 만들기\n",
    "필요한 IAM 역할이 만들어지면 기반 에이전트 클라이언트를 사용하여 새 에이전트를 만들 수 있습니다. 이를 위해 `create_agent` 함수를 사용합니다. 여기에는 에이전트 이름, 기본 foundation 모델과 instructions이 필요합니다. 에이전트 설명을 제공할 수도 있으며, 생성된 에이전트는 아직 준비되지 않은 상태입니다. 에이전트를 준비한 다음 이를 사용하여 작업을 호출하고 다른 API를 사용하는 데 중점을 두겠습니다."
   ]
  },
  {
   "cell_type": "code",
   "execution_count": 34,
   "id": "e1d7c63b-6bc0-4b48-a5c0-2db24fa5a21e",
   "metadata": {
    "tags": []
   },
   "outputs": [],
   "source": [
    "# Create Agent\n",
    "agent_instruction = \"\"\"\n",
    "너는 보험금 청구와 관련된 다양한 작업을 처리할 수 있는 agent bot입니다. \n",
    "세부 정보 조회, 미결 서류 찾기, 알림 전송 등 보험금 청구와 관련된 작업을 처리할 수 있습니다. \n",
    "리마인더를 보내도록 명시적으로 요청받은 경우에만 명시적으로 요청받은 경우에만 알림을 보내세요. \n",
    "사용자가 기능에 대해 문의하는 경우 자연어로 안내하고, 절대 출력에 function 이름을 포함하지 마세요.\n",
    "\"\"\"\n",
    "\n",
    "response = bedrock_agent_client.create_agent(\n",
    "    agentName=agent_name,\n",
    "    agentResourceRoleArn=agent_role['Role']['Arn'],\n",
    "    description=\"보험금 청구를 다루는 Agent\",\n",
    "    idleSessionTTLInSeconds=1800,\n",
    "    foundationModel=model_id,\n",
    "    instruction=agent_instruction,\n",
    ")"
   ]
  },
  {
   "cell_type": "markdown",
   "id": "aa89ac0d-b1af-4efa-bbb8-59a8f486a622",
   "metadata": {},
   "source": [
    "Looking at the created agent, we can see its status and agent id"
   ]
  },
  {
   "cell_type": "code",
   "execution_count": 35,
   "id": "0eef5588-1f7f-4d94-8a10-3eb8ecf316d1",
   "metadata": {
    "tags": []
   },
   "outputs": [
    {
     "data": {
      "text/plain": [
       "{'ResponseMetadata': {'RequestId': 'effba8ff-d269-452c-a2ac-74e3fc5d079c',\n",
       "  'HTTPStatusCode': 202,\n",
       "  'HTTPHeaders': {'date': 'Fri, 07 Jun 2024 10:53:48 GMT',\n",
       "   'content-type': 'application/json',\n",
       "   'content-length': '1039',\n",
       "   'connection': 'keep-alive',\n",
       "   'x-amzn-requestid': 'effba8ff-d269-452c-a2ac-74e3fc5d079c',\n",
       "   'x-amz-apigw-id': 'Y_j9iEP2PHcEQyg=',\n",
       "   'x-amzn-trace-id': 'Root=1-6662e6bc-75f1a1d35d3bfc6a38da6cc3'},\n",
       "  'RetryAttempts': 0},\n",
       " 'agent': {'agentArn': 'arn:aws:bedrock:us-west-2:322537213286:agent/NZDQ4JYPFM',\n",
       "  'agentId': 'NZDQ4JYPFM',\n",
       "  'agentName': 'insurance-claims-agent1',\n",
       "  'agentResourceRoleArn': 'arn:aws:iam::322537213286:role/AmazonBedrockExecutionRoleForAgents-0607-10511717757470',\n",
       "  'agentStatus': 'CREATING',\n",
       "  'createdAt': datetime.datetime(2024, 6, 7, 10, 53, 48, 896509, tzinfo=tzlocal()),\n",
       "  'description': '보험금 청구를 다루는 Agent',\n",
       "  'foundationModel': 'anthropic.claude-3-sonnet-20240229-v1:0',\n",
       "  'idleSessionTTLInSeconds': 1800,\n",
       "  'instruction': '\\n너는 보험금 청구와 관련된 다양한 작업을 처리할 수 있는 agent bot입니다. \\n세부 정보 조회, 미결 서류 찾기, 알림 전송 등 보험금 청구와 관련된 작업을 처리할 수 있습니다. \\n리마인더를 보내도록 명시적으로 요청받은 경우에만 명시적으로 요청받은 경우에만 알림을 보내세요. \\n사용자가 기능에 대해 문의하는 경우 자연어로 안내하고, 절대 출력에 function 이름을 포함하지 마세요.\\n',\n",
       "  'updatedAt': datetime.datetime(2024, 6, 7, 10, 53, 48, 896509, tzinfo=tzlocal())}}"
      ]
     },
     "execution_count": 35,
     "metadata": {},
     "output_type": "execute_result"
    }
   ],
   "source": [
    "response"
   ]
  },
  {
   "cell_type": "markdown",
   "id": "780ce247-ff4c-4ecf-8558-222581d2ea52",
   "metadata": {},
   "source": [
    "Let's now store the agent id in a local variable to use it on the next steps"
   ]
  },
  {
   "cell_type": "code",
   "execution_count": 37,
   "id": "4d2bf0ea-5c5c-4afc-9b4d-19158b48bb50",
   "metadata": {
    "tags": []
   },
   "outputs": [
    {
     "data": {
      "text/plain": [
       "'NZDQ4JYPFM'"
      ]
     },
     "execution_count": 37,
     "metadata": {},
     "output_type": "execute_result"
    }
   ],
   "source": [
    "agent_id = response['agent']['agentId']\n",
    "agent_id"
   ]
  },
  {
   "cell_type": "markdown",
   "id": "32158234-b474-4bfa-8efd-afe5aa087df8",
   "metadata": {},
   "source": [
    "### Agent Action Group 만들기\n",
    "앞서 만든 람다 함수와 API schema 파일을 사용하는 agent action group을 생성해 보겠습니다.\n",
    "이 기능은 `create_agent_action_group` 함수가 제공합니다. 아직 agent version이나 alias을 만들지 않았으므로 `DRAFT`를 agent version으로 사용하겠습니다. agent에게 action group 기능을 알리기 위해 action group의 기능이 포함된 action group 설명을 제공합니다."
   ]
  },
  {
   "cell_type": "code",
   "execution_count": 38,
   "id": "ca4dd6c1-5151-4846-ac75-e8b23e299a90",
   "metadata": {
    "tags": []
   },
   "outputs": [],
   "source": [
    "# Pause to make sure agent is created\n",
    "time.sleep(30)\n",
    "# Now, we can configure and create an action group here:\n",
    "agent_action_group_response = bedrock_agent_client.create_agent_action_group(\n",
    "    agentId=agent_id,\n",
    "    agentVersion='DRAFT',\n",
    "    actionGroupExecutor={\n",
    "        'lambda': lambda_function['FunctionArn']\n",
    "    },\n",
    "    actionGroupName='ClaimManagementActionGroup',\n",
    "    apiSchema={\n",
    "        's3': {\n",
    "            's3BucketName': bucket_name,\n",
    "            's3ObjectKey': bucket_key\n",
    "        }\n",
    "    },\n",
    "    description='청구 목록, 누락된 서류 확인, 알림 전송을 위한 Actions'\n",
    ")"
   ]
  },
  {
   "cell_type": "code",
   "execution_count": 39,
   "id": "74945f90-4777-40da-bc5e-ca0b31fdbb6b",
   "metadata": {
    "tags": []
   },
   "outputs": [
    {
     "data": {
      "text/plain": [
       "{'ResponseMetadata': {'RequestId': '5fcabbef-7993-433b-8411-92c90930ca60',\n",
       "  'HTTPStatusCode': 200,\n",
       "  'HTTPHeaders': {'date': 'Fri, 07 Jun 2024 12:00:07 GMT',\n",
       "   'content-type': 'application/json',\n",
       "   'content-length': '611',\n",
       "   'connection': 'keep-alive',\n",
       "   'x-amzn-requestid': '5fcabbef-7993-433b-8411-92c90930ca60',\n",
       "   'x-amz-apigw-id': 'Y_trBHrxvHcENeQ=',\n",
       "   'x-amzn-trace-id': 'Root=1-6662f646-45331aa41617d126451c10a3'},\n",
       "  'RetryAttempts': 0},\n",
       " 'agentActionGroup': {'actionGroupExecutor': {'lambda': 'arn:aws:lambda:us-west-2:322537213286:function:insurance-claims-agent-0607-10511717757470'},\n",
       "  'actionGroupId': 'HKVY5SDGUX',\n",
       "  'actionGroupName': 'ClaimManagementActionGroup',\n",
       "  'actionGroupState': 'ENABLED',\n",
       "  'agentId': 'NZDQ4JYPFM',\n",
       "  'agentVersion': 'DRAFT',\n",
       "  'apiSchema': {'s3': {'s3BucketName': 'insurance-claims-agent-us-west-2-322537213286',\n",
       "    's3ObjectKey': 'insurance-claims-agent-schema.json'}},\n",
       "  'createdAt': datetime.datetime(2024, 6, 7, 12, 0, 7, 95537, tzinfo=tzlocal()),\n",
       "  'description': '청구 목록, 누락된 서류 확인, 알림 전송을 위한 Actions',\n",
       "  'updatedAt': datetime.datetime(2024, 6, 7, 12, 0, 7, 95537, tzinfo=tzlocal())}}"
      ]
     },
     "execution_count": 39,
     "metadata": {},
     "output_type": "execute_result"
    }
   ],
   "source": [
    "agent_action_group_response"
   ]
  },
  {
   "cell_type": "markdown",
   "id": "04586a08-764b-499a-a52a-5b199b061890",
   "metadata": {},
   "source": [
    "### Agent가 Action Group Lambda를 호출하도록 허용하기\n",
    "action group을 사용하기 전에 agent가 action group에 연결된 람다 함수를 호출할 수 있도록 허용해야 합니다. 이는 리소스 기반 정책을 통해 이루어저야 하기에 생성한 람다 함수에 리소스 기반 정책을 추가해 보겠습니다."
   ]
  },
  {
   "cell_type": "code",
   "execution_count": 40,
   "id": "33555ead-bc3c-420b-b0fd-ee644863ce57",
   "metadata": {
    "tags": []
   },
   "outputs": [],
   "source": [
    "# Create allow invoke permission on lambda\n",
    "response = lambda_client.add_permission(\n",
    "    FunctionName=lambda_name,\n",
    "    StatementId='allow_bedrock',\n",
    "    Action='lambda:InvokeFunction',\n",
    "    Principal='bedrock.amazonaws.com',\n",
    "    SourceArn=f\"arn:aws:bedrock:{region}:{account_id}:agent/{agent_id}\",\n",
    ")"
   ]
  },
  {
   "cell_type": "markdown",
   "id": "c449b466-3d92-49e7-aef2-168c8f669c40",
   "metadata": {},
   "source": [
    "### Agent 준비하기\n",
    "내부 테스트에 사용할 수 있는 Agent의 DRAFT 버전을 만들어 보겠습니다."
   ]
  },
  {
   "cell_type": "code",
   "execution_count": 41,
   "id": "37a8d75d-9661-4b4f-95af-c3ab05e00b75",
   "metadata": {
    "tags": []
   },
   "outputs": [
    {
     "data": {
      "text/plain": [
       "{'ResponseMetadata': {'RequestId': 'e17684b2-253a-49d2-84ee-7a2c2ed77e72',\n",
       "  'HTTPStatusCode': 202,\n",
       "  'HTTPHeaders': {'date': 'Fri, 07 Jun 2024 12:01:32 GMT',\n",
       "   'content-type': 'application/json',\n",
       "   'content-length': '119',\n",
       "   'connection': 'keep-alive',\n",
       "   'x-amzn-requestid': 'e17684b2-253a-49d2-84ee-7a2c2ed77e72',\n",
       "   'x-amz-apigw-id': 'Y_t4eESmPHcECLQ=',\n",
       "   'x-amzn-trace-id': 'Root=1-6662f69c-7e07a0ed095958b26da6edbb'},\n",
       "  'RetryAttempts': 0},\n",
       " 'agentId': 'NZDQ4JYPFM',\n",
       " 'agentStatus': 'PREPARING',\n",
       " 'agentVersion': 'DRAFT',\n",
       " 'preparedAt': datetime.datetime(2024, 6, 7, 12, 1, 32, 397347, tzinfo=tzlocal())}"
      ]
     },
     "execution_count": 41,
     "metadata": {},
     "output_type": "execute_result"
    }
   ],
   "source": [
    "agent_prepare = bedrock_agent_client.prepare_agent(agentId=agent_id)\n",
    "agent_prepare"
   ]
  },
  {
   "cell_type": "markdown",
   "id": "092dc0d0-3597-4ec2-8959-e1c968c9670b",
   "metadata": {},
   "source": [
    "### Agent alias 만들기\n",
    "이제 agent를 배포하는 데 사용할 수 있는 에이전트의 별칭을 만듭니다."
   ]
  },
  {
   "cell_type": "code",
   "execution_count": 42,
   "id": "3f93af07-ac4b-45a0-89b5-7a90929df6f5",
   "metadata": {
    "tags": []
   },
   "outputs": [],
   "source": [
    "# Pause to make sure agent is prepared\n",
    "time.sleep(30)\n",
    "agent_alias = bedrock_agent_client.create_agent_alias(\n",
    "    agentId=agent_id,\n",
    "    agentAliasName=agent_alias_name\n",
    ")"
   ]
  },
  {
   "cell_type": "code",
   "execution_count": 43,
   "id": "35de5613-638c-4f04-88e0-6fc9689b5f5d",
   "metadata": {
    "tags": []
   },
   "outputs": [
    {
     "data": {
      "text/plain": [
       "{'ResponseMetadata': {'RequestId': 'bfc8c277-d061-4bc4-bb3c-05827b685519',\n",
       "  'HTTPStatusCode': 202,\n",
       "  'HTTPHeaders': {'date': 'Fri, 07 Jun 2024 12:02:44 GMT',\n",
       "   'content-type': 'application/json',\n",
       "   'content-length': '340',\n",
       "   'connection': 'keep-alive',\n",
       "   'x-amzn-requestid': 'bfc8c277-d061-4bc4-bb3c-05827b685519',\n",
       "   'x-amz-apigw-id': 'Y_uDsGq9PHcENLA=',\n",
       "   'x-amzn-trace-id': 'Root=1-6662f6e4-0af6fa7401d5d1d93ef9ec9c'},\n",
       "  'RetryAttempts': 0},\n",
       " 'agentAlias': {'agentAliasArn': 'arn:aws:bedrock:us-west-2:322537213286:agent-alias/NZDQ4JYPFM/GARGJJ9UIW',\n",
       "  'agentAliasId': 'GARGJJ9UIW',\n",
       "  'agentAliasName': 'workshop-alias',\n",
       "  'agentAliasStatus': 'CREATING',\n",
       "  'agentId': 'NZDQ4JYPFM',\n",
       "  'createdAt': datetime.datetime(2024, 6, 7, 12, 2, 44, 314371, tzinfo=tzlocal()),\n",
       "  'routingConfiguration': [{}],\n",
       "  'updatedAt': datetime.datetime(2024, 6, 7, 12, 2, 44, 314371, tzinfo=tzlocal())}}"
      ]
     },
     "execution_count": 43,
     "metadata": {},
     "output_type": "execute_result"
    }
   ],
   "source": [
    "agent_alias"
   ]
  },
  {
   "cell_type": "markdown",
   "id": "ada2844c-04fd-4dfc-a87d-0a668afb8f82",
   "metadata": {},
   "source": [
    "### Agent 호출\n",
    "이제 agent를 만들었으니 `bedrock-agent-runtime` 클라이언트를 사용하여 이 agent를 호출하고 몇 가지 작업을 수행해 보겠습니다."
   ]
  },
  {
   "cell_type": "code",
   "execution_count": 44,
   "id": "22bbb36a",
   "metadata": {
    "tags": []
   },
   "outputs": [],
   "source": [
    "time.sleep(30)\n",
    "# Extract the agentAliasId from the response\n",
    "agent_alias_id = agent_alias['agentAlias']['agentAliasId']"
   ]
  },
  {
   "cell_type": "code",
   "execution_count": 45,
   "id": "fb174c5e-6cbc-4314-8b0b-a51123a0386a",
   "metadata": {
    "tags": []
   },
   "outputs": [
    {
     "name": "stderr",
     "output_type": "stream",
     "text": [
      "[2024-06-07 12:03:30,880] p12271 {574900033.py:18} INFO - None\n"
     ]
    },
    {
     "name": "stdout",
     "output_type": "stream",
     "text": [
      "{'ResponseMetadata': {'HTTPHeaders': {'connection': 'keep-alive',\n",
      "                                      'content-type': 'application/json',\n",
      "                                      'date': 'Fri, 07 Jun 2024 12:03:30 GMT',\n",
      "                                      'transfer-encoding': 'chunked',\n",
      "                                      'x-amz-bedrock-agent-session-id': 'f4ee0384-24c5-11ef-83d0-0a86a609e469',\n",
      "                                      'x-amzn-bedrock-agent-content-type': 'application/json',\n",
      "                                      'x-amzn-requestid': '92c3af44-8344-450c-a09b-724a27e4c0e0'},\n",
      "                      'HTTPStatusCode': 200,\n",
      "                      'RequestId': '92c3af44-8344-450c-a09b-724a27e4c0e0',\n",
      "                      'RetryAttempts': 0},\n",
      " 'completion': <botocore.eventstream.EventStream object at 0x7f8e9e171d80>,\n",
      " 'contentType': 'application/json',\n",
      " 'sessionId': 'f4ee0384-24c5-11ef-83d0-0a86a609e469'}\n"
     ]
    }
   ],
   "source": [
    "## create a random id for session initiator id\n",
    "session_id:str = str(uuid.uuid1())\n",
    "enable_trace:bool = False\n",
    "end_session:bool = False\n",
    "# Pause to make sure agent alias is ready\n",
    "# time.sleep(30)\n",
    "\n",
    "# invoke the agent API\n",
    "agentResponse = bedrock_agent_runtime_client.invoke_agent(\n",
    "    inputText=\"미해결 청구건은 무엇이에요?\",\n",
    "    agentId=agent_id,\n",
    "    agentAliasId=agent_alias_id, \n",
    "    sessionId=session_id,\n",
    "    enableTrace=enable_trace, \n",
    "    endSession= end_session\n",
    ")\n",
    "\n",
    "logger.info(pprint.pprint(agentResponse))"
   ]
  },
  {
   "cell_type": "code",
   "execution_count": 46,
   "id": "3df9a35c-f07b-4640-b07b-686f9ee20e77",
   "metadata": {
    "tags": []
   },
   "outputs": [
    {
     "name": "stderr",
     "output_type": "stream",
     "text": [
      "[2024-06-07 12:03:52,820] p12271 {<timed exec>:6} INFO - Final answer ->\n",
      "현재 오픈 상태인 청구건은 총 3건입니다.\n",
      "\n",
      "청구건 claim-006에 대해서는 AccidentImages 서류가 미해결 상태입니다.\n",
      "\n",
      "청구건 claim-857에 대해서는 DriverLicense와 VehicleRegistration 서류가 미해결 상태입니다.\n",
      "\n",
      "청구건 claim-334에 대해서는 모든 서류가 제출되어 미해결 서류가 없습니다.\n"
     ]
    },
    {
     "name": "stdout",
     "output_type": "stream",
     "text": [
      "CPU times: user 3.37 ms, sys: 0 ns, total: 3.37 ms\n",
      "Wall time: 15.9 s\n"
     ]
    }
   ],
   "source": [
    "%%time\n",
    "event_stream = agentResponse['completion']\n",
    "try:\n",
    "    for event in event_stream:        \n",
    "        if 'chunk' in event:\n",
    "            data = event['chunk']['bytes']\n",
    "            logger.info(f\"Final answer ->\\n{data.decode('utf8')}\")\n",
    "            agent_answer = data.decode('utf8')\n",
    "            end_event_received = True\n",
    "            # End event indicates that the request finished successfully\n",
    "        elif 'trace' in event:\n",
    "            logger.info(json.dumps(event['trace'], indent=2))\n",
    "        else:\n",
    "            raise Exception(\"unexpected event.\", event)\n",
    "except Exception as e:\n",
    "    raise Exception(\"unexpected event.\", e)"
   ]
  },
  {
   "cell_type": "code",
   "execution_count": 47,
   "id": "72fbe3c9-c32f-44a6-8579-1d432a15036e",
   "metadata": {
    "tags": []
   },
   "outputs": [
    {
     "name": "stdout",
     "output_type": "stream",
     "text": [
      "현재 오픈 상태인 청구건은 총 3건입니다.\n",
      "\n",
      "청구건 claim-006에 대해서는 AccidentImages 서류가 미해결 상태입니다.\n",
      "\n",
      "청구건 claim-857에 대해서는 DriverLicense와 VehicleRegistration 서류가 미해결 상태입니다.\n",
      "\n",
      "청구건 claim-334에 대해서는 모든 서류가 제출되어 미해결 서류가 없습니다.\n"
     ]
    }
   ],
   "source": [
    "# And here is the response if you just want to see agent's reply\n",
    "print(agent_answer)"
   ]
  },
  {
   "cell_type": "code",
   "execution_count": 48,
   "id": "78ebf3ce",
   "metadata": {
    "tags": []
   },
   "outputs": [],
   "source": [
    "def simple_agent_invoke(input_text, agent_id, agent_alias_id, session_id=None, enable_trace=False, end_session=False):\n",
    "    agentResponse = bedrock_agent_runtime_client.invoke_agent(\n",
    "        inputText=input_text,\n",
    "        agentId=agent_id,\n",
    "        agentAliasId=agent_alias_id, \n",
    "        sessionId=session_id,\n",
    "        enableTrace=enable_trace, \n",
    "        endSession= end_session\n",
    "    )\n",
    "    \n",
    "    event_stream = agentResponse['completion']\n",
    "    try:\n",
    "        for event in event_stream:        \n",
    "            if 'chunk' in event:\n",
    "                data = event['chunk']['bytes']\n",
    "                logger.info(f\"Final answer ->\\n{data.decode('utf8')}\")\n",
    "                agent_answer = data.decode('utf8')\n",
    "                end_event_received = True\n",
    "                # End event indicates that the request finished successfully\n",
    "            elif 'trace' in event:\n",
    "                logger.info(json.dumps(event['trace'], indent=2))\n",
    "            else:\n",
    "                raise Exception(\"unexpected event.\", event)\n",
    "    except Exception as e:\n",
    "        raise Exception(\"unexpected event.\", e)"
   ]
  },
  {
   "cell_type": "code",
   "execution_count": 49,
   "id": "62e3ea2f",
   "metadata": {
    "tags": []
   },
   "outputs": [
    {
     "name": "stderr",
     "output_type": "stream",
     "text": [
      "[2024-06-07 12:27:03,844] p12271 {3357547408.py:16} INFO - Final answer ->\n",
      "청구건 claim-857에 대한 세부 정보는 다음과 같습니다:\n",
      "\n",
      "- 청구건 ID: claim-857\n",
      "- 생성일자: 21-Jul-2023  \n",
      "- 마지막 활동일: 25-Jul-2023\n",
      "- 현재 상태: Open\n",
      "- 보험 종류: Vehicle\n",
      "\n",
      "이 청구건에 대해 아직 제출되지 않은 서류는 DriverLicense와 VehicleRegistration입니다.\n"
     ]
    }
   ],
   "source": [
    "simple_agent_invoke(\"claim-857에 대해 알려줘\", agent_id, agent_alias_id, session_id)"
   ]
  },
  {
   "cell_type": "code",
   "execution_count": 50,
   "id": "34b7547b",
   "metadata": {
    "tags": []
   },
   "outputs": [
    {
     "name": "stderr",
     "output_type": "stream",
     "text": [
      "[2024-06-07 12:28:16,964] p12271 {3357547408.py:16} INFO - Final answer ->\n",
      "모든 미해결 서류가 있는 오픈 청구건에 대해 알림을 성공적으로 보냈습니다.\n",
      "\n",
      "청구건 claim-006에 대해서는 AccidentImages 서류 제출을 요청하는 알림을 보냈습니다.\n",
      "\n",
      "청구건 claim-857에 대해서는 DriverLicense와 VehicleRegistration 서류 제출을 요청하는 알림을 보냈습니다.\n",
      "\n",
      "청구건 claim-334에는 미해결 서류가 없어 알림을 보내지 않았습니다.\n"
     ]
    }
   ],
   "source": [
    "simple_agent_invoke(\"서류가 누락된 모든 미결 청구에 대한 알림을 보내줘\", agent_id, agent_alias_id, session_id)"
   ]
  },
  {
   "cell_type": "markdown",
   "id": "cc47a158-34d0-436f-832f-774482a5275d",
   "metadata": {},
   "source": [
    "### Clean up(선택 사항)\n",
    "다음 단계는 선택 사항이며 에이전트를 삭제하는 방법을 설명합니다. 에이전트를 삭제하려면 다음과 같이 해야 합니다:\n",
    "1. action group을 비활성화로 업데이트\n",
    "2. agent action group 삭제\n",
    "3. agent alias 삭제\n",
    "4. agent 삭제\n",
    "5. 람다 함수 삭제\n",
    "6. 생성된 S3 버킷 비우기\n",
    "7. 생성된 S3 버킷 삭제"
   ]
  },
  {
   "cell_type": "code",
   "execution_count": 51,
   "id": "0d06b9fa-9510-4702-8321-e3c3a8a161f6",
   "metadata": {
    "tags": []
   },
   "outputs": [],
   "source": [
    " # This is not needed, you can delete agent successfully after deleting alias only\n",
    "# Additionaly, you need to disable it first\n",
    "\n",
    "action_group_id = agent_action_group_response['agentActionGroup']['actionGroupId']\n",
    "action_group_name = agent_action_group_response['agentActionGroup']['actionGroupName']\n",
    "\n",
    "response = bedrock_agent_client.update_agent_action_group(\n",
    "    agentId=agent_id,\n",
    "    agentVersion='DRAFT',\n",
    "    actionGroupId= action_group_id,\n",
    "    actionGroupName=action_group_name,\n",
    "    actionGroupExecutor={\n",
    "        'lambda': lambda_function['FunctionArn']\n",
    "    },\n",
    "    apiSchema={\n",
    "        's3': {\n",
    "            's3BucketName': bucket_name,\n",
    "            's3ObjectKey': bucket_key\n",
    "        }\n",
    "    },\n",
    "    actionGroupState='DISABLED',\n",
    ")\n",
    "\n",
    "action_group_deletion = bedrock_agent_client.delete_agent_action_group(\n",
    "    agentId=agent_id,\n",
    "    agentVersion='DRAFT',\n",
    "    actionGroupId= action_group_id\n",
    ")"
   ]
  },
  {
   "cell_type": "code",
   "execution_count": 52,
   "id": "f5f9dfae-aae2-4384-b2af-747a4a553e76",
   "metadata": {
    "tags": []
   },
   "outputs": [],
   "source": [
    "agent_alias_deletion = bedrock_agent_client.delete_agent_alias(\n",
    "    agentId=agent_id,\n",
    "    agentAliasId=agent_alias['agentAlias']['agentAliasId']\n",
    ")"
   ]
  },
  {
   "cell_type": "code",
   "execution_count": 53,
   "id": "6ada8823-cfc2-4e41-9e20-90a88705bcf5",
   "metadata": {
    "tags": []
   },
   "outputs": [],
   "source": [
    "agent_deletion = bedrock_agent_client.delete_agent(\n",
    "    agentId=agent_id\n",
    ")"
   ]
  },
  {
   "cell_type": "code",
   "execution_count": 54,
   "id": "f023d291-220d-48f9-8e5d-0d9e3f93861e",
   "metadata": {
    "tags": []
   },
   "outputs": [
    {
     "data": {
      "text/plain": [
       "{'ResponseMetadata': {'RequestId': 'b4d9bc0c-8af3-4f30-bdcc-7954298a373e',\n",
       "  'HTTPStatusCode': 204,\n",
       "  'HTTPHeaders': {'date': 'Fri, 07 Jun 2024 12:31:21 GMT',\n",
       "   'content-type': 'application/json',\n",
       "   'connection': 'keep-alive',\n",
       "   'x-amzn-requestid': 'b4d9bc0c-8af3-4f30-bdcc-7954298a373e'},\n",
       "  'RetryAttempts': 1}}"
      ]
     },
     "execution_count": 54,
     "metadata": {},
     "output_type": "execute_result"
    }
   ],
   "source": [
    "# Delete Lambda function\n",
    "lambda_client.delete_function(\n",
    "    FunctionName=lambda_name\n",
    ")"
   ]
  },
  {
   "cell_type": "code",
   "execution_count": 55,
   "id": "a33a1470-0927-4217-bb5e-4a5fb9abdaf1",
   "metadata": {
    "tags": []
   },
   "outputs": [
    {
     "data": {
      "text/plain": [
       "{'ResponseMetadata': {'RequestId': 'HVTT1NZW87HK83TC',\n",
       "  'HostId': '0YGwvKY/clkN7k7l354urQ7GeCjdEqpXMuBZlV4K9hX8r2A6oQ/1N0sGjAjLHJrnF0zfUgxBuziffiAQw6BPVQ==',\n",
       "  'HTTPStatusCode': 204,\n",
       "  'HTTPHeaders': {'x-amz-id-2': '0YGwvKY/clkN7k7l354urQ7GeCjdEqpXMuBZlV4K9hX8r2A6oQ/1N0sGjAjLHJrnF0zfUgxBuziffiAQw6BPVQ==',\n",
       "   'x-amz-request-id': 'HVTT1NZW87HK83TC',\n",
       "   'date': 'Fri, 07 Jun 2024 12:31:22 GMT',\n",
       "   'server': 'AmazonS3'},\n",
       "  'RetryAttempts': 0}}"
      ]
     },
     "execution_count": 55,
     "metadata": {},
     "output_type": "execute_result"
    }
   ],
   "source": [
    "# Empty and delete S3 Bucket\n",
    "\n",
    "objects = s3_client.list_objects(Bucket=bucket_name)  \n",
    "if 'Contents' in objects:\n",
    "    for obj in objects['Contents']:\n",
    "        s3_client.delete_object(Bucket=bucket_name, Key=obj['Key']) \n",
    "s3_client.delete_bucket(Bucket=bucket_name)"
   ]
  },
  {
   "cell_type": "code",
   "execution_count": 56,
   "id": "d50707a8-afd9-4af8-9ee3-1927afde9ce6",
   "metadata": {
    "tags": []
   },
   "outputs": [],
   "source": [
    "# Delete IAM Roles and policies\n",
    "\n",
    "for policy in [bedrock_agent_bedrock_allow_policy_name, bedrock_agent_s3_allow_policy_name]:\n",
    "    iam_client.detach_role_policy(RoleName=agent_role_name, PolicyArn=f'arn:aws:iam::{account_id}:policy/{policy}')\n",
    "    \n",
    "iam_client.detach_role_policy(RoleName=lambda_role_name, PolicyArn='arn:aws:iam::aws:policy/service-role/AWSLambdaBasicExecutionRole')\n",
    "\n",
    "for role_name in [agent_role_name, lambda_role_name]:\n",
    "    iam_client.delete_role(\n",
    "        RoleName=role_name\n",
    "    )\n",
    "\n",
    "for policy in [agent_bedrock_policy, agent_s3_schema_policy]:\n",
    "    iam_client.delete_policy(\n",
    "        PolicyArn=policy['Policy']['Arn']\n",
    ")"
   ]
  },
  {
   "cell_type": "markdown",
   "id": "47ce5c54-3e54-40fc-aa10-d7ec785ea832",
   "metadata": {},
   "source": [
    "## Conclusion\n",
    "We have now experimented with using `boto3` SDK to create, invoke and delete an agent.\n",
    "\n",
    "### Take aways\n",
    "- Adapt this notebook to create new agents for your application\n",
    "\n",
    "## Thank You"
   ]
  },
  {
   "cell_type": "code",
   "execution_count": null,
   "id": "d3385145-45a6-4909-ad87-536ddfe3f9b1",
   "metadata": {},
   "outputs": [],
   "source": []
  },
  {
   "cell_type": "code",
   "execution_count": null,
   "id": "c561aa18-a9d7-40e7-9d4d-9ab64ff537b6",
   "metadata": {},
   "outputs": [],
   "source": []
  }
 ],
 "metadata": {
  "availableInstances": [
   {
    "_defaultOrder": 0,
    "_isFastLaunch": true,
    "category": "General purpose",
    "gpuNum": 0,
    "hideHardwareSpecs": false,
    "memoryGiB": 4,
    "name": "ml.t3.medium",
    "vcpuNum": 2
   },
   {
    "_defaultOrder": 1,
    "_isFastLaunch": false,
    "category": "General purpose",
    "gpuNum": 0,
    "hideHardwareSpecs": false,
    "memoryGiB": 8,
    "name": "ml.t3.large",
    "vcpuNum": 2
   },
   {
    "_defaultOrder": 2,
    "_isFastLaunch": false,
    "category": "General purpose",
    "gpuNum": 0,
    "hideHardwareSpecs": false,
    "memoryGiB": 16,
    "name": "ml.t3.xlarge",
    "vcpuNum": 4
   },
   {
    "_defaultOrder": 3,
    "_isFastLaunch": false,
    "category": "General purpose",
    "gpuNum": 0,
    "hideHardwareSpecs": false,
    "memoryGiB": 32,
    "name": "ml.t3.2xlarge",
    "vcpuNum": 8
   },
   {
    "_defaultOrder": 4,
    "_isFastLaunch": true,
    "category": "General purpose",
    "gpuNum": 0,
    "hideHardwareSpecs": false,
    "memoryGiB": 8,
    "name": "ml.m5.large",
    "vcpuNum": 2
   },
   {
    "_defaultOrder": 5,
    "_isFastLaunch": false,
    "category": "General purpose",
    "gpuNum": 0,
    "hideHardwareSpecs": false,
    "memoryGiB": 16,
    "name": "ml.m5.xlarge",
    "vcpuNum": 4
   },
   {
    "_defaultOrder": 6,
    "_isFastLaunch": false,
    "category": "General purpose",
    "gpuNum": 0,
    "hideHardwareSpecs": false,
    "memoryGiB": 32,
    "name": "ml.m5.2xlarge",
    "vcpuNum": 8
   },
   {
    "_defaultOrder": 7,
    "_isFastLaunch": false,
    "category": "General purpose",
    "gpuNum": 0,
    "hideHardwareSpecs": false,
    "memoryGiB": 64,
    "name": "ml.m5.4xlarge",
    "vcpuNum": 16
   },
   {
    "_defaultOrder": 8,
    "_isFastLaunch": false,
    "category": "General purpose",
    "gpuNum": 0,
    "hideHardwareSpecs": false,
    "memoryGiB": 128,
    "name": "ml.m5.8xlarge",
    "vcpuNum": 32
   },
   {
    "_defaultOrder": 9,
    "_isFastLaunch": false,
    "category": "General purpose",
    "gpuNum": 0,
    "hideHardwareSpecs": false,
    "memoryGiB": 192,
    "name": "ml.m5.12xlarge",
    "vcpuNum": 48
   },
   {
    "_defaultOrder": 10,
    "_isFastLaunch": false,
    "category": "General purpose",
    "gpuNum": 0,
    "hideHardwareSpecs": false,
    "memoryGiB": 256,
    "name": "ml.m5.16xlarge",
    "vcpuNum": 64
   },
   {
    "_defaultOrder": 11,
    "_isFastLaunch": false,
    "category": "General purpose",
    "gpuNum": 0,
    "hideHardwareSpecs": false,
    "memoryGiB": 384,
    "name": "ml.m5.24xlarge",
    "vcpuNum": 96
   },
   {
    "_defaultOrder": 12,
    "_isFastLaunch": false,
    "category": "General purpose",
    "gpuNum": 0,
    "hideHardwareSpecs": false,
    "memoryGiB": 8,
    "name": "ml.m5d.large",
    "vcpuNum": 2
   },
   {
    "_defaultOrder": 13,
    "_isFastLaunch": false,
    "category": "General purpose",
    "gpuNum": 0,
    "hideHardwareSpecs": false,
    "memoryGiB": 16,
    "name": "ml.m5d.xlarge",
    "vcpuNum": 4
   },
   {
    "_defaultOrder": 14,
    "_isFastLaunch": false,
    "category": "General purpose",
    "gpuNum": 0,
    "hideHardwareSpecs": false,
    "memoryGiB": 32,
    "name": "ml.m5d.2xlarge",
    "vcpuNum": 8
   },
   {
    "_defaultOrder": 15,
    "_isFastLaunch": false,
    "category": "General purpose",
    "gpuNum": 0,
    "hideHardwareSpecs": false,
    "memoryGiB": 64,
    "name": "ml.m5d.4xlarge",
    "vcpuNum": 16
   },
   {
    "_defaultOrder": 16,
    "_isFastLaunch": false,
    "category": "General purpose",
    "gpuNum": 0,
    "hideHardwareSpecs": false,
    "memoryGiB": 128,
    "name": "ml.m5d.8xlarge",
    "vcpuNum": 32
   },
   {
    "_defaultOrder": 17,
    "_isFastLaunch": false,
    "category": "General purpose",
    "gpuNum": 0,
    "hideHardwareSpecs": false,
    "memoryGiB": 192,
    "name": "ml.m5d.12xlarge",
    "vcpuNum": 48
   },
   {
    "_defaultOrder": 18,
    "_isFastLaunch": false,
    "category": "General purpose",
    "gpuNum": 0,
    "hideHardwareSpecs": false,
    "memoryGiB": 256,
    "name": "ml.m5d.16xlarge",
    "vcpuNum": 64
   },
   {
    "_defaultOrder": 19,
    "_isFastLaunch": false,
    "category": "General purpose",
    "gpuNum": 0,
    "hideHardwareSpecs": false,
    "memoryGiB": 384,
    "name": "ml.m5d.24xlarge",
    "vcpuNum": 96
   },
   {
    "_defaultOrder": 20,
    "_isFastLaunch": false,
    "category": "General purpose",
    "gpuNum": 0,
    "hideHardwareSpecs": true,
    "memoryGiB": 0,
    "name": "ml.geospatial.interactive",
    "supportedImageNames": [
     "sagemaker-geospatial-v1-0"
    ],
    "vcpuNum": 0
   },
   {
    "_defaultOrder": 21,
    "_isFastLaunch": true,
    "category": "Compute optimized",
    "gpuNum": 0,
    "hideHardwareSpecs": false,
    "memoryGiB": 4,
    "name": "ml.c5.large",
    "vcpuNum": 2
   },
   {
    "_defaultOrder": 22,
    "_isFastLaunch": false,
    "category": "Compute optimized",
    "gpuNum": 0,
    "hideHardwareSpecs": false,
    "memoryGiB": 8,
    "name": "ml.c5.xlarge",
    "vcpuNum": 4
   },
   {
    "_defaultOrder": 23,
    "_isFastLaunch": false,
    "category": "Compute optimized",
    "gpuNum": 0,
    "hideHardwareSpecs": false,
    "memoryGiB": 16,
    "name": "ml.c5.2xlarge",
    "vcpuNum": 8
   },
   {
    "_defaultOrder": 24,
    "_isFastLaunch": false,
    "category": "Compute optimized",
    "gpuNum": 0,
    "hideHardwareSpecs": false,
    "memoryGiB": 32,
    "name": "ml.c5.4xlarge",
    "vcpuNum": 16
   },
   {
    "_defaultOrder": 25,
    "_isFastLaunch": false,
    "category": "Compute optimized",
    "gpuNum": 0,
    "hideHardwareSpecs": false,
    "memoryGiB": 72,
    "name": "ml.c5.9xlarge",
    "vcpuNum": 36
   },
   {
    "_defaultOrder": 26,
    "_isFastLaunch": false,
    "category": "Compute optimized",
    "gpuNum": 0,
    "hideHardwareSpecs": false,
    "memoryGiB": 96,
    "name": "ml.c5.12xlarge",
    "vcpuNum": 48
   },
   {
    "_defaultOrder": 27,
    "_isFastLaunch": false,
    "category": "Compute optimized",
    "gpuNum": 0,
    "hideHardwareSpecs": false,
    "memoryGiB": 144,
    "name": "ml.c5.18xlarge",
    "vcpuNum": 72
   },
   {
    "_defaultOrder": 28,
    "_isFastLaunch": false,
    "category": "Compute optimized",
    "gpuNum": 0,
    "hideHardwareSpecs": false,
    "memoryGiB": 192,
    "name": "ml.c5.24xlarge",
    "vcpuNum": 96
   },
   {
    "_defaultOrder": 29,
    "_isFastLaunch": true,
    "category": "Accelerated computing",
    "gpuNum": 1,
    "hideHardwareSpecs": false,
    "memoryGiB": 16,
    "name": "ml.g4dn.xlarge",
    "vcpuNum": 4
   },
   {
    "_defaultOrder": 30,
    "_isFastLaunch": false,
    "category": "Accelerated computing",
    "gpuNum": 1,
    "hideHardwareSpecs": false,
    "memoryGiB": 32,
    "name": "ml.g4dn.2xlarge",
    "vcpuNum": 8
   },
   {
    "_defaultOrder": 31,
    "_isFastLaunch": false,
    "category": "Accelerated computing",
    "gpuNum": 1,
    "hideHardwareSpecs": false,
    "memoryGiB": 64,
    "name": "ml.g4dn.4xlarge",
    "vcpuNum": 16
   },
   {
    "_defaultOrder": 32,
    "_isFastLaunch": false,
    "category": "Accelerated computing",
    "gpuNum": 1,
    "hideHardwareSpecs": false,
    "memoryGiB": 128,
    "name": "ml.g4dn.8xlarge",
    "vcpuNum": 32
   },
   {
    "_defaultOrder": 33,
    "_isFastLaunch": false,
    "category": "Accelerated computing",
    "gpuNum": 4,
    "hideHardwareSpecs": false,
    "memoryGiB": 192,
    "name": "ml.g4dn.12xlarge",
    "vcpuNum": 48
   },
   {
    "_defaultOrder": 34,
    "_isFastLaunch": false,
    "category": "Accelerated computing",
    "gpuNum": 1,
    "hideHardwareSpecs": false,
    "memoryGiB": 256,
    "name": "ml.g4dn.16xlarge",
    "vcpuNum": 64
   },
   {
    "_defaultOrder": 35,
    "_isFastLaunch": false,
    "category": "Accelerated computing",
    "gpuNum": 1,
    "hideHardwareSpecs": false,
    "memoryGiB": 61,
    "name": "ml.p3.2xlarge",
    "vcpuNum": 8
   },
   {
    "_defaultOrder": 36,
    "_isFastLaunch": false,
    "category": "Accelerated computing",
    "gpuNum": 4,
    "hideHardwareSpecs": false,
    "memoryGiB": 244,
    "name": "ml.p3.8xlarge",
    "vcpuNum": 32
   },
   {
    "_defaultOrder": 37,
    "_isFastLaunch": false,
    "category": "Accelerated computing",
    "gpuNum": 8,
    "hideHardwareSpecs": false,
    "memoryGiB": 488,
    "name": "ml.p3.16xlarge",
    "vcpuNum": 64
   },
   {
    "_defaultOrder": 38,
    "_isFastLaunch": false,
    "category": "Accelerated computing",
    "gpuNum": 8,
    "hideHardwareSpecs": false,
    "memoryGiB": 768,
    "name": "ml.p3dn.24xlarge",
    "vcpuNum": 96
   },
   {
    "_defaultOrder": 39,
    "_isFastLaunch": false,
    "category": "Memory Optimized",
    "gpuNum": 0,
    "hideHardwareSpecs": false,
    "memoryGiB": 16,
    "name": "ml.r5.large",
    "vcpuNum": 2
   },
   {
    "_defaultOrder": 40,
    "_isFastLaunch": false,
    "category": "Memory Optimized",
    "gpuNum": 0,
    "hideHardwareSpecs": false,
    "memoryGiB": 32,
    "name": "ml.r5.xlarge",
    "vcpuNum": 4
   },
   {
    "_defaultOrder": 41,
    "_isFastLaunch": false,
    "category": "Memory Optimized",
    "gpuNum": 0,
    "hideHardwareSpecs": false,
    "memoryGiB": 64,
    "name": "ml.r5.2xlarge",
    "vcpuNum": 8
   },
   {
    "_defaultOrder": 42,
    "_isFastLaunch": false,
    "category": "Memory Optimized",
    "gpuNum": 0,
    "hideHardwareSpecs": false,
    "memoryGiB": 128,
    "name": "ml.r5.4xlarge",
    "vcpuNum": 16
   },
   {
    "_defaultOrder": 43,
    "_isFastLaunch": false,
    "category": "Memory Optimized",
    "gpuNum": 0,
    "hideHardwareSpecs": false,
    "memoryGiB": 256,
    "name": "ml.r5.8xlarge",
    "vcpuNum": 32
   },
   {
    "_defaultOrder": 44,
    "_isFastLaunch": false,
    "category": "Memory Optimized",
    "gpuNum": 0,
    "hideHardwareSpecs": false,
    "memoryGiB": 384,
    "name": "ml.r5.12xlarge",
    "vcpuNum": 48
   },
   {
    "_defaultOrder": 45,
    "_isFastLaunch": false,
    "category": "Memory Optimized",
    "gpuNum": 0,
    "hideHardwareSpecs": false,
    "memoryGiB": 512,
    "name": "ml.r5.16xlarge",
    "vcpuNum": 64
   },
   {
    "_defaultOrder": 46,
    "_isFastLaunch": false,
    "category": "Memory Optimized",
    "gpuNum": 0,
    "hideHardwareSpecs": false,
    "memoryGiB": 768,
    "name": "ml.r5.24xlarge",
    "vcpuNum": 96
   },
   {
    "_defaultOrder": 47,
    "_isFastLaunch": false,
    "category": "Accelerated computing",
    "gpuNum": 1,
    "hideHardwareSpecs": false,
    "memoryGiB": 16,
    "name": "ml.g5.xlarge",
    "vcpuNum": 4
   },
   {
    "_defaultOrder": 48,
    "_isFastLaunch": false,
    "category": "Accelerated computing",
    "gpuNum": 1,
    "hideHardwareSpecs": false,
    "memoryGiB": 32,
    "name": "ml.g5.2xlarge",
    "vcpuNum": 8
   },
   {
    "_defaultOrder": 49,
    "_isFastLaunch": false,
    "category": "Accelerated computing",
    "gpuNum": 1,
    "hideHardwareSpecs": false,
    "memoryGiB": 64,
    "name": "ml.g5.4xlarge",
    "vcpuNum": 16
   },
   {
    "_defaultOrder": 50,
    "_isFastLaunch": false,
    "category": "Accelerated computing",
    "gpuNum": 1,
    "hideHardwareSpecs": false,
    "memoryGiB": 128,
    "name": "ml.g5.8xlarge",
    "vcpuNum": 32
   },
   {
    "_defaultOrder": 51,
    "_isFastLaunch": false,
    "category": "Accelerated computing",
    "gpuNum": 1,
    "hideHardwareSpecs": false,
    "memoryGiB": 256,
    "name": "ml.g5.16xlarge",
    "vcpuNum": 64
   },
   {
    "_defaultOrder": 52,
    "_isFastLaunch": false,
    "category": "Accelerated computing",
    "gpuNum": 4,
    "hideHardwareSpecs": false,
    "memoryGiB": 192,
    "name": "ml.g5.12xlarge",
    "vcpuNum": 48
   },
   {
    "_defaultOrder": 53,
    "_isFastLaunch": false,
    "category": "Accelerated computing",
    "gpuNum": 4,
    "hideHardwareSpecs": false,
    "memoryGiB": 384,
    "name": "ml.g5.24xlarge",
    "vcpuNum": 96
   },
   {
    "_defaultOrder": 54,
    "_isFastLaunch": false,
    "category": "Accelerated computing",
    "gpuNum": 8,
    "hideHardwareSpecs": false,
    "memoryGiB": 768,
    "name": "ml.g5.48xlarge",
    "vcpuNum": 192
   },
   {
    "_defaultOrder": 55,
    "_isFastLaunch": false,
    "category": "Accelerated computing",
    "gpuNum": 8,
    "hideHardwareSpecs": false,
    "memoryGiB": 1152,
    "name": "ml.p4d.24xlarge",
    "vcpuNum": 96
   },
   {
    "_defaultOrder": 56,
    "_isFastLaunch": false,
    "category": "Accelerated computing",
    "gpuNum": 8,
    "hideHardwareSpecs": false,
    "memoryGiB": 1152,
    "name": "ml.p4de.24xlarge",
    "vcpuNum": 96
   },
   {
    "_defaultOrder": 57,
    "_isFastLaunch": false,
    "category": "Accelerated computing",
    "gpuNum": 0,
    "hideHardwareSpecs": false,
    "memoryGiB": 32,
    "name": "ml.trn1.2xlarge",
    "vcpuNum": 8
   },
   {
    "_defaultOrder": 58,
    "_isFastLaunch": false,
    "category": "Accelerated computing",
    "gpuNum": 0,
    "hideHardwareSpecs": false,
    "memoryGiB": 512,
    "name": "ml.trn1.32xlarge",
    "vcpuNum": 128
   },
   {
    "_defaultOrder": 59,
    "_isFastLaunch": false,
    "category": "Accelerated computing",
    "gpuNum": 0,
    "hideHardwareSpecs": false,
    "memoryGiB": 512,
    "name": "ml.trn1n.32xlarge",
    "vcpuNum": 128
   }
  ],
  "instance_type": "ml.t3.medium",
  "kernelspec": {
   "display_name": "conda_python3",
   "language": "python",
   "name": "conda_python3"
  },
  "language_info": {
   "codemirror_mode": {
    "name": "ipython",
    "version": 3
   },
   "file_extension": ".py",
   "mimetype": "text/x-python",
   "name": "python",
   "nbconvert_exporter": "python",
   "pygments_lexer": "ipython3",
   "version": "3.10.14"
  }
 },
 "nbformat": 4,
 "nbformat_minor": 5
}
