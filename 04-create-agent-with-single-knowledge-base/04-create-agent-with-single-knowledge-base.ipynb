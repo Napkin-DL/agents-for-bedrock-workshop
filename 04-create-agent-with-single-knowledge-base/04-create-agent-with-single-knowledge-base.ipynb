{
 "cells": [
  {
   "cell_type": "markdown",
   "id": "a0bb5c39-2fde-4336-8127-8debe7cb2741",
   "metadata": {},
   "source": [
    "# 단일 Knowledge Base만 있는 Agent 만들기\n",
    "\n",
    "이 노트북에서는 회사 데이터를 검색하고 작업을 완료하기 위해 Amazon Bedrock용 단일 Knowledge Base에 연결되는 Amazon Bedrock Agent를 만드는 방법을 배웁니다. \n",
    "\n",
    "이 노트북의 사용 사례는 PDF로 저장된 Amazon Bedrock 문서 페이지입니다.이 노트북을 사용하면 Amazon Bedrock에 대해 질문하고 지식창고에서 제공되는 문서를 기반으로 답변을 얻을 수 있습니다.\n",
    "\n",
    "이 노트북을 완성하는 단계는 다음과 같습니다:\n",
    "\n",
    "1. 필요한 라이브러리 import\n",
    "1. S3 버킷 생성과 데이터 업로드\n",
    "1. Knowledge Base for Amazon Bedrock 생성과 데이터를 Knowledge Base와 동기화\n",
    "1. Agent for Amazon Bedrock 생성\n",
    "1. Agent 테스트\n",
    "1. 생성한 리소스 정리\n",
    "\n",
    "<img src=\"./images/lab4-architecture.png\" alt=\"Create Agent with a Single Knowledge Base\" style=\"height: 400px; width:950px;\"/>\n"
   ]
  },
  {
   "cell_type": "markdown",
   "id": "076a5aba-9735-4e98-8a53-0daccd7e94b0",
   "metadata": {},
   "source": [
    "## 1. 필요한 라이브러리 import"
   ]
  },
  {
   "cell_type": "code",
   "execution_count": 1,
   "id": "ac05c073-d45b-4d85-9bf8-ae10aa78be8d",
   "metadata": {
    "tags": []
   },
   "outputs": [
    {
     "name": "stdout",
     "output_type": "stream",
     "text": [
      "\u001b[31mERROR: pip's dependency resolver does not currently take into account all the packages that are installed. This behaviour is the source of the following dependency conflicts.\n",
      "awscli 1.33.3 requires botocore==1.34.121, but you have botocore 1.34.122 which is incompatible.\u001b[0m\u001b[31m\n",
      "\u001b[0m"
     ]
    }
   ],
   "source": [
    "!pip install --upgrade -q opensearch-py\n",
    "!pip install --upgrade -q requests-aws4auth\n",
    "!pip install --upgrade -q boto3\n",
    "!pip install --upgrade -q botocore\n",
    "!pip install --upgrade -q awscli"
   ]
  },
  {
   "cell_type": "code",
   "execution_count": 2,
   "id": "e8ad6ec2-b283-4c5d-879f-e397e46568c0",
   "metadata": {
    "tags": []
   },
   "outputs": [],
   "source": [
    "import logging\n",
    "import boto3\n",
    "import time\n",
    "import json\n",
    "import uuid\n",
    "import pprint\n",
    "import os\n",
    "from opensearchpy import OpenSearch, RequestsHttpConnection\n",
    "from requests_aws4auth import AWS4Auth"
   ]
  },
  {
   "cell_type": "code",
   "execution_count": 3,
   "id": "d2b2d607-c1f2-4cbb-9f89-d935676e0101",
   "metadata": {
    "tags": []
   },
   "outputs": [],
   "source": [
    "# setting logger\n",
    "logging.basicConfig(format='[%(asctime)s] p%(process)s {%(filename)s:%(lineno)d} %(levelname)s - %(message)s', level=logging.INFO)\n",
    "logger = logging.getLogger(__name__)"
   ]
  },
  {
   "cell_type": "code",
   "execution_count": 4,
   "id": "ec5d7363-f715-4849-968b-cd4eb5fae3b0",
   "metadata": {
    "tags": []
   },
   "outputs": [
    {
     "name": "stderr",
     "output_type": "stream",
     "text": [
      "[2024-06-07 23:15:30,004] p25453 {credentials.py:1075} INFO - Found credentials from IAM Role: BaseNotebookInstanceEc2InstanceRole\n"
     ]
    }
   ],
   "source": [
    "# getting boto3 clients for required AWS services\n",
    "sts_client = boto3.client('sts')\n",
    "iam_client = boto3.client('iam')\n",
    "s3_client = boto3.client('s3')\n",
    "lambda_client = boto3.client('lambda')\n",
    "bedrock_agent_client = boto3.client('bedrock-agent')\n",
    "bedrock_agent_runtime_client = boto3.client('bedrock-agent-runtime')\n",
    "open_search_serverless_client = boto3.client('opensearchserverless')"
   ]
  },
  {
   "cell_type": "code",
   "execution_count": 5,
   "id": "c5ab4b38-bb05-4771-9c29-6e48602b3244",
   "metadata": {
    "tags": []
   },
   "outputs": [
    {
     "data": {
      "text/plain": [
       "('us-west-2', '322537213286')"
      ]
     },
     "execution_count": 5,
     "metadata": {},
     "output_type": "execute_result"
    }
   ],
   "source": [
    "session = boto3.session.Session()\n",
    "region = session.region_name\n",
    "account_id = sts_client.get_caller_identity()[\"Account\"]\n",
    "region, account_id"
   ]
  },
  {
   "cell_type": "code",
   "execution_count": 6,
   "id": "ec1c499b-a834-4928-92c9-0091ae0d381b",
   "metadata": {
    "tags": []
   },
   "outputs": [],
   "source": [
    "# Generate random prefix for unique IAM roles, agent name and S3 Bucket and \n",
    "# assign variables\n",
    "\n",
    "from time import strftime\n",
    "current_time = strftime(\"%m%d-%H%M%s\")\n",
    "\n",
    "suffix = f\"{region}-{account_id}\"\n",
    "agent_name = \"bedrock-docs-kb-agents\"\n",
    "agent_alias_name = \"bedrock-docs-alias\"\n",
    "bucket_name = f'{agent_name}-{suffix}'\n",
    "bucket_arn = f\"arn:aws:s3:::{bucket_name}\"\n",
    "bedrock_agent_bedrock_allow_policy_name = f\"bda-bedrock-allow-{current_time}\"\n",
    "bedrock_agent_s3_allow_policy_name = f\"bda-s3-allow-{current_time}\"\n",
    "bedrock_agent_kb_allow_policy_name = f\"bda-kb-allow-{current_time}\"\n",
    "agent_role_name = f'AmazonBedrockExecutionRoleForAgents_bedrock_docs'\n",
    "kb_name = f'bedrock-docs-kb-{current_time}'\n",
    "data_source_name = f'bedrock-docs-kb-docs-{current_time}'\n",
    "kb_files_path = 'kb_documents'\n",
    "kb_key = 'kb_documents'\n",
    "kb_role_name = f'AmazonBedrockExecutionRoleForKnowledgeBase_bedrock_docs'\n",
    "kb_bedrock_allow_policy_name = f\"bd-kb-bedrock-allow-{current_time}\"\n",
    "kb_aoss_allow_policy_name = f\"bd-kb-aoss-allow-{current_time}\"\n",
    "kb_s3_allow_policy_name = f\"bd-kb-s3-allow-{current_time}\"\n",
    "kb_collection_name = f'bd-kbc-{current_time}'\n",
    "# Select Amazon titan as the embedding model\n",
    "embedding_model_arn = f'arn:aws:bedrock:{region}::foundation-model/amazon.titan-embed-text-v1'\n",
    "kb_vector_index_name = \"bedrock-knowledge-base-index\"\n",
    "kb_metadataField = 'bedrock-knowledge-base-metadata'\n",
    "kb_textField = 'bedrock-knowledge-base-text'\n",
    "kb_vectorField = 'bedrock-knowledge-base-vector'\n",
    "model_id = \"anthropic.claude-3-haiku-20240307-v1:0\"\n",
    "\n",
    "# agent configuration\n",
    "agent_instruction = \"\"\"\n",
    "You are an agent that support users working with Amazon Bedrock. You have access to Bedrock's documentation in a Knowledge Base\n",
    "and you can Answer questions from this documentation. Only answer questions based on the documentation and reply with \n",
    "\"There is no information about your question on the Amazon Bedrock Documentation at the moment, sorry! Do you want to ask another question?\" \n",
    "If the answer to the question is not available in the documentation\n",
    "\"\"\""
   ]
  },
  {
   "cell_type": "markdown",
   "id": "c6b5819d-93a9-44d3-8eaa-5ed1da6a8c95",
   "metadata": {},
   "source": [
    "## 2. S3 버킷 생성과 데이터 업로드\n",
    "Knowledge Bases for Amazon Bedrock는 현재 데이터가 Amazon S3 버킷에 있어야 합니다. 이 섹션에서는 Amazon S3 버킷과 파일을 만들겠습니다."
   ]
  },
  {
   "cell_type": "markdown",
   "id": "bdc17ae4-3dce-43c4-b79d-ed6884beb7a1",
   "metadata": {},
   "source": [
    "### 2.1 Amazon S3 bucket 생성"
   ]
  },
  {
   "cell_type": "code",
   "execution_count": 7,
   "id": "976cc565-4f58-4284-88eb-dd9498c31958",
   "metadata": {
    "tags": []
   },
   "outputs": [],
   "source": [
    "if region != 'us-east-1':\n",
    "    s3_client.create_bucket(\n",
    "        Bucket=bucket_name.lower(),\n",
    "        CreateBucketConfiguration={'LocationConstraint': region}\n",
    "    )\n",
    "else:\n",
    "    s3_client.create_bucket(Bucket=bucket_name)"
   ]
  },
  {
   "cell_type": "markdown",
   "id": "b7c7a720-5586-4e4b-8a29-2ef17a1cf07a",
   "metadata": {},
   "source": [
    "### 2.2 Amazon S3 bucket로 dataset 업로드"
   ]
  },
  {
   "cell_type": "code",
   "execution_count": 8,
   "id": "321c127d-a82a-49a5-b939-32d289376125",
   "metadata": {
    "tags": []
   },
   "outputs": [],
   "source": [
    "# Upload Knowledge Base files to this s3 bucket\n",
    "for f in os.listdir(kb_files_path):\n",
    "    if f.endswith(\".pdf\"):\n",
    "        s3_client.upload_file(kb_files_path+'/'+f, bucket_name, kb_key+'/'+f)"
   ]
  },
  {
   "cell_type": "markdown",
   "id": "6ad39aa6-42bf-4146-9f87-fbb18f674326",
   "metadata": {
    "tags": []
   },
   "source": [
    "## 3. Knowledge Base for Amazon Bedrock 생성\n",
    "\n",
    "이 섹션에서는 Knowledge Base를 만들고 테스트하는 모든 단계를 살펴봅니다. \n",
    "\n",
    "완료해야 할 단계는 다음과 같습니다:\n",
    "    \n",
    "1. Knowledge Base 역할 및 해당 정책 생성\n",
    "2. Vector Database 생성\n",
    "3. OpenSearch Index 생성\n",
    "4. Knowledge Base 생성\n",
    "5. data source 생성 및 최근 생성된 Knowledge Base 추가\n",
    "6. knowledge Base에 데이터 수집"
   ]
  },
  {
   "cell_type": "markdown",
   "id": "4d3d808e-81ae-4205-9ac1-362bbb45d96e",
   "metadata": {},
   "source": [
    "### 3.1 Knowledge Base 역할 및 해당 정책 생성\n",
    "\n",
    "먼저 Knowledge Base에서 Bedrock Titan Embedding 모델, Amazon OpenSearch Serverless 및 Knowledge Base 파일이 있는 S3 버킷에 액세스할 수 있도록 하는 IAM 정책을 만들어 보겠습니다.\n",
    "\n",
    "정책이 준비되면 Knowledge Base 역할을 만듭니다."
   ]
  },
  {
   "cell_type": "code",
   "execution_count": 9,
   "id": "be047c6d-6d35-414e-915c-e2eec9c656eb",
   "metadata": {
    "tags": []
   },
   "outputs": [],
   "source": [
    "# Create IAM policies for KB to invoke embedding model\n",
    "bedrock_kb_allow_fm_model_policy_statement = {\n",
    "    \"Version\": \"2012-10-17\",\n",
    "    \"Statement\": [\n",
    "        {\n",
    "            \"Sid\": \"AmazonBedrockAgentBedrockFoundationModelPolicy\",\n",
    "            \"Effect\": \"Allow\",\n",
    "            \"Action\": \"bedrock:InvokeModel\",\n",
    "            \"Resource\": [\n",
    "                embedding_model_arn\n",
    "            ]\n",
    "        }\n",
    "    ]\n",
    "}\n",
    "\n",
    "kb_bedrock_policy_json = json.dumps(bedrock_kb_allow_fm_model_policy_statement)\n",
    "\n",
    "kb_bedrock_policy = iam_client.create_policy(\n",
    "    PolicyName=kb_bedrock_allow_policy_name,\n",
    "    PolicyDocument=kb_bedrock_policy_json\n",
    ")"
   ]
  },
  {
   "cell_type": "code",
   "execution_count": 10,
   "id": "f140db46-1383-4a91-8529-e2193a28675d",
   "metadata": {
    "tags": []
   },
   "outputs": [],
   "source": [
    "# Create IAM policies for KB to access OpenSearch Serverless\n",
    "bedrock_kb_allow_aoss_policy_statement = {\n",
    "    \"Version\": \"2012-10-17\",\n",
    "    \"Statement\": [\n",
    "        {\n",
    "            \"Effect\": \"Allow\",\n",
    "            \"Action\": \"aoss:APIAccessAll\",\n",
    "            \"Resource\": [\n",
    "                f\"arn:aws:aoss:{region}:{account_id}:collection/*\"\n",
    "            ]\n",
    "        }\n",
    "    ]\n",
    "}\n",
    "\n",
    "\n",
    "kb_aoss_policy_json = json.dumps(bedrock_kb_allow_aoss_policy_statement)\n",
    "\n",
    "kb_aoss_policy = iam_client.create_policy(\n",
    "    PolicyName=kb_aoss_allow_policy_name,\n",
    "    PolicyDocument=kb_aoss_policy_json\n",
    ")"
   ]
  },
  {
   "cell_type": "code",
   "execution_count": 11,
   "id": "ecedf40d-b99d-477d-92b2-2144524b4bdb",
   "metadata": {
    "tags": []
   },
   "outputs": [],
   "source": [
    "kb_s3_allow_policy_statement = {\n",
    "    \"Version\": \"2012-10-17\",\n",
    "    \"Statement\": [\n",
    "        {\n",
    "            \"Sid\": \"AllowKBAccessDocuments\",\n",
    "            \"Effect\": \"Allow\",\n",
    "            \"Action\": [\n",
    "                \"s3:GetObject\",\n",
    "                \"s3:ListBucket\"\n",
    "            ],\n",
    "            \"Resource\": [\n",
    "                f\"arn:aws:s3:::{bucket_name}/*\",\n",
    "                f\"arn:aws:s3:::{bucket_name}\"\n",
    "            ],\n",
    "            \"Condition\": {\n",
    "                \"StringEquals\": {\n",
    "                    \"aws:ResourceAccount\": f\"{account_id}\"\n",
    "                }\n",
    "            }\n",
    "        }\n",
    "    ]\n",
    "}\n",
    "\n",
    "\n",
    "kb_s3_json = json.dumps(kb_s3_allow_policy_statement)\n",
    "kb_s3_policy = iam_client.create_policy(\n",
    "    PolicyName=kb_s3_allow_policy_name,\n",
    "    PolicyDocument=kb_s3_json\n",
    ")"
   ]
  },
  {
   "cell_type": "code",
   "execution_count": 12,
   "id": "1b568014-8a84-4aa7-b385-e0b7cc63a9ec",
   "metadata": {
    "tags": []
   },
   "outputs": [
    {
     "data": {
      "text/plain": [
       "{'ResponseMetadata': {'RequestId': 'b2aa7ee9-6df2-4b26-8613-d00821db61de',\n",
       "  'HTTPStatusCode': 200,\n",
       "  'HTTPHeaders': {'date': 'Fri, 07 Jun 2024 23:23:55 GMT',\n",
       "   'x-amzn-requestid': 'b2aa7ee9-6df2-4b26-8613-d00821db61de',\n",
       "   'content-type': 'text/xml',\n",
       "   'content-length': '212'},\n",
       "  'RetryAttempts': 0}}"
      ]
     },
     "execution_count": 12,
     "metadata": {},
     "output_type": "execute_result"
    }
   ],
   "source": [
    "# Create IAM Role for the agent and attach IAM policies\n",
    "assume_role_policy_document = {\n",
    "    \"Version\": \"2012-10-17\",\n",
    "    \"Statement\": [{\n",
    "          \"Effect\": \"Allow\",\n",
    "          \"Principal\": {\n",
    "            \"Service\": \"bedrock.amazonaws.com\"\n",
    "          },\n",
    "          \"Action\": \"sts:AssumeRole\"\n",
    "    }]\n",
    "}\n",
    "\n",
    "assume_role_policy_document_json = json.dumps(assume_role_policy_document)\n",
    "kb_role = iam_client.create_role(\n",
    "    RoleName=kb_role_name,\n",
    "    AssumeRolePolicyDocument=assume_role_policy_document_json\n",
    ")\n",
    "\n",
    "# Pause to make sure role is created\n",
    "time.sleep(10)\n",
    "    \n",
    "iam_client.attach_role_policy(\n",
    "    RoleName=kb_role_name,\n",
    "    PolicyArn=kb_bedrock_policy['Policy']['Arn']\n",
    ")\n",
    "\n",
    "iam_client.attach_role_policy(\n",
    "    RoleName=kb_role_name,\n",
    "    PolicyArn=kb_aoss_policy['Policy']['Arn']\n",
    ")\n",
    "\n",
    "iam_client.attach_role_policy(\n",
    "    RoleName=kb_role_name,\n",
    "    PolicyArn=kb_s3_policy['Policy']['Arn']\n",
    ")"
   ]
  },
  {
   "cell_type": "code",
   "execution_count": 13,
   "id": "402c9ba1-f46b-4f54-aae0-0aefe9713325",
   "metadata": {
    "tags": []
   },
   "outputs": [
    {
     "data": {
      "text/plain": [
       "'arn:aws:iam::322537213286:role/AmazonBedrockExecutionRoleForKnowledgeBase_bedrock_docs'"
      ]
     },
     "execution_count": 13,
     "metadata": {},
     "output_type": "execute_result"
    }
   ],
   "source": [
    "kb_role_arn = kb_role[\"Role\"][\"Arn\"]\n",
    "kb_role_arn"
   ]
  },
  {
   "cell_type": "markdown",
   "id": "65680beb-9562-4ed0-b354-86588a84a5e8",
   "metadata": {},
   "source": [
    "### 3.2 Vector Database 생성\n",
    "\n",
    "우선 vector store를 만들어야 합니다. 이 섹션에서는 Amazon OpenSerach Serverless를 사용하겠습니다.\n",
    "\n",
    "개발자는 OpenSearch 클러스터를 구성, 관리 및 확장할 필요 없이 OpenSearch Serverless를 사용하여 페타바이트 규모의 워크로드를 실행할 수 있습니다. 서버리스 환경의 간소함과 함께 OpenSearch Service와 동일한 대화형 밀리초 단위의 응답 시간을 얻을 수 있습니다. 데이터 수집에 영향을 주지 않고 애플리케이션에 적합한 용량을 제공하도록 리소스를 자동으로 확장하여 사용한 만큼만 비용을 지불하면 됩니다.\n"
   ]
  },
  {
   "cell_type": "code",
   "execution_count": 14,
   "id": "83ce2ee2-d9f7-463a-ab77-2fda11a72328",
   "metadata": {
    "tags": []
   },
   "outputs": [],
   "source": [
    "# Create OpenSearch Collection\n",
    "security_policy_json = {\n",
    "    \"Rules\": [\n",
    "        {\n",
    "            \"ResourceType\": \"collection\",\n",
    "            \"Resource\":[\n",
    "                f\"collection/{kb_collection_name}\"\n",
    "            ]\n",
    "        }\n",
    "    ],\n",
    "    \"AWSOwnedKey\": True\n",
    "}\n",
    "security_policy = open_search_serverless_client.create_security_policy(\n",
    "    description='security policy of aoss collection',\n",
    "    name=kb_collection_name,\n",
    "    policy=json.dumps(security_policy_json),\n",
    "    type='encryption'\n",
    ")"
   ]
  },
  {
   "cell_type": "code",
   "execution_count": 15,
   "id": "b1009572-4481-46ae-a733-eb82e38abc2f",
   "metadata": {
    "tags": []
   },
   "outputs": [],
   "source": [
    "network_policy_json = [\n",
    "  {\n",
    "    \"Rules\": [\n",
    "      {\n",
    "        \"Resource\": [\n",
    "          f\"collection/{kb_collection_name}\"\n",
    "        ],\n",
    "        \"ResourceType\": \"dashboard\"\n",
    "      },\n",
    "      {\n",
    "        \"Resource\": [\n",
    "          f\"collection/{kb_collection_name}\"\n",
    "        ],\n",
    "        \"ResourceType\": \"collection\"\n",
    "      }\n",
    "    ],\n",
    "    \"AllowFromPublic\": True\n",
    "  }\n",
    "]\n",
    "\n",
    "network_policy = open_search_serverless_client.create_security_policy(\n",
    "    description='network policy of aoss collection',\n",
    "    name=kb_collection_name,\n",
    "    policy=json.dumps(network_policy_json),\n",
    "    type='network'\n",
    ")"
   ]
  },
  {
   "cell_type": "code",
   "execution_count": 16,
   "id": "21f99ce9-140f-421e-b75b-9c2038d8ce18",
   "metadata": {
    "tags": []
   },
   "outputs": [
    {
     "data": {
      "text/plain": [
       "'arn:aws:sts::322537213286:assumed-role/AmazonSageMaker-ExecutionRole-20240103T094982/SageMaker'"
      ]
     },
     "execution_count": 16,
     "metadata": {},
     "output_type": "execute_result"
    }
   ],
   "source": [
    "response = sts_client.get_caller_identity()\n",
    "current_role = response['Arn']\n",
    "current_role"
   ]
  },
  {
   "cell_type": "code",
   "execution_count": 17,
   "id": "de34fcff-94d6-48f2-b309-cb2ac9d89c49",
   "metadata": {
    "tags": []
   },
   "outputs": [],
   "source": [
    "data_policy_json = [\n",
    "  {\n",
    "    \"Rules\": [\n",
    "      {\n",
    "        \"Resource\": [\n",
    "          f\"collection/{kb_collection_name}\"\n",
    "        ],\n",
    "        \"Permission\": [\n",
    "          \"aoss:DescribeCollectionItems\",\n",
    "          \"aoss:CreateCollectionItems\",\n",
    "          \"aoss:UpdateCollectionItems\",\n",
    "          \"aoss:DeleteCollectionItems\"\n",
    "        ],\n",
    "        \"ResourceType\": \"collection\"\n",
    "      },\n",
    "      {\n",
    "        \"Resource\": [\n",
    "          f\"index/{kb_collection_name}/*\"\n",
    "        ],\n",
    "        \"Permission\": [\n",
    "            \"aoss:CreateIndex\",\n",
    "            \"aoss:DeleteIndex\",\n",
    "            \"aoss:UpdateIndex\",\n",
    "            \"aoss:DescribeIndex\",\n",
    "            \"aoss:ReadDocument\",\n",
    "            \"aoss:WriteDocument\"\n",
    "        ],\n",
    "        \"ResourceType\": \"index\"\n",
    "      }\n",
    "    ],\n",
    "    \"Principal\": [\n",
    "        kb_role_arn,\n",
    "        f\"arn:aws:sts::{account_id}:assumed-role/Admin/*\",\n",
    "        current_role\n",
    "    ],\n",
    "    \"Description\": \"\"\n",
    "  }\n",
    "]\n",
    "\n",
    "data_policy = open_search_serverless_client.create_access_policy(\n",
    "    description='data access policy for aoss collection',\n",
    "    name=kb_collection_name,\n",
    "    policy=json.dumps(data_policy_json),\n",
    "    type='data'\n",
    ")\n"
   ]
  },
  {
   "cell_type": "code",
   "execution_count": 18,
   "id": "15624c92-e657-4905-954b-c085307bcb14",
   "metadata": {
    "tags": []
   },
   "outputs": [
    {
     "data": {
      "text/plain": [
       "{'createCollectionDetail': {'arn': 'arn:aws:aoss:us-west-2:322537213286:collection/nasf1401qvjwlahsoith',\n",
       "  'createdDate': 1717803087611,\n",
       "  'description': 'OpenSearch collection for Amazon Bedrock Knowledge Base',\n",
       "  'id': 'nasf1401qvjwlahsoith',\n",
       "  'kmsKeyArn': 'auto',\n",
       "  'lastModifiedDate': 1717803087611,\n",
       "  'name': 'bd-kbc-0607-23171717802236',\n",
       "  'standbyReplicas': 'DISABLED',\n",
       "  'status': 'CREATING',\n",
       "  'type': 'VECTORSEARCH'},\n",
       " 'ResponseMetadata': {'RequestId': '1b2ef699-1b8b-4206-9dfc-c0ccaa0c6ff2',\n",
       "  'HTTPStatusCode': 200,\n",
       "  'HTTPHeaders': {'x-amzn-requestid': '1b2ef699-1b8b-4206-9dfc-c0ccaa0c6ff2',\n",
       "   'date': 'Fri, 07 Jun 2024 23:31:27 GMT',\n",
       "   'content-type': 'application/x-amz-json-1.0',\n",
       "   'content-length': '391',\n",
       "   'connection': 'keep-alive'},\n",
       "  'RetryAttempts': 0}}"
      ]
     },
     "execution_count": 18,
     "metadata": {},
     "output_type": "execute_result"
    }
   ],
   "source": [
    "opensearch_collection_response = open_search_serverless_client.create_collection(\n",
    "    description='OpenSearch collection for Amazon Bedrock Knowledge Base',\n",
    "    name=kb_collection_name,\n",
    "    standbyReplicas='DISABLED',\n",
    "    type='VECTORSEARCH'\n",
    ")\n",
    "opensearch_collection_response"
   ]
  },
  {
   "cell_type": "code",
   "execution_count": 19,
   "id": "5acb0d1d-8813-4a36-b4e0-176116504c7f",
   "metadata": {
    "tags": []
   },
   "outputs": [
    {
     "data": {
      "text/plain": [
       "'arn:aws:aoss:us-west-2:322537213286:collection/nasf1401qvjwlahsoith'"
      ]
     },
     "execution_count": 19,
     "metadata": {},
     "output_type": "execute_result"
    }
   ],
   "source": [
    "collection_arn = opensearch_collection_response[\"createCollectionDetail\"][\"arn\"]\n",
    "collection_arn"
   ]
  },
  {
   "cell_type": "code",
   "execution_count": 20,
   "id": "6d3b9036-1843-479d-aa36-1756f8e4da92",
   "metadata": {
    "tags": []
   },
   "outputs": [
    {
     "name": "stdout",
     "output_type": "stream",
     "text": [
      "Creating collection...\n",
      "\n",
      "Collection successfully created:\n",
      "[{'arn': 'arn:aws:aoss:us-west-2:322537213286:collection/nasf1401qvjwlahsoith', 'collectionEndpoint': 'https://nasf1401qvjwlahsoith.us-west-2.aoss.amazonaws.com', 'createdDate': 1717803087611, 'dashboardEndpoint': 'https://nasf1401qvjwlahsoith.us-west-2.aoss.amazonaws.com/_dashboards', 'description': 'OpenSearch collection for Amazon Bedrock Knowledge Base', 'id': 'nasf1401qvjwlahsoith', 'kmsKeyArn': 'auto', 'lastModifiedDate': 1717803113598, 'name': 'bd-kbc-0607-23171717802236', 'standbyReplicas': 'DISABLED', 'status': 'ACTIVE', 'type': 'VECTORSEARCH'}]\n"
     ]
    },
    {
     "data": {
      "text/plain": [
       "'nasf1401qvjwlahsoith.us-west-2.aoss.amazonaws.com'"
      ]
     },
     "execution_count": 20,
     "metadata": {},
     "output_type": "execute_result"
    }
   ],
   "source": [
    "# wait for collection creation\n",
    "response = open_search_serverless_client.batch_get_collection(names=[kb_collection_name])\n",
    "# Periodically check collection status\n",
    "while (response['collectionDetails'][0]['status']) == 'CREATING':\n",
    "    print('Creating collection...')\n",
    "    time.sleep(30)\n",
    "    response = open_search_serverless_client.batch_get_collection(names=[kb_collection_name])\n",
    "print('\\nCollection successfully created:')\n",
    "print(response[\"collectionDetails\"])\n",
    "# Extract the collection endpoint from the response\n",
    "host = (response['collectionDetails'][0]['collectionEndpoint'])\n",
    "final_host = host.replace(\"https://\", \"\")\n",
    "final_host"
   ]
  },
  {
   "cell_type": "markdown",
   "id": "455a3b6f-1bca-410d-86fe-5d38fe61470b",
   "metadata": {},
   "source": [
    "### 3.3 - OpenSearch Index 생성\n",
    "\n",
    "Let's now create a vector index to index our data\n"
   ]
  },
  {
   "cell_type": "code",
   "execution_count": 21,
   "id": "59f5e1fa-2d27-4d57-b288-327a16edd67b",
   "metadata": {
    "tags": []
   },
   "outputs": [
    {
     "name": "stderr",
     "output_type": "stream",
     "text": [
      "[2024-06-07 23:33:53,247] p25453 {credentials.py:1075} INFO - Found credentials from IAM Role: BaseNotebookInstanceEc2InstanceRole\n",
      "[2024-06-07 23:34:38,871] p25453 {base.py:258} INFO - PUT https://nasf1401qvjwlahsoith.us-west-2.aoss.amazonaws.com:443/bedrock-knowledge-base-index [status:200 request:0.578s]\n"
     ]
    },
    {
     "name": "stdout",
     "output_type": "stream",
     "text": [
      "\n",
      "Creating index:\n",
      "{'acknowledged': True, 'shards_acknowledged': True, 'index': 'bedrock-knowledge-base-index'}\n"
     ]
    }
   ],
   "source": [
    "credentials = boto3.Session().get_credentials()\n",
    "service = 'aoss'\n",
    "awsauth = AWS4Auth(\n",
    "    credentials.access_key, \n",
    "    credentials.secret_key,\n",
    "    region, \n",
    "    service, \n",
    "    session_token=credentials.token\n",
    ")\n",
    "\n",
    "# Build the OpenSearch client\n",
    "open_search_client = OpenSearch(\n",
    "    hosts=[{'host': final_host, 'port': 443}],\n",
    "    http_auth=awsauth,\n",
    "    use_ssl=True,\n",
    "    verify_certs=True,\n",
    "    connection_class=RequestsHttpConnection,\n",
    "    timeout=300\n",
    ")\n",
    "# It can take up to a minute for data access rules to be enforced\n",
    "time.sleep(45)\n",
    "index_body = {\n",
    "    \"settings\": {\n",
    "        \"index.knn\": True,\n",
    "        \"number_of_shards\": 1,\n",
    "        \"knn.algo_param.ef_search\": 512,\n",
    "        \"number_of_replicas\": 0,\n",
    "    },\n",
    "    \"mappings\": {\n",
    "        \"properties\": {}\n",
    "    }\n",
    "}\n",
    "\n",
    "index_body[\"mappings\"][\"properties\"][kb_vectorField] = {\n",
    "    \"type\": \"knn_vector\",\n",
    "    \"dimension\": 1536,\n",
    "    \"method\": {\n",
    "         \"name\": \"hnsw\",\n",
    "         \"engine\": \"faiss\"\n",
    "    },\n",
    "}\n",
    "\n",
    "index_body[\"mappings\"][\"properties\"][kb_textField] = {\n",
    "    \"type\": \"text\"\n",
    "}\n",
    "\n",
    "index_body[\"mappings\"][\"properties\"][kb_metadataField] = {\n",
    "    \"type\": \"text\"\n",
    "}\n",
    "\n",
    "# Create index\n",
    "response = open_search_client.indices.create(kb_vector_index_name, body=index_body)\n",
    "print('\\nCreating index:')\n",
    "print(response)"
   ]
  },
  {
   "cell_type": "markdown",
   "id": "2a716b75-29d1-47e2-b9a0-24887b0624ea",
   "metadata": {},
   "source": [
    "### 3.5 - Knowledge Base 생성\n",
    "OpenSearch Serverless에서 Vector database를 사용할 수 있게 되었으니, Knowledge Base를 만들고 이를 OpenSearch DB와 연결해 보겠습니다."
   ]
  },
  {
   "cell_type": "code",
   "execution_count": 22,
   "id": "dce574a8-5eb9-4fbf-af11-08b7a05e5044",
   "metadata": {
    "tags": []
   },
   "outputs": [],
   "source": [
    "storage_configuration = {\n",
    "    'opensearchServerlessConfiguration': {\n",
    "        'collectionArn': collection_arn, \n",
    "        'fieldMapping': {\n",
    "            'metadataField': kb_metadataField,\n",
    "            'textField': kb_textField,\n",
    "            'vectorField': kb_vectorField\n",
    "        },\n",
    "        'vectorIndexName': kb_vector_index_name\n",
    "    },\n",
    "    'type': 'OPENSEARCH_SERVERLESS'\n",
    "}"
   ]
  },
  {
   "cell_type": "code",
   "execution_count": 23,
   "id": "f853d36e-cf19-4241-8cff-adecf14c3f45",
   "metadata": {
    "tags": []
   },
   "outputs": [
    {
     "name": "stdout",
     "output_type": "stream",
     "text": [
      "{'ResponseMetadata': {'HTTPHeaders': {'connection': 'keep-alive',\n",
      "                                      'content-length': '1010',\n",
      "                                      'content-type': 'application/json',\n",
      "                                      'date': 'Fri, 07 Jun 2024 23:37:33 GMT',\n",
      "                                      'x-amz-apigw-id': 'ZBT1mFB1PHcELUw=',\n",
      "                                      'x-amzn-requestid': 'd15ca029-34e2-4ed9-a925-04da3f64899e',\n",
      "                                      'x-amzn-trace-id': 'Root=1-666399bd-7e715f3b79989f0b461cc3af'},\n",
      "                      'HTTPStatusCode': 202,\n",
      "                      'RequestId': 'd15ca029-34e2-4ed9-a925-04da3f64899e',\n",
      "                      'RetryAttempts': 0},\n",
      " 'knowledgeBase': {'createdAt': datetime.datetime(2024, 6, 7, 23, 37, 33, 197633, tzinfo=tzlocal()),\n",
      "                   'description': 'KB that contains the bedrock documentation',\n",
      "                   'knowledgeBaseArn': 'arn:aws:bedrock:us-west-2:322537213286:knowledge-base/YMUCEHYCLK',\n",
      "                   'knowledgeBaseConfiguration': {'type': 'VECTOR',\n",
      "                                                  'vectorKnowledgeBaseConfiguration': {'embeddingModelArn': 'arn:aws:bedrock:us-west-2::foundation-model/amazon.titan-embed-text-v1'}},\n",
      "                   'knowledgeBaseId': 'YMUCEHYCLK',\n",
      "                   'name': 'bedrock-docs-kb-0607-23171717802236',\n",
      "                   'roleArn': 'arn:aws:iam::322537213286:role/AmazonBedrockExecutionRoleForKnowledgeBase_bedrock_docs',\n",
      "                   'status': 'CREATING',\n",
      "                   'storageConfiguration': {'opensearchServerlessConfiguration': {'collectionArn': 'arn:aws:aoss:us-west-2:322537213286:collection/nasf1401qvjwlahsoith',\n",
      "                                                                                  'fieldMapping': {'metadataField': 'bedrock-knowledge-base-metadata',\n",
      "                                                                                                   'textField': 'bedrock-knowledge-base-text',\n",
      "                                                                                                   'vectorField': 'bedrock-knowledge-base-vector'},\n",
      "                                                                                  'vectorIndexName': 'bedrock-knowledge-base-index'},\n",
      "                                            'type': 'OPENSEARCH_SERVERLESS'},\n",
      "                   'updatedAt': datetime.datetime(2024, 6, 7, 23, 37, 33, 197633, tzinfo=tzlocal())}}\n"
     ]
    }
   ],
   "source": [
    "# Creating the knowledge base\n",
    "try:\n",
    "    # ensure the index is created and available\n",
    "    time.sleep(45)\n",
    "    kb_obj = bedrock_agent_client.create_knowledge_base(\n",
    "        name=kb_name, \n",
    "        description='KB that contains the bedrock documentation',\n",
    "        roleArn=kb_role_arn,\n",
    "        knowledgeBaseConfiguration={\n",
    "            'type': 'VECTOR',  # Corrected type\n",
    "            'vectorKnowledgeBaseConfiguration': {\n",
    "                'embeddingModelArn': embedding_model_arn\n",
    "            }\n",
    "        },\n",
    "        storageConfiguration=storage_configuration\n",
    "    )\n",
    "\n",
    "    # Pretty print the response\n",
    "    pprint.pprint(kb_obj)\n",
    "\n",
    "except Exception as e:\n",
    "    print(f\"Error occurred: {e}\")"
   ]
  },
  {
   "cell_type": "code",
   "execution_count": 24,
   "id": "92a7acc7-23fc-4c68-bc5d-f56c819b4e45",
   "metadata": {
    "tags": []
   },
   "outputs": [
    {
     "name": "stdout",
     "output_type": "stream",
     "text": [
      "{'ResponseMetadata': {'HTTPHeaders': {'connection': 'keep-alive',\n",
      "                                      'content-length': '658',\n",
      "                                      'content-type': 'application/json',\n",
      "                                      'date': 'Fri, 07 Jun 2024 23:38:18 GMT',\n",
      "                                      'x-amz-apigw-id': 'ZBT8uFTJPHcEvjA=',\n",
      "                                      'x-amzn-requestid': '2d3b692d-0a45-4d7b-ae91-a4aa15560c12',\n",
      "                                      'x-amzn-trace-id': 'Root=1-666399ea-4615c29353cfa8a824f4eb04'},\n",
      "                      'HTTPStatusCode': 200,\n",
      "                      'RequestId': '2d3b692d-0a45-4d7b-ae91-a4aa15560c12',\n",
      "                      'RetryAttempts': 0},\n",
      " 'dataSource': {'createdAt': datetime.datetime(2024, 6, 7, 23, 38, 18, 826834, tzinfo=tzlocal()),\n",
      "                'dataDeletionPolicy': 'DELETE',\n",
      "                'dataSourceConfiguration': {'s3Configuration': {'bucketArn': 'arn:aws:s3:::bedrock-docs-kb-agents-us-west-2-322537213286',\n",
      "                                                                'inclusionPrefixes': ['kb_documents']},\n",
      "                                            'type': 'S3'},\n",
      "                'dataSourceId': 'YXGE3WB3YG',\n",
      "                'description': 'DataSource for the bedrock documentation',\n",
      "                'knowledgeBaseId': 'YMUCEHYCLK',\n",
      "                'name': 'bedrock-docs-kb-docs-0607-23171717802236',\n",
      "                'status': 'AVAILABLE',\n",
      "                'updatedAt': datetime.datetime(2024, 6, 7, 23, 38, 18, 826834, tzinfo=tzlocal()),\n",
      "                'vectorIngestionConfiguration': {'chunkingConfiguration': {'chunkingStrategy': 'FIXED_SIZE',\n",
      "                                                                           'fixedSizeChunkingConfiguration': {'maxTokens': 512,\n",
      "                                                                                                              'overlapPercentage': 20}}}}}\n"
     ]
    }
   ],
   "source": [
    "# Define the S3 configuration for your data source\n",
    "s3_configuration = {\n",
    "    'bucketArn': bucket_arn,\n",
    "    'inclusionPrefixes': [kb_key]  \n",
    "}\n",
    "\n",
    "# Define the data source configuration\n",
    "data_source_configuration = {\n",
    "    's3Configuration': s3_configuration,\n",
    "    'type': 'S3'\n",
    "}\n",
    "\n",
    "knowledge_base_id = kb_obj[\"knowledgeBase\"][\"knowledgeBaseId\"]\n",
    "knowledge_base_arn = kb_obj[\"knowledgeBase\"][\"knowledgeBaseArn\"]\n",
    "\n",
    "chunking_strategy_configuration = {\n",
    "    \"chunkingStrategy\": \"FIXED_SIZE\",\n",
    "    \"fixedSizeChunkingConfiguration\": {\n",
    "        \"maxTokens\": 512,\n",
    "        \"overlapPercentage\": 20\n",
    "    }\n",
    "}\n",
    "\n",
    "# Create the data source\n",
    "try:\n",
    "    # ensure that the KB is created and available\n",
    "    time.sleep(45)\n",
    "    data_source_response = bedrock_agent_client.create_data_source(\n",
    "        knowledgeBaseId=knowledge_base_id,\n",
    "        name=data_source_name,\n",
    "        description='DataSource for the bedrock documentation',\n",
    "        dataSourceConfiguration=data_source_configuration,\n",
    "        vectorIngestionConfiguration = {\n",
    "            \"chunkingConfiguration\": chunking_strategy_configuration\n",
    "        }\n",
    "    )\n",
    "\n",
    "    # Pretty print the response\n",
    "    pprint.pprint(data_source_response)\n",
    "\n",
    "except Exception as e:\n",
    "    print(f\"Error occurred: {e}\")\n"
   ]
  },
  {
   "cell_type": "markdown",
   "id": "f9791ecb-9949-4a2d-9ff6-ae463be967cd",
   "metadata": {},
   "source": [
    "### 3.6 - ingestion job 시작\n",
    "\n",
    "Knowledge Base와 Data Source가 만들어지면 ingestion job을 시작할 수 있습니다. ingestion job 중에 Knowledge Base는 데이터 소스에서 문서를 가져오고, 텍스트를 추출하도록 사전 처리하고, 제공된 청크 크기에 따라 청크를 만들고, 각 청크의 임베딩을 생성한 다음 벡터 데이터베이스(이 경우 Amazon OpenSource Serverless)에 기록합니다."
   ]
  },
  {
   "cell_type": "code",
   "execution_count": 25,
   "id": "ab88c732-d26b-442e-a502-4a2218e65c80",
   "metadata": {
    "tags": []
   },
   "outputs": [],
   "source": [
    "# Start an ingestion job\n",
    "data_source_id = data_source_response[\"dataSource\"][\"dataSourceId\"]\n",
    "start_job_response = bedrock_agent_client.start_ingestion_job(\n",
    "    knowledgeBaseId=knowledge_base_id, \n",
    "    dataSourceId=data_source_id\n",
    ")\n"
   ]
  },
  {
   "cell_type": "markdown",
   "id": "4a253838-6dd3-4a44-84aa-9ee9798bb9d0",
   "metadata": {},
   "source": [
    "## 4. Agent 생성\n",
    "\n",
    "We will now create the Agent and associate the Knowledge Base to it. To do so we need to: \n",
    "1. Agent IAM 역할과 정책 생성\n",
    "2. Agent 생성\n",
    "3. Agent와 Knowledge Base 연계\n",
    "4. Agent 준비\n",
    "\n",
    "### 4.1 - Agent IAM 역할 및 정책 생성\n",
    "First we need to create the agent policies that allow bedrock model invocation and Knowledge Base retrieval"
   ]
  },
  {
   "cell_type": "code",
   "execution_count": 26,
   "id": "5d341725-3d9e-4c9a-aa65-ed661c2775b3",
   "metadata": {
    "tags": []
   },
   "outputs": [],
   "source": [
    "# Create IAM policies for agent\n",
    "bedrock_agent_bedrock_allow_policy_statement = {\n",
    "    \"Version\": \"2012-10-17\",\n",
    "    \"Statement\": [\n",
    "        {\n",
    "            \"Sid\": \"AmazonBedrockAgentBedrockFoundationModelPolicy\",\n",
    "            \"Effect\": \"Allow\",\n",
    "            \"Action\": \"bedrock:InvokeModel\",\n",
    "            \"Resource\": [\n",
    "                f\"arn:aws:bedrock:{region}::foundation-model/{model_id}\"\n",
    "            ]\n",
    "        }\n",
    "    ]\n",
    "}\n",
    "\n",
    "bedrock_policy_json = json.dumps(bedrock_agent_bedrock_allow_policy_statement)\n",
    "\n",
    "agent_bedrock_policy = iam_client.create_policy(\n",
    "    PolicyName=bedrock_agent_bedrock_allow_policy_name,\n",
    "    PolicyDocument=bedrock_policy_json\n",
    ")"
   ]
  },
  {
   "cell_type": "code",
   "execution_count": 27,
   "id": "38c0f7c3-4c98-49a5-bb94-db7935f754b5",
   "metadata": {
    "tags": []
   },
   "outputs": [],
   "source": [
    "bedrock_agent_kb_retrival_policy_statement = {\n",
    "    \"Version\": \"2012-10-17\",\n",
    "    \"Statement\": [\n",
    "        {\n",
    "            \"Effect\": \"Allow\",\n",
    "            \"Action\": [\n",
    "                \"bedrock:Retrieve\"\n",
    "            ],\n",
    "            \"Resource\": [\n",
    "                knowledge_base_arn\n",
    "            ]\n",
    "        }\n",
    "    ]\n",
    "}\n",
    "bedrock_agent_kb_json = json.dumps(bedrock_agent_kb_retrival_policy_statement)\n",
    "agent_kb_schema_policy = iam_client.create_policy(\n",
    "    PolicyName=bedrock_agent_kb_allow_policy_name,\n",
    "    Description=f\"Policy to allow agent to retrieve documents from knowledge base.\",\n",
    "    PolicyDocument=bedrock_agent_kb_json\n",
    ")\n"
   ]
  },
  {
   "cell_type": "code",
   "execution_count": 28,
   "id": "bd178e18-196d-464e-b8ff-fb36090cbdd8",
   "metadata": {
    "tags": []
   },
   "outputs": [
    {
     "data": {
      "text/plain": [
       "{'ResponseMetadata': {'RequestId': '6da256f8-a5a9-4abc-93c9-dcf9940c7b1d',\n",
       "  'HTTPStatusCode': 200,\n",
       "  'HTTPHeaders': {'date': 'Fri, 07 Jun 2024 23:42:37 GMT',\n",
       "   'x-amzn-requestid': '6da256f8-a5a9-4abc-93c9-dcf9940c7b1d',\n",
       "   'content-type': 'text/xml',\n",
       "   'content-length': '212'},\n",
       "  'RetryAttempts': 0}}"
      ]
     },
     "execution_count": 28,
     "metadata": {},
     "output_type": "execute_result"
    }
   ],
   "source": [
    "\n",
    "# Create IAM Role for the agent and attach IAM policies\n",
    "assume_role_policy_document = {\n",
    "    \"Version\": \"2012-10-17\",\n",
    "    \"Statement\": [{\n",
    "          \"Effect\": \"Allow\",\n",
    "          \"Principal\": {\n",
    "            \"Service\": \"bedrock.amazonaws.com\"\n",
    "          },\n",
    "          \"Action\": \"sts:AssumeRole\"\n",
    "    }]\n",
    "}\n",
    "\n",
    "assume_role_policy_document_json = json.dumps(assume_role_policy_document)\n",
    "agent_role = iam_client.create_role(\n",
    "    RoleName=agent_role_name,\n",
    "    AssumeRolePolicyDocument=assume_role_policy_document_json\n",
    ")\n",
    "\n",
    "# Pause to make sure role is created\n",
    "time.sleep(10)\n",
    "    \n",
    "iam_client.attach_role_policy(\n",
    "    RoleName=agent_role_name,\n",
    "    PolicyArn=agent_bedrock_policy['Policy']['Arn']\n",
    ")\n",
    "\n",
    "\n",
    "iam_client.attach_role_policy(\n",
    "    RoleName=agent_role_name,\n",
    "    PolicyArn=agent_kb_schema_policy['Policy']['Arn']\n",
    ")"
   ]
  },
  {
   "cell_type": "markdown",
   "id": "0b3f4fa0-9854-4602-9024-b9b1f05c9c20",
   "metadata": {},
   "source": [
    "### 4.2 - Agent 생성\n",
    "필요한 IAM 역할이 만들어지면 bedrock agent 클라이언트를 사용하여 새 에이전트를 만들 수 있습니다. 이를 위해 create_agent 함수를 사용합니다. 여기에는 상담원 이름, 밑줄 foundation model과 instruction이 필요합니다. 에이전트 설명을 제공할 수도 있습니다. 생성된 에이전트는 아직 준비되지 않은 상태입니다. 에이전트를 준비한 다음 이를 사용하여 작업을 호출하고 다른 API를 사용하는 데 중점을 두겠습니다."
   ]
  },
  {
   "cell_type": "code",
   "execution_count": 30,
   "id": "4ddf7880-dafc-479a-987f-628369b94035",
   "metadata": {
    "tags": []
   },
   "outputs": [],
   "source": [
    "# Create Agent\n",
    "response = bedrock_agent_client.create_agent(\n",
    "    agentName=agent_name,\n",
    "    agentResourceRoleArn=agent_role['Role']['Arn'],\n",
    "    description=\"Agent supporting Amazon Bedrock Developers.\",\n",
    "    idleSessionTTLInSeconds=1800,\n",
    "    foundationModel=model_id,\n",
    "    instruction=agent_instruction,\n",
    ")"
   ]
  },
  {
   "cell_type": "markdown",
   "id": "e32e05be-f686-42eb-afe9-42026c3c301a",
   "metadata": {},
   "source": [
    "Let's now store the agent id in a local variable to use it on the next steps"
   ]
  },
  {
   "cell_type": "code",
   "execution_count": 31,
   "id": "47a5e409-acca-47be-9a89-c72091f539de",
   "metadata": {
    "tags": []
   },
   "outputs": [
    {
     "data": {
      "text/plain": [
       "'AC6YU1H6ZD'"
      ]
     },
     "execution_count": 31,
     "metadata": {},
     "output_type": "execute_result"
    }
   ],
   "source": [
    "agent_id = response['agent']['agentId']\n",
    "agent_id"
   ]
  },
  {
   "cell_type": "markdown",
   "id": "accf4d20-6644-48f0-a82d-a60a25fab0a5",
   "metadata": {},
   "source": [
    "### 4.3 - agent Knowledge Base 연계\n",
    "다음으로 생성한 에이전트를 Bedrock 문서용 Knowledge Base와 연결해야 합니다."
   ]
  },
  {
   "cell_type": "code",
   "execution_count": 32,
   "id": "f3b36aba-45ba-4e91-a7af-91937348d264",
   "metadata": {
    "tags": []
   },
   "outputs": [],
   "source": [
    "agent_kb_description = bedrock_agent_client.associate_agent_knowledge_base(\n",
    "    agentId=agent_id,\n",
    "    agentVersion='DRAFT',\n",
    "    description=f'Use the information in the {kb_name} knowledge base to provide accurate responses to the questions about Amazon Bedrock.',\n",
    "    knowledgeBaseId=knowledge_base_id \n",
    ")"
   ]
  },
  {
   "cell_type": "markdown",
   "id": "5776f5ae-ddb6-4241-86ed-0f3bcb84839a",
   "metadata": {},
   "source": [
    "### 4.4 - Prepare Agent 준비\n",
    "\n",
    "내부 테스트에 사용되는 Agent의 DRAFT 버전을 생성합니다."
   ]
  },
  {
   "cell_type": "code",
   "execution_count": 33,
   "id": "962eb7bf-250d-4ed5-af2d-a5ad6e3b7bff",
   "metadata": {
    "tags": []
   },
   "outputs": [
    {
     "data": {
      "text/plain": [
       "{'ResponseMetadata': {'RequestId': '9ca6afa7-c5a5-4f73-aef2-effdb97c0a90',\n",
       "  'HTTPStatusCode': 202,\n",
       "  'HTTPHeaders': {'date': 'Sat, 08 Jun 2024 00:40:12 GMT',\n",
       "   'content-type': 'application/json',\n",
       "   'content-length': '119',\n",
       "   'connection': 'keep-alive',\n",
       "   'x-amzn-requestid': '9ca6afa7-c5a5-4f73-aef2-effdb97c0a90',\n",
       "   'x-amz-apigw-id': 'ZBdA6G9gvHcEUSQ=',\n",
       "   'x-amzn-trace-id': 'Root=1-6663a86b-110fc0700fff72f217096f4f'},\n",
       "  'RetryAttempts': 0},\n",
       " 'agentId': 'AC6YU1H6ZD',\n",
       " 'agentStatus': 'PREPARING',\n",
       " 'agentVersion': 'DRAFT',\n",
       " 'preparedAt': datetime.datetime(2024, 6, 8, 0, 40, 12, 73508, tzinfo=tzlocal())}"
      ]
     },
     "execution_count": 33,
     "metadata": {},
     "output_type": "execute_result"
    }
   ],
   "source": [
    "agent_prepare = bedrock_agent_client.prepare_agent(agentId=agent_id)\n",
    "agent_prepare"
   ]
  },
  {
   "cell_type": "markdown",
   "id": "b603a0e1-cbfc-492a-86c5-304156bafbbc",
   "metadata": {},
   "source": [
    "## 5 - Agent 테스팅\n",
    "\n",
    "이제 에이전트가 생겼으니 에이전트를 호출하여 Amazon Bedrock에 대한 올바른 정보를 제공하는지 테스트해 보겠습니다. 이를 위해 먼저 에이전트 alias을 만들어 보겠습니다."
   ]
  },
  {
   "cell_type": "code",
   "execution_count": 34,
   "id": "a24e0bb8-ba19-407c-86f7-d20bccbf33c9",
   "metadata": {
    "tags": []
   },
   "outputs": [],
   "source": [
    "# Pause to make sure agent is prepared\n",
    "time.sleep(30)\n",
    "agent_alias = bedrock_agent_client.create_agent_alias(\n",
    "    agentId=agent_id,\n",
    "    agentAliasName=agent_alias_name\n",
    ")\n",
    "# Pause to make sure agent alias is ready\n",
    "time.sleep(30)"
   ]
  },
  {
   "cell_type": "code",
   "execution_count": 35,
   "id": "36a5e2d5-6f23-4dea-a720-8b3a6d3c07ed",
   "metadata": {
    "tags": []
   },
   "outputs": [
    {
     "data": {
      "text/plain": [
       "{'ResponseMetadata': {'RequestId': '52c2cea8-ad85-468a-a7cf-bb0dc1c742fa',\n",
       "  'HTTPStatusCode': 202,\n",
       "  'HTTPHeaders': {'date': 'Sat, 08 Jun 2024 00:42:19 GMT',\n",
       "   'content-type': 'application/json',\n",
       "   'content-length': '344',\n",
       "   'connection': 'keep-alive',\n",
       "   'x-amzn-requestid': '52c2cea8-ad85-468a-a7cf-bb0dc1c742fa',\n",
       "   'x-amz-apigw-id': 'ZBdU3GvvPHcEQyg=',\n",
       "   'x-amzn-trace-id': 'Root=1-6663a8eb-7eb1f38c4f33ed672d916634'},\n",
       "  'RetryAttempts': 0},\n",
       " 'agentAlias': {'agentAliasArn': 'arn:aws:bedrock:us-west-2:322537213286:agent-alias/AC6YU1H6ZD/YWMXDQBOPH',\n",
       "  'agentAliasId': 'YWMXDQBOPH',\n",
       "  'agentAliasName': 'bedrock-docs-alias',\n",
       "  'agentAliasStatus': 'CREATING',\n",
       "  'agentId': 'AC6YU1H6ZD',\n",
       "  'createdAt': datetime.datetime(2024, 6, 8, 0, 42, 19, 785101, tzinfo=tzlocal()),\n",
       "  'routingConfiguration': [{}],\n",
       "  'updatedAt': datetime.datetime(2024, 6, 8, 0, 42, 19, 785101, tzinfo=tzlocal())}}"
      ]
     },
     "execution_count": 35,
     "metadata": {},
     "output_type": "execute_result"
    }
   ],
   "source": [
    "agent_alias"
   ]
  },
  {
   "cell_type": "markdown",
   "id": "99e23a8c-e482-41a9-b5f6-82d28eb5bdfc",
   "metadata": {},
   "source": [
    "\n",
    "이제 에이전트를 만들었으므로 bedrock-agent-runtime 클라이언트를 사용하여 이 에이전트를 호출하고 Knowledge base에서 정보를 가져와 보겠습니다."
   ]
  },
  {
   "cell_type": "code",
   "execution_count": 48,
   "id": "d3a53720-96f6-45f3-b4a8-77526d3ed5fd",
   "metadata": {
    "tags": []
   },
   "outputs": [
    {
     "name": "stderr",
     "output_type": "stream",
     "text": [
      "[2024-06-08 01:26:22,201] p25453 {3878994997.py:19} INFO - None\n"
     ]
    },
    {
     "name": "stdout",
     "output_type": "stream",
     "text": [
      "{'ResponseMetadata': {'HTTPHeaders': {'connection': 'keep-alive',\n",
      "                                      'content-type': 'application/json',\n",
      "                                      'date': 'Sat, 08 Jun 2024 01:26:22 GMT',\n",
      "                                      'transfer-encoding': 'chunked',\n",
      "                                      'x-amz-bedrock-agent-session-id': '1d42a072-2536-11ef-acee-0a86a609e469',\n",
      "                                      'x-amzn-bedrock-agent-content-type': 'application/json',\n",
      "                                      'x-amzn-requestid': '591ff377-956c-43a2-a325-532d390b9523'},\n",
      "                      'HTTPStatusCode': 200,\n",
      "                      'RequestId': '591ff377-956c-43a2-a325-532d390b9523',\n",
      "                      'RetryAttempts': 0},\n",
      " 'completion': <botocore.eventstream.EventStream object at 0x7f7c5d58abc0>,\n",
      " 'contentType': 'application/json',\n",
      " 'sessionId': '1d42a072-2536-11ef-acee-0a86a609e469'}\n"
     ]
    }
   ],
   "source": [
    "# Extract the agentAliasId from the response\n",
    "agent_alias_id = agent_alias['agentAlias']['agentAliasId']\n",
    "\n",
    "## create a random id for session initiator id\n",
    "session_id:str = str(uuid.uuid1())\n",
    "enable_trace:bool = True\n",
    "end_session:bool = False\n",
    "\n",
    "# invoke the agent API\n",
    "agentResponse = bedrock_agent_runtime_client.invoke_agent(\n",
    "    inputText=\"Bedrock에서 모델을 평가하려면 어떻게 해야 하나요?\",\n",
    "    agentId=agent_id,\n",
    "    agentAliasId=agent_alias_id, \n",
    "    sessionId=session_id,\n",
    "    enableTrace=enable_trace, \n",
    "    endSession= end_session\n",
    ")\n",
    "\n",
    "logger.info(pprint.pprint(agentResponse))\n"
   ]
  },
  {
   "cell_type": "code",
   "execution_count": 49,
   "id": "430f2083-dc61-4a3e-a373-d36660fd7a82",
   "metadata": {
    "tags": []
   },
   "outputs": [
    {
     "name": "stderr",
     "output_type": "stream",
     "text": [
      "[2024-06-08 01:26:55,311] p25453 {<timed exec>:11} INFO - {\n",
      "  \"agentAliasId\": \"YWMXDQBOPH\",\n",
      "  \"agentId\": \"AC6YU1H6ZD\",\n",
      "  \"agentVersion\": \"1\",\n",
      "  \"sessionId\": \"1d42a072-2536-11ef-acee-0a86a609e469\",\n",
      "  \"trace\": {\n",
      "    \"orchestrationTrace\": {\n",
      "      \"rationale\": {\n",
      "        \"text\": \"\",\n",
      "        \"traceId\": \"591ff377-956c-43a2-a325-532d390b9523-0\"\n",
      "      }\n",
      "    }\n",
      "  }\n",
      "}\n",
      "[2024-06-08 01:26:55,312] p25453 {<timed exec>:11} INFO - {\n",
      "  \"agentAliasId\": \"YWMXDQBOPH\",\n",
      "  \"agentId\": \"AC6YU1H6ZD\",\n",
      "  \"agentVersion\": \"1\",\n",
      "  \"sessionId\": \"1d42a072-2536-11ef-acee-0a86a609e469\",\n",
      "  \"trace\": {\n",
      "    \"orchestrationTrace\": {\n",
      "      \"invocationInput\": {\n",
      "        \"invocationType\": \"KNOWLEDGE_BASE\",\n",
      "        \"knowledgeBaseLookupInput\": {\n",
      "          \"knowledgeBaseId\": \"YMUCEHYCLK\",\n",
      "          \"text\": \"Bedrock\\uc5d0\\uc11c \\ubaa8\\ub378\\uc744 \\ud3c9\\uac00\\ud558\\ub824\\uba74 \\uc5b4\\ub5bb\\uac8c \\ud574\\uc57c \\ud558\\ub098\\uc694?\"\n",
      "        },\n",
      "        \"traceId\": \"591ff377-956c-43a2-a325-532d390b9523-0\"\n",
      "      }\n",
      "    }\n",
      "  }\n",
      "}\n",
      "[2024-06-08 01:26:55,313] p25453 {<timed exec>:11} INFO - {\n",
      "  \"agentAliasId\": \"YWMXDQBOPH\",\n",
      "  \"agentId\": \"AC6YU1H6ZD\",\n",
      "  \"agentVersion\": \"1\",\n",
      "  \"sessionId\": \"1d42a072-2536-11ef-acee-0a86a609e469\",\n",
      "  \"trace\": {\n",
      "    \"orchestrationTrace\": {\n",
      "      \"observation\": {\n",
      "        \"knowledgeBaseLookupOutput\": {\n",
      "          \"retrievedReferences\": [\n",
      "            {\n",
      "              \"content\": {\n",
      "                \"text\": \"Thumbs up/down   Thumbs up/down allows a human evaluator to rate each response from a model as acceptable/ unacceptable according to your instructions. The results in the final report will be shown as a  percentage of the total number of ratings by evaluators that received a thumbs up rating for each  model. You may use this rating method for an evaluation one or more models. If you use this in  an evaluation that contains two models, a thumbs up/down will be presented to your work team  for each model response and the final report will show the aggregated results for each model  individually. Be sure to define what is acceptable (that is, what is a thumbs up rating) in your  instructions.   Rating methods 328        Amazon Bedrock User Guide   JSON output   The first child-key under evaluationResults is where the selected rating method is returned.  In the output file saved to your Amazon S3 bucket, the results from each worker are saved to the \\\"evaluationResults\\\": \\\"thumbsUpDown\\\" key value pair.   Likert scale, evaluation of a single model response   Allows a human evaluator to indicate how strongly they approved of the model's response based  on your instructions on a 5 point Likert scale. The results in the final report will be shown as a    Rating methods 329        Amazon Bedrock User Guide   histogram of the 5 point ratings from the evaluators over your whole dataset. You may use this for  an evaluation containing one or more models. If you select this rating method in an evaluation that  contains more than one model, a 5 point Likert scale will be presented to your work team for each  model response and the final report will show the aggregated results for each model individually.  Be sure to define the important points on the 5 point scale in your instructions so your evaluators  know how to rate the responses according to your expectations.   JSON output   The first child-key under evaluationResults is where the selected rating method is returned.  In the output file saved to your Amazon S3 bucket, the results from each worker are saved to the \\\"evaluationResults\\\": \\\"individualLikertScale\\\" key value pair.   Rating methods 330        Amazon Bedrock User Guide   Creating and managing work teams in Amazon Bedrock   In model evaluation jobs that use human workers you need to have a work team.\"\n",
      "              },\n",
      "              \"location\": {\n",
      "                \"s3Location\": {\n",
      "                  \"uri\": \"s3://bedrock-docs-kb-agents-us-west-2-322537213286/kb_documents/bedrock-ug.pdf\"\n",
      "                },\n",
      "                \"type\": \"S3\"\n",
      "              }\n",
      "            },\n",
      "            {\n",
      "              \"content\": {\n",
      "                \"text\": \"The following topics describe the available model evaluation tasks, and the kinds of metrics you  can use. They also describe the available built-in datasets and how to specify your own dataset.   Topics   \\u00e2\\u20ac\\u00a2 Getting started with model evaluations   \\u00e2\\u20ac\\u00a2 Working with model evaluation jobs in Amazon Bedrock   \\u00e2\\u20ac\\u00a2 Model evaluation tasks   \\u00e2\\u20ac\\u00a2 Using prompt datasets in model evaluation jobs   \\u00e2\\u20ac\\u00a2 Creating good worker instructions   291        Amazon Bedrock User Guide   \\u00e2\\u20ac\\u00a2 Creating and managing work teams in Amazon Bedrock   \\u00e2\\u20ac\\u00a2 Model evaluation job results   \\u00e2\\u20ac\\u00a2 Required permissions and IAM service roles to create a model evaluation job   Getting started with model evaluations   You can create a model evaluation job that is either automatic or uses human workers. When you  create a model evaluation job, you can define the model used, the inference parameters of the  model, the type of task the model tries to perform, and the prompt data used in the job.   Model evaluation jobs support the following task types.   \\u00e2\\u20ac\\u00a2 General text generation: The production of natural human language in response to text  prompts.   \\u00e2\\u20ac\\u00a2 Text summarization: The generation of a summary based on the provided text in your prompt.   \\u00e2\\u20ac\\u00a2 Question and answering: The generation of a response to a question within your prompt.   \\u00e2\\u20ac\\u00a2 Classification: Correctly assigning a category, such as a label or score, to text based on its  content.   \\u00e2\\u20ac\\u00a2 CustomYou define the metric, description, and a rating method   To create a model evaluation job, you must have access to Amazon Bedrock models. Model  evaluation jobs support using Amazon Bedrock foundation models. To learn more about model  access, see Model access.   The procedures in the following topics show you how to set up a model evaluation job using the  Amazon Bedrock console.   To create a model evaluation job with the help of an AWS-managed team, choose Create AWS  managed evaluation from the AWS Management Console. Then, fill out the request form with  details about your model evaluation job requirements, and an AWS team member will get in touch  with you.\"\n",
      "              },\n",
      "              \"location\": {\n",
      "                \"s3Location\": {\n",
      "                  \"uri\": \"s3://bedrock-docs-kb-agents-us-west-2-322537213286/kb_documents/bedrock-ug.pdf\"\n",
      "                },\n",
      "                \"type\": \"S3\"\n",
      "              }\n",
      "            },\n",
      "            {\n",
      "              \"content\": {\n",
      "                \"text\": \"Models \\u00e2\\u20ac\\u201c You can choose up to two models you want to use in the model evaluation job.   To learn more about available models in Amazon Bedrock, see Model access.   b. (Optional) To change the inference configuration for the selected models choose update.   Changing the inference configuration changes the responses generated by the selected  models. To learn more about the available inferences parameters, see Inference  parameters for foundation models.   c. Task type \\u00e2\\u20ac\\u201c Choose the type of task you want the model to attempt to perform during  the model evaluation job. All instructions for the model must be included in the prompts  themselves. The task type does not control the model's responses.   d. Evaluation metrics \\u00e2\\u20ac\\u201d The list of recommended metrics changes based on the task you  select. For each recommended metric, you must select a Rating method. You can have a  maximum of 10 evaluation metrics per model evaluation job.   e. (Optional) Choose Add new metric to add a new metric. You must define the Metric, Description, and Rating method.   f. In the Datasets card you must provide the following.   i. Choose a prompt dataset \\u00e2\\u20ac\\u201c Specify the S3 URI of your prompt dataset file or choose Browse S3 to see available S3 buckets. You can have a maximum of 1000 prompts in  a custom prompt dataset.   ii. Evaluation results destination \\u00e2\\u20ac\\u201c You must specify the S3 URI of the directory where  you want the results of your model evaluation job saved, or choose Browse S3 to see  available S3 buckets.   g. (Optional) AWS KMS key \\u00e2\\u20ac\\u201c Provide the ARN of the customer managed key you want to use  to encrypt your model evaluation job.   h. In the Amazon Bedrock IAM role \\u00e2\\u20ac\\u201c Permissions card, you must-do the following. To learn  more about the required permissions for model evaluations, see Required permissions and  IAM service roles to create a model evaluation job.   i. To use an existing Amazon Bedrock service role, choose Use an existing role.  Otherwise, use Create a new role to specify the details of your new IAM service role.   ii. In Service role name, specify the name of your IAM service role.   iii. When ready, choose Create role to create the new IAM service role.   7. Then, choose Next.\"\n",
      "              },\n",
      "              \"location\": {\n",
      "                \"s3Location\": {\n",
      "                  \"uri\": \"s3://bedrock-docs-kb-agents-us-west-2-322537213286/kb_documents/bedrock-ug.pdf\"\n",
      "                },\n",
      "                \"type\": \"S3\"\n",
      "              }\n",
      "            },\n",
      "            {\n",
      "              \"content\": {\n",
      "                \"text\": \"(Optional) New worker email \\u00e2\\u20ac\\u201c Choose this to view the email new workers receive  automatically.   Important   Large language models are known to occasionally hallucinate and produce toxic or  offensive content. Your workers may be shown toxic or offensive material during  this evaluation. Ensure you take proper steps to train and notify them before they  work on the evaluation. They can decline and release tasks or take breaks during  the evaluation while accessing the human evaluation tool.   Human worker based model evaluation jobs 298        Amazon Bedrock User Guide   11. Then, choose Next.   12. On the Provide instruction page use the text editor to provide instructions for completing the  task. You can preview the evaluation UI that your work team uses to evaluate the responses,  including the metrics, rating methods, and your instructions. This preview is based on the  configuration you have created for this job.   13. Then, choose Next.   14. On the Review and create page, you can view a summary of the options you've selected in the  previous steps.   15. To start your model evaluation job, choose Create.   Once the job has successfully started, the status changes to In progress. When the job has finished,  the status changes to Completed. While a model evaluation job is still In progress, you can choose  to the stop the job before all the models' responses have been evaluated by your work team. To  do so, choose Stop evaluation on the model evaluation landing page. This will change the Status  of the model evaluation job to Stopping. Once the model evaluation job has successfully stopped,  you can delete the model evaluation job.   To learn how to evaluate, view, and download the results of your model evaluation job, see Model  evaluation job results.   Working with model evaluation jobs in Amazon Bedrock   The following sections provide sample procedures, and API operations that can be used to create,  describe, list, and stop both human-based and automatic model evaluation jobs.\"\n",
      "              },\n",
      "              \"location\": {\n",
      "                \"s3Location\": {\n",
      "                  \"uri\": \"s3://bedrock-docs-kb-agents-us-west-2-322537213286/kb_documents/bedrock-ug.pdf\"\n",
      "                },\n",
      "                \"type\": \"S3\"\n",
      "              }\n",
      "            },\n",
      "            {\n",
      "              \"content\": {\n",
      "                \"text\": \"In a model evaluation job that uses human workers, you can evaluate and compare the responses  from up to two models. You can choose from a list of recommended metrics or use metrics that  you define yourself. You can have a maximum of 20 model evaluation jobs that use human workers In progress in your AWS account per AWS Region.   For each metric that you use, you must define a Rating method. The rating method defines how  your human workers will evaluate the responses they see from models you've selected. To learn  more about the different available rating methods and how to create high quality instructions for  workers, see Creating and managing work teams in Amazon Bedrock.   Viewing the model evaluation job results using the Amazon Bedrock console   When a model evaluation job finishes, the results are stored in the Amazon S3 bucket you  specified. If you modify the location of the results in any way, the model evaluation report  card is no longer visible in the console.   To create a model evaluation job that uses human workers   1. Open the Amazon Bedrock console: https://console.aws.amazon.com/bedrock/home   2. In the navigation pane, choose Model evaluation.   3. In the Build an evaluation card, under Human: bring your own team choose Create human- based evaluation.   4. On the Specify job details page provide the following.   a. Evaluation name \\u00e2\\u20ac\\u201d Give the model evaluation job a name that describes the job. This  name is shown in your model evaluation job list. The name must be unique in your AWS  account in an AWS Region.   b. Description (Optional) \\u00e2\\u20ac\\u201d Provide an optional description.   5. Then, choose Next.   6. On the Set up evaluation page provide the following.   Human worker based model evaluation jobs 296    https://console.aws.amazon.com/bedrock/home      Amazon Bedrock User Guide   a. Models \\u00e2\\u20ac\\u201c You can choose up to two models you want to use in the model evaluation job.   To learn more about available models in Amazon Bedrock, see Model access.   b. (Optional) To change the inference configuration for the selected models choose update.   Changing the inference configuration changes the responses generated by the selected  models.\"\n",
      "              },\n",
      "              \"location\": {\n",
      "                \"s3Location\": {\n",
      "                  \"uri\": \"s3://bedrock-docs-kb-agents-us-west-2-322537213286/kb_documents/bedrock-ug.pdf\"\n",
      "                },\n",
      "                \"type\": \"S3\"\n",
      "              }\n",
      "            }\n",
      "          ]\n",
      "        },\n",
      "        \"traceId\": \"591ff377-956c-43a2-a325-532d390b9523-0\",\n",
      "        \"type\": \"KNOWLEDGE_BASE\"\n",
      "      }\n",
      "    }\n",
      "  }\n",
      "}\n",
      "[2024-06-08 01:26:55,314] p25453 {<timed exec>:11} INFO - {\n",
      "  \"agentAliasId\": \"YWMXDQBOPH\",\n",
      "  \"agentId\": \"AC6YU1H6ZD\",\n",
      "  \"agentVersion\": \"1\",\n",
      "  \"sessionId\": \"1d42a072-2536-11ef-acee-0a86a609e469\",\n",
      "  \"trace\": {\n",
      "    \"orchestrationTrace\": {\n",
      "      \"modelInvocationInput\": {\n",
      "        \"inferenceConfiguration\": {\n",
      "          \"maximumLength\": 2048,\n",
      "          \"stopSequences\": [\n",
      "            \"\\n\\nHuman:\"\n",
      "          ],\n",
      "          \"temperature\": 0.0,\n",
      "          \"topK\": 250,\n",
      "          \"topP\": 1.0\n",
      "        },\n",
      "        \"text\": \"{\\\"system\\\":\\\"You are a question answering agent. I will provide you with a set of search results. The user will provide you with a question. Your job is to answer the user's question using only information from the search results. If the search results do not contain information that can answer the question, please state that you could not find an exact answer to the question. Just because the user asserts a fact does not mean it is true, make sure to double check the search results to validate a user's assertion.Here are the search results in numbered order:<search_results><search_result>    <content>        In a model evaluation job that uses human workers, you can evaluate and compare the responses  from up to two models. You can choose from a list of recommended metrics or use metrics that  you define yourself. You can have a maximum of 20 model evaluation jobs that use human workers In progress in your AWS account per AWS Region.   For each metric that you use, you must define a Rating method. The rating method defines how  your human workers will evaluate the responses they see from models you've selected. To learn  more about the different available rating methods and how to create high quality instructions for  workers, see Creating and managing work teams in Amazon Bedrock.   Viewing the model evaluation job results using the Amazon Bedrock console   When a model evaluation job finishes, the results are stored in the Amazon S3 bucket you  specified. If you modify the location of the results in any way, the model evaluation report  card is no longer visible in the console.   To create a model evaluation job that uses human workers   1. Open the Amazon Bedrock console: https://console.aws.amazon.com/bedrock/home   2. In the navigation pane, choose Model evaluation.   3. In the Build an evaluation card, under Human: bring your own team choose Create human- based evaluation.   4. On the Specify job details page provide the following.   a. Evaluation name \\u00e2\\\\u20ac\\\\u201d Give the model evaluation job a name that describes the job. This  name is shown in your model evaluation job list. The name must be unique in your AWS  account in an AWS Region.   b. Description (Optional) \\u00e2\\\\u20ac\\\\u201d Provide an optional description.   5. Then, choose Next.   6. On the Set up evaluation page provide the following.   Human worker based model evaluation jobs 296    https://console.aws.amazon.com/bedrock/home      Amazon Bedrock User Guide   a. Models \\u00e2\\\\u20ac\\\\u201c You can choose up to two models you want to use in the model evaluation job.   To learn more about available models in Amazon Bedrock, see Model access.   b. (Optional) To change the inference configuration for the selected models choose update.   Changing the inference configuration changes the responses generated by the selected  models.    </content>    <source>        1    </source></search_result><search_result>    <content>        (Optional) New worker email \\u00e2\\\\u20ac\\\\u201c Choose this to view the email new workers receive  automatically.   Important   Large language models are known to occasionally hallucinate and produce toxic or  offensive content. Your workers may be shown toxic or offensive material during  this evaluation. Ensure you take proper steps to train and notify them before they  work on the evaluation. They can decline and release tasks or take breaks during  the evaluation while accessing the human evaluation tool.   Human worker based model evaluation jobs 298        Amazon Bedrock User Guide   11. Then, choose Next.   12. On the Provide instruction page use the text editor to provide instructions for completing the  task. You can preview the evaluation UI that your work team uses to evaluate the responses,  including the metrics, rating methods, and your instructions. This preview is based on the  configuration you have created for this job.   13. Then, choose Next.   14. On the Review and create page, you can view a summary of the options you've selected in the  previous steps.   15. To start your model evaluation job, choose Create.   Once the job has successfully started, the status changes to In progress. When the job has finished,  the status changes to Completed. While a model evaluation job is still In progress, you can choose  to the stop the job before all the models' responses have been evaluated by your work team. To  do so, choose Stop evaluation on the model evaluation landing page. This will change the Status  of the model evaluation job to Stopping. Once the model evaluation job has successfully stopped,  you can delete the model evaluation job.   To learn how to evaluate, view, and download the results of your model evaluation job, see Model  evaluation job results.   Working with model evaluation jobs in Amazon Bedrock   The following sections provide sample procedures, and API operations that can be used to create,  describe, list, and stop both human-based and automatic model evaluation jobs.    </content>    <source>        2    </source></search_result><search_result>    <content>        Models \\u00e2\\\\u20ac\\\\u201c You can choose up to two models you want to use in the model evaluation job.   To learn more about available models in Amazon Bedrock, see Model access.   b. (Optional) To change the inference configuration for the selected models choose update.   Changing the inference configuration changes the responses generated by the selected  models. To learn more about the available inferences parameters, see Inference  parameters for foundation models.   c. Task type \\u00e2\\\\u20ac\\\\u201c Choose the type of task you want the model to attempt to perform during  the model evaluation job. All instructions for the model must be included in the prompts  themselves. The task type does not control the model's responses.   d. Evaluation metrics \\u00e2\\\\u20ac\\\\u201d The list of recommended metrics changes based on the task you  select. For each recommended metric, you must select a Rating method. You can have a  maximum of 10 evaluation metrics per model evaluation job.   e. (Optional) Choose Add new metric to add a new metric. You must define the Metric, Description, and Rating method.   f. In the Datasets card you must provide the following.   i. Choose a prompt dataset \\u00e2\\\\u20ac\\\\u201c Specify the S3 URI of your prompt dataset file or choose Browse S3 to see available S3 buckets. You can have a maximum of 1000 prompts in  a custom prompt dataset.   ii. Evaluation results destination \\u00e2\\\\u20ac\\\\u201c You must specify the S3 URI of the directory where  you want the results of your model evaluation job saved, or choose Browse S3 to see  available S3 buckets.   g. (Optional) AWS KMS key \\u00e2\\\\u20ac\\\\u201c Provide the ARN of the customer managed key you want to use  to encrypt your model evaluation job.   h. In the Amazon Bedrock IAM role \\u00e2\\\\u20ac\\\\u201c Permissions card, you must-do the following. To learn  more about the required permissions for model evaluations, see Required permissions and  IAM service roles to create a model evaluation job.   i. To use an existing Amazon Bedrock service role, choose Use an existing role.  Otherwise, use Create a new role to specify the details of your new IAM service role.   ii. In Service role name, specify the name of your IAM service role.   iii. When ready, choose Create role to create the new IAM service role.   7. Then, choose Next.    </content>    <source>        3    </source></search_result><search_result>    <content>        The following topics describe the available model evaluation tasks, and the kinds of metrics you  can use. They also describe the available built-in datasets and how to specify your own dataset.   Topics   \\u00e2\\\\u20ac\\u00a2 Getting started with model evaluations   \\u00e2\\\\u20ac\\u00a2 Working with model evaluation jobs in Amazon Bedrock   \\u00e2\\\\u20ac\\u00a2 Model evaluation tasks   \\u00e2\\\\u20ac\\u00a2 Using prompt datasets in model evaluation jobs   \\u00e2\\\\u20ac\\u00a2 Creating good worker instructions   291        Amazon Bedrock User Guide   \\u00e2\\\\u20ac\\u00a2 Creating and managing work teams in Amazon Bedrock   \\u00e2\\\\u20ac\\u00a2 Model evaluation job results   \\u00e2\\\\u20ac\\u00a2 Required permissions and IAM service roles to create a model evaluation job   Getting started with model evaluations   You can create a model evaluation job that is either automatic or uses human workers. When you  create a model evaluation job, you can define the model used, the inference parameters of the  model, the type of task the model tries to perform, and the prompt data used in the job.   Model evaluation jobs support the following task types.   \\u00e2\\\\u20ac\\u00a2 General text generation: The production of natural human language in response to text  prompts.   \\u00e2\\\\u20ac\\u00a2 Text summarization: The generation of a summary based on the provided text in your prompt.   \\u00e2\\\\u20ac\\u00a2 Question and answering: The generation of a response to a question within your prompt.   \\u00e2\\\\u20ac\\u00a2 Classification: Correctly assigning a category, such as a label or score, to text based on its  content.   \\u00e2\\\\u20ac\\u00a2 CustomYou define the metric, description, and a rating method   To create a model evaluation job, you must have access to Amazon Bedrock models. Model  evaluation jobs support using Amazon Bedrock foundation models. To learn more about model  access, see Model access.   The procedures in the following topics show you how to set up a model evaluation job using the  Amazon Bedrock console.   To create a model evaluation job with the help of an AWS-managed team, choose Create AWS  managed evaluation from the AWS Management Console. Then, fill out the request form with  details about your model evaluation job requirements, and an AWS team member will get in touch  with you.    </content>    <source>        4    </source></search_result><search_result>    <content>        Thumbs up/down   Thumbs up/down allows a human evaluator to rate each response from a model as acceptable/ unacceptable according to your instructions. The results in the final report will be shown as a  percentage of the total number of ratings by evaluators that received a thumbs up rating for each  model. You may use this rating method for an evaluation one or more models. If you use this in  an evaluation that contains two models, a thumbs up/down will be presented to your work team  for each model response and the final report will show the aggregated results for each model  individually. Be sure to define what is acceptable (that is, what is a thumbs up rating) in your  instructions.   Rating methods 328        Amazon Bedrock User Guide   JSON output   The first child-key under evaluationResults is where the selected rating method is returned.  In the output file saved to your Amazon S3 bucket, the results from each worker are saved to the \\\\\\\"evaluationResults\\\\\\\": \\\\\\\"thumbsUpDown\\\\\\\" key value pair.   Likert scale, evaluation of a single model response   Allows a human evaluator to indicate how strongly they approved of the model's response based  on your instructions on a 5 point Likert scale. The results in the final report will be shown as a    Rating methods 329        Amazon Bedrock User Guide   histogram of the 5 point ratings from the evaluators over your whole dataset. You may use this for  an evaluation containing one or more models. If you select this rating method in an evaluation that  contains more than one model, a 5 point Likert scale will be presented to your work team for each  model response and the final report will show the aggregated results for each model individually.  Be sure to define the important points on the 5 point scale in your instructions so your evaluators  know how to rate the responses according to your expectations.   JSON output   The first child-key under evaluationResults is where the selected rating method is returned.  In the output file saved to your Amazon S3 bucket, the results from each worker are saved to the \\\\\\\"evaluationResults\\\\\\\": \\\\\\\"individualLikertScale\\\\\\\" key value pair.   Rating methods 330        Amazon Bedrock User Guide   Creating and managing work teams in Amazon Bedrock   In model evaluation jobs that use human workers you need to have a work team.    </content>    <source>        5    </source></search_result></search_results>If you reference information from a search result within your answer, you must include a citation to source where the information was found. Each result has a corresponding source ID that you should reference.Note that <sources> may contain multiple <source> if you include information from multiple results in your answer.Do NOT directly quote the <search_results> in your answer. Your job is to answer the user's question as concisely as possible.You must output your answer in the following format. Pay attention and follow the formatting and spacing exactly:<answer><answer_part><text>first answer text</text><sources><source>source ID</source></sources></answer_part><answer_part><text>second answer text</text><sources><source>source ID</source></sources></answer_part></answer>\\\",\\\"messages\\\":[{\\\"content\\\":\\\"Bedrock\\uc5d0\\uc11c \\ubaa8\\ub378\\uc744 \\ud3c9\\uac00\\ud558\\ub824\\uba74 \\uc5b4\\ub5bb\\uac8c \\ud574\\uc57c \\ud558\\ub098\\uc694?\\\",\\\"role\\\":\\\"user\\\"}]}\",\n",
      "        \"traceId\": \"591ff377-956c-43a2-a325-532d390b9523-KB-0\",\n",
      "        \"type\": \"KNOWLEDGE_BASE_RESPONSE_GENERATION\"\n",
      "      }\n",
      "    }\n",
      "  }\n",
      "}\n",
      "[2024-06-08 01:26:55,315] p25453 {<timed exec>:11} INFO - {\n",
      "  \"agentAliasId\": \"YWMXDQBOPH\",\n",
      "  \"agentId\": \"AC6YU1H6ZD\",\n",
      "  \"agentVersion\": \"1\",\n",
      "  \"sessionId\": \"1d42a072-2536-11ef-acee-0a86a609e469\",\n",
      "  \"trace\": {\n",
      "    \"orchestrationTrace\": {\n",
      "      \"observation\": {\n",
      "        \"finalResponse\": {\n",
      "          \"text\": \"Bedrock\\uc5d0\\uc11c \\ubaa8\\ub378\\uc744 \\ud3c9\\uac00\\ud558\\ub824\\uba74 \\ub2e4\\uc74c\\uacfc \\uac19\\uc740 \\ub2e8\\uacc4\\ub97c \\uac70\\uccd0\\uc57c \\ud569\\ub2c8\\ub2e4:\\n\\n1. Amazon Bedrock \\ucf58\\uc194\\uc5d0 \\uc811\\uc18d\\ud558\\uc5ec \\\"Model evaluation\\\" \\uba54\\ub274\\ub97c \\uc120\\ud0dd\\ud569\\ub2c8\\ub2e4.\\n2. \\\"Create human-based evaluation\\\"\\uc744 \\uc120\\ud0dd\\ud558\\uc5ec \\ud3c9\\uac00 \\uc791\\uc5c5\\uc744 \\uc0dd\\uc131\\ud569\\ub2c8\\ub2e4.\\n3. \\ud3c9\\uac00 \\uc791\\uc5c5\\uc758 \\uc774\\ub984, \\uc124\\uba85, \\ud3c9\\uac00\\ud560 \\ubaa8\\ub378, \\ud3c9\\uac00 \\uc9c0\\ud45c, \\ub370\\uc774\\ud130\\uc14b \\ub4f1\\uc744 \\uc124\\uc815\\ud569\\ub2c8\\ub2e4.\\n4. \\ud3c9\\uac00 \\uc791\\uc5c5\\uc5d0 \\ub300\\ud55c \\uc9c0\\uce68\\uc744 \\uc791\\uc131\\ud558\\uace0 \\uac80\\ud1a0\\ud55c \\ud6c4 \\uc791\\uc5c5\\uc744 \\uc0dd\\uc131\\ud569\\ub2c8\\ub2e4.\\n5. \\uc791\\uc5c5\\uc774 \\uc644\\ub8cc\\ub418\\uba74 Amazon S3 \\ubc84\\ud0b7\\uc5d0 \\uc800\\uc7a5\\ub41c \\ud3c9\\uac00 \\uacb0\\uacfc\\ub97c \\ud655\\uc778\\ud560 \\uc218 \\uc788\\uc2b5\\ub2c8\\ub2e4.\"\n",
      "        },\n",
      "        \"traceId\": \"591ff377-956c-43a2-a325-532d390b9523-1\",\n",
      "        \"type\": \"FINISH\"\n",
      "      }\n",
      "    }\n",
      "  }\n",
      "}\n",
      "[2024-06-08 01:26:55,316] p25453 {<timed exec>:6} INFO - Final answer ->\n",
      "Bedrock에서 모델을 평가하려면 다음과 같은 단계를 거쳐야 합니다:\n",
      "\n",
      "1. Amazon Bedrock 콘솔에 접속하여 \"Model evaluation\" 메뉴를 선택합니다.\n",
      "2. \"Create human-based evaluation\"을 선택하여 평가 작업을 생성합니다.\n",
      "3. 평가 작업의 이름, 설명, 평가할 모델, 평가 지표, 데이터셋 등을 설정합니다.\n",
      "4. 평가 작업에 대한 지침을 작성하고 검토한 후 작업을 생성합니다.\n",
      "5. 작업이 완료되면 Amazon S3 버킷에 저장된 평가 결과를 확인할 수 있습니다.\n"
     ]
    },
    {
     "name": "stdout",
     "output_type": "stream",
     "text": [
      "CPU times: user 7.86 ms, sys: 0 ns, total: 7.86 ms\n",
      "Wall time: 6.36 ms\n"
     ]
    }
   ],
   "source": [
    "%%time\n",
    "event_stream = agentResponse['completion']\n",
    "try:\n",
    "    for event in event_stream:        \n",
    "        if 'chunk' in event:\n",
    "            data = event['chunk']['bytes']\n",
    "            logger.info(f\"Final answer ->\\n{data.decode('utf8')}\")\n",
    "            agent_answer = data.decode('utf8')\n",
    "            end_event_received = True\n",
    "            # End event indicates that the request finished successfully\n",
    "        elif 'trace' in event:\n",
    "            logger.info(json.dumps(event['trace'], indent=2))\n",
    "        else:\n",
    "            raise Exception(\"unexpected event.\", event)\n",
    "except Exception as e:\n",
    "    raise Exception(\"unexpected event.\", e)"
   ]
  },
  {
   "cell_type": "code",
   "execution_count": 38,
   "id": "28fc780b-d700-4d89-bd23-2e183e03875d",
   "metadata": {
    "tags": []
   },
   "outputs": [
    {
     "name": "stdout",
     "output_type": "stream",
     "text": [
      "Bedrock에서 모델을 평가하려면 다음과 같은 단계를 거쳐야 합니다:\n",
      "\n",
      "1. Amazon Bedrock 콘솔에 접속하여 \"Model evaluation\" 메뉴를 선택합니다.\n",
      "2. \"Create human-based evaluation\"을 선택하여 평가 작업을 생성합니다.\n",
      "3. 평가 작업의 이름과 설명을 입력하고, 평가할 모델을 선택합니다.\n",
      "4. 평가 지표와 평가 방법을 선택하고, 프롬프트 데이터셋과 결과 저장 위치를 지정합니다.\n",
      "5. 작업자를 위한 지침을 작성하고, 최종적으로 작업을 생성합니다.\n"
     ]
    }
   ],
   "source": [
    "# And here is the response if you just want to see agent's reply\n",
    "print(agent_answer)"
   ]
  },
  {
   "cell_type": "code",
   "execution_count": 44,
   "id": "7bf20e96",
   "metadata": {},
   "outputs": [],
   "source": [
    "def simple_agent_invoke(input_text, agent_id, agent_alias_id, session_id=None, enable_trace=False, end_session=False):\n",
    "    if session_id is None:\n",
    "        session_id:str = str(uuid.uuid1())\n",
    "\n",
    "    agentResponse = bedrock_agent_runtime_client.invoke_agent(\n",
    "        inputText=\"답변은 무조건 한국어로 해줘\" + input_text,\n",
    "        agentId=agent_id,\n",
    "        agentAliasId=agent_alias_id, \n",
    "        sessionId=session_id,\n",
    "        enableTrace=enable_trace, \n",
    "        endSession= end_session\n",
    "    )\n",
    "    logger.info(pprint.pprint(agentResponse))\n",
    "    \n",
    "    agent_answer = ''\n",
    "    event_stream = agentResponse['completion']\n",
    "    try:\n",
    "        for event in event_stream:        \n",
    "            if 'chunk' in event:\n",
    "                data = event['chunk']['bytes']\n",
    "                logger.info(f\"Final answer ->\\n{data.decode('utf8')}\")\n",
    "                agent_answer = data.decode('utf8')\n",
    "                end_event_received = True\n",
    "                # End event indicates that the request finished successfully\n",
    "            elif 'trace' in event:\n",
    "                logger.info(json.dumps(event['trace'], indent=2))\n",
    "            else:\n",
    "                raise Exception(\"unexpected event.\", event)\n",
    "    except Exception as e:\n",
    "        raise Exception(\"unexpected event.\", e)\n",
    "    return agent_answer"
   ]
  },
  {
   "cell_type": "code",
   "execution_count": 50,
   "id": "a6cae6e9",
   "metadata": {},
   "outputs": [
    {
     "name": "stderr",
     "output_type": "stream",
     "text": [
      "[2024-06-08 01:27:21,833] p25453 {1629308684.py:13} INFO - None\n"
     ]
    },
    {
     "name": "stdout",
     "output_type": "stream",
     "text": [
      "{'ResponseMetadata': {'HTTPHeaders': {'connection': 'keep-alive',\n",
      "                                      'content-type': 'application/json',\n",
      "                                      'date': 'Sat, 08 Jun 2024 01:27:21 GMT',\n",
      "                                      'transfer-encoding': 'chunked',\n",
      "                                      'x-amz-bedrock-agent-session-id': '1d42a072-2536-11ef-acee-0a86a609e469',\n",
      "                                      'x-amzn-bedrock-agent-content-type': 'application/json',\n",
      "                                      'x-amzn-requestid': 'e18b2af8-85dd-4065-bfa3-123485714b04'},\n",
      "                      'HTTPStatusCode': 200,\n",
      "                      'RequestId': 'e18b2af8-85dd-4065-bfa3-123485714b04',\n",
      "                      'RetryAttempts': 0},\n",
      " 'completion': <botocore.eventstream.EventStream object at 0x7f7c5d58a920>,\n",
      " 'contentType': 'application/json',\n",
      " 'sessionId': '1d42a072-2536-11ef-acee-0a86a609e469'}\n"
     ]
    },
    {
     "name": "stderr",
     "output_type": "stream",
     "text": [
      "[2024-06-08 01:27:33,737] p25453 {1629308684.py:21} INFO - Final answer ->\n",
      "Bedrock의 provisioned throughput은 모델의 입력 및 출력 처리 속도를 높이기 위해 구매할 수 있는 기능입니다. 사용자는 모델 단위(MU)의 수와 약정 기간을 선택하여 provisioned throughput을 구매할 수 있습니다. 이를 통해 모델의 처리 속도를 높일 수 있습니다.\n"
     ]
    },
    {
     "data": {
      "text/plain": [
       "'Bedrock의 provisioned throughput은 모델의 입력 및 출력 처리 속도를 높이기 위해 구매할 수 있는 기능입니다. 사용자는 모델 단위(MU)의 수와 약정 기간을 선택하여 provisioned throughput을 구매할 수 있습니다. 이를 통해 모델의 처리 속도를 높일 수 있습니다.'"
      ]
     },
     "execution_count": 50,
     "metadata": {},
     "output_type": "execute_result"
    }
   ],
   "source": [
    "simple_agent_invoke(\"Bedrock의 provisioned throughtput은 무엇인가요?\", agent_id, agent_alias_id, session_id)"
   ]
  },
  {
   "cell_type": "code",
   "execution_count": 52,
   "id": "c4b99e1d",
   "metadata": {},
   "outputs": [
    {
     "name": "stderr",
     "output_type": "stream",
     "text": [
      "[2024-06-08 01:28:30,869] p25453 {1629308684.py:13} INFO - None\n"
     ]
    },
    {
     "name": "stdout",
     "output_type": "stream",
     "text": [
      "{'ResponseMetadata': {'HTTPHeaders': {'connection': 'keep-alive',\n",
      "                                      'content-type': 'application/json',\n",
      "                                      'date': 'Sat, 08 Jun 2024 01:28:30 GMT',\n",
      "                                      'transfer-encoding': 'chunked',\n",
      "                                      'x-amz-bedrock-agent-session-id': '1d42a072-2536-11ef-acee-0a86a609e469',\n",
      "                                      'x-amzn-bedrock-agent-content-type': 'application/json',\n",
      "                                      'x-amzn-requestid': 'cc6a3137-b727-46bd-b62e-692013825e5f'},\n",
      "                      'HTTPStatusCode': 200,\n",
      "                      'RequestId': 'cc6a3137-b727-46bd-b62e-692013825e5f',\n",
      "                      'RetryAttempts': 0},\n",
      " 'completion': <botocore.eventstream.EventStream object at 0x7f7c5d58aa10>,\n",
      " 'contentType': 'application/json',\n",
      " 'sessionId': '1d42a072-2536-11ef-acee-0a86a609e469'}\n"
     ]
    },
    {
     "name": "stderr",
     "output_type": "stream",
     "text": [
      "[2024-06-08 01:28:37,950] p25453 {1629308684.py:21} INFO - Final answer ->\n",
      "Bedrock Guardrail의 구성 요소는 다음과 같습니다: - 주제(Topics)\n",
      "- 콘텐츠 필터(Content filters)\n",
      "- 거부된 주제(Denied topics)\n",
      "- 단어 필터(Word filters)\n",
      "- 민감한 정보 필터(Sensitive information filters)\n"
     ]
    },
    {
     "data": {
      "text/plain": [
       "'Bedrock Guardrail의 구성 요소는 다음과 같습니다: - 주제(Topics)\\n- 콘텐츠 필터(Content filters)\\n- 거부된 주제(Denied topics)\\n- 단어 필터(Word filters)\\n- 민감한 정보 필터(Sensitive information filters)'"
      ]
     },
     "execution_count": 52,
     "metadata": {},
     "output_type": "execute_result"
    }
   ],
   "source": [
    "simple_agent_invoke(\"Bedrock Guardrail의 구성 요소는 무엇인가요?\", agent_id, agent_alias_id, session_id)"
   ]
  },
  {
   "cell_type": "markdown",
   "id": "77e4a008-2176-499a-9fad-93a69ae5cfe0",
   "metadata": {},
   "source": [
    "## 6 - Clean up (Optional)\n",
    "\n",
    "The next steps are optional and demonstrate how to delete our agent. To delete the agent we need to:\n",
    "\n",
    "1. delete agent alias\n",
    "1. delete agent\n",
    "1. delete the knowledge base\n",
    "1. delete the OpenSearch Serverless vector store\n",
    "1. empty created s3 bucket\n",
    "1. delete s3 bucket\n"
   ]
  },
  {
   "cell_type": "code",
   "execution_count": 53,
   "id": "bd1c3418-dc37-4185-818a-743485ecb2b7",
   "metadata": {
    "tags": []
   },
   "outputs": [],
   "source": [
    "agent_alias_deletion = bedrock_agent_client.delete_agent_alias(\n",
    "    agentId=agent_id,\n",
    "    agentAliasId=agent_alias['agentAlias']['agentAliasId']\n",
    ")"
   ]
  },
  {
   "cell_type": "code",
   "execution_count": 54,
   "id": "a7d3f07d-fee1-485c-aee8-03fe98f55257",
   "metadata": {
    "tags": []
   },
   "outputs": [],
   "source": [
    "agent_deletion = bedrock_agent_client.delete_agent(\n",
    "    agentId=agent_id\n",
    ")"
   ]
  },
  {
   "cell_type": "code",
   "execution_count": 55,
   "id": "b6302823-3fb0-43f2-a926-590fb04e7036",
   "metadata": {
    "tags": []
   },
   "outputs": [
    {
     "data": {
      "text/plain": [
       "{'ResponseMetadata': {'RequestId': 'YWP210XABNDFDD4A',\n",
       "  'HostId': '3TkDYfHoCcXp/xQ2GHrW8x+A4XAUgZAlxqjd7sFdaxXhHVORkKd3rxXnMLtLQxXZcZa3UozuvcI0vbe6xVgtQw==',\n",
       "  'HTTPStatusCode': 204,\n",
       "  'HTTPHeaders': {'x-amz-id-2': '3TkDYfHoCcXp/xQ2GHrW8x+A4XAUgZAlxqjd7sFdaxXhHVORkKd3rxXnMLtLQxXZcZa3UozuvcI0vbe6xVgtQw==',\n",
       "   'x-amz-request-id': 'YWP210XABNDFDD4A',\n",
       "   'date': 'Sat, 08 Jun 2024 01:29:51 GMT',\n",
       "   'server': 'AmazonS3'},\n",
       "  'RetryAttempts': 0}}"
      ]
     },
     "execution_count": 55,
     "metadata": {},
     "output_type": "execute_result"
    }
   ],
   "source": [
    "# Empty and delete S3 Bucket\n",
    "\n",
    "objects = s3_client.list_objects(Bucket=bucket_name)  \n",
    "if 'Contents' in objects:\n",
    "    for obj in objects['Contents']:\n",
    "        s3_client.delete_object(Bucket=bucket_name, Key=obj['Key']) \n",
    "s3_client.delete_bucket(Bucket=bucket_name)"
   ]
  },
  {
   "cell_type": "code",
   "execution_count": 56,
   "id": "877f8d8b-5dfc-4f43-882b-176a27475363",
   "metadata": {
    "tags": []
   },
   "outputs": [],
   "source": [
    "# Delete IAM Roles and policies and Knowledge Base files\n",
    "for policy in [\n",
    "    agent_bedrock_policy, \n",
    "    agent_kb_schema_policy,\n",
    "    kb_bedrock_policy,\n",
    "    kb_aoss_policy,\n",
    "    kb_s3_policy\n",
    "]:\n",
    "    response = iam_client.list_entities_for_policy(\n",
    "        PolicyArn=policy['Policy']['Arn'],\n",
    "        EntityFilter='Role'\n",
    "    )\n",
    "\n",
    "    for role in response['PolicyRoles']:\n",
    "        iam_client.detach_role_policy(\n",
    "            RoleName=role['RoleName'], \n",
    "            PolicyArn=policy['Policy']['Arn']\n",
    "        )\n",
    "\n",
    "    iam_client.delete_policy(\n",
    "        PolicyArn=policy['Policy']['Arn']\n",
    "    )\n",
    "\n",
    "    \n",
    "\n",
    "for role_name in [\n",
    "    agent_role_name, \n",
    "    kb_role_name\n",
    "]:\n",
    "    try: \n",
    "        iam_client.delete_role(\n",
    "            RoleName=role_name\n",
    "        )\n",
    "    except Exception as e:\n",
    "        print(e)\n",
    "        print(\"couldn't delete role\", role_name)\n",
    "        \n",
    "    \n",
    "try:\n",
    "\n",
    "    open_search_serverless_client.delete_collection(\n",
    "        id=opensearch_collection_response[\"createCollectionDetail\"][\"id\"]\n",
    "    )\n",
    "\n",
    "    open_search_serverless_client.delete_access_policy(\n",
    "          name=kb_collection_name,\n",
    "          type='data'\n",
    "    )    \n",
    "\n",
    "    open_search_serverless_client.delete_security_policy(\n",
    "          name=kb_collection_name,\n",
    "          type='network'\n",
    "    )   \n",
    "\n",
    "    open_search_serverless_client.delete_security_policy(\n",
    "          name=kb_collection_name,\n",
    "          type='encryption'\n",
    "    )    \n",
    "    bedrock_agent_client.delete_knowledge_base(\n",
    "        knowledgeBaseId=knowledge_base_id\n",
    "    )\n",
    "except Exception as e:\n",
    "    print(e)"
   ]
  },
  {
   "cell_type": "markdown",
   "id": "15cbc834-c71f-40ae-8a12-6bc2b527ad9b",
   "metadata": {},
   "source": [
    "## Conclusion\n",
    "\n",
    "We have now experimented with using boto3 SDK to create, invoke and delete an agent having a single KB connected to it.\n",
    "## Take aways\n",
    "\n",
    "Adapt this notebook to create new agents for your application\n",
    "\n",
    "## Thank You"
   ]
  },
  {
   "cell_type": "code",
   "execution_count": null,
   "id": "2c5fe4b4-9300-40d7-9bea-7e454328825e",
   "metadata": {},
   "outputs": [],
   "source": []
  }
 ],
 "metadata": {
  "availableInstances": [
   {
    "_defaultOrder": 0,
    "_isFastLaunch": true,
    "category": "General purpose",
    "gpuNum": 0,
    "hideHardwareSpecs": false,
    "memoryGiB": 4,
    "name": "ml.t3.medium",
    "vcpuNum": 2
   },
   {
    "_defaultOrder": 1,
    "_isFastLaunch": false,
    "category": "General purpose",
    "gpuNum": 0,
    "hideHardwareSpecs": false,
    "memoryGiB": 8,
    "name": "ml.t3.large",
    "vcpuNum": 2
   },
   {
    "_defaultOrder": 2,
    "_isFastLaunch": false,
    "category": "General purpose",
    "gpuNum": 0,
    "hideHardwareSpecs": false,
    "memoryGiB": 16,
    "name": "ml.t3.xlarge",
    "vcpuNum": 4
   },
   {
    "_defaultOrder": 3,
    "_isFastLaunch": false,
    "category": "General purpose",
    "gpuNum": 0,
    "hideHardwareSpecs": false,
    "memoryGiB": 32,
    "name": "ml.t3.2xlarge",
    "vcpuNum": 8
   },
   {
    "_defaultOrder": 4,
    "_isFastLaunch": true,
    "category": "General purpose",
    "gpuNum": 0,
    "hideHardwareSpecs": false,
    "memoryGiB": 8,
    "name": "ml.m5.large",
    "vcpuNum": 2
   },
   {
    "_defaultOrder": 5,
    "_isFastLaunch": false,
    "category": "General purpose",
    "gpuNum": 0,
    "hideHardwareSpecs": false,
    "memoryGiB": 16,
    "name": "ml.m5.xlarge",
    "vcpuNum": 4
   },
   {
    "_defaultOrder": 6,
    "_isFastLaunch": false,
    "category": "General purpose",
    "gpuNum": 0,
    "hideHardwareSpecs": false,
    "memoryGiB": 32,
    "name": "ml.m5.2xlarge",
    "vcpuNum": 8
   },
   {
    "_defaultOrder": 7,
    "_isFastLaunch": false,
    "category": "General purpose",
    "gpuNum": 0,
    "hideHardwareSpecs": false,
    "memoryGiB": 64,
    "name": "ml.m5.4xlarge",
    "vcpuNum": 16
   },
   {
    "_defaultOrder": 8,
    "_isFastLaunch": false,
    "category": "General purpose",
    "gpuNum": 0,
    "hideHardwareSpecs": false,
    "memoryGiB": 128,
    "name": "ml.m5.8xlarge",
    "vcpuNum": 32
   },
   {
    "_defaultOrder": 9,
    "_isFastLaunch": false,
    "category": "General purpose",
    "gpuNum": 0,
    "hideHardwareSpecs": false,
    "memoryGiB": 192,
    "name": "ml.m5.12xlarge",
    "vcpuNum": 48
   },
   {
    "_defaultOrder": 10,
    "_isFastLaunch": false,
    "category": "General purpose",
    "gpuNum": 0,
    "hideHardwareSpecs": false,
    "memoryGiB": 256,
    "name": "ml.m5.16xlarge",
    "vcpuNum": 64
   },
   {
    "_defaultOrder": 11,
    "_isFastLaunch": false,
    "category": "General purpose",
    "gpuNum": 0,
    "hideHardwareSpecs": false,
    "memoryGiB": 384,
    "name": "ml.m5.24xlarge",
    "vcpuNum": 96
   },
   {
    "_defaultOrder": 12,
    "_isFastLaunch": false,
    "category": "General purpose",
    "gpuNum": 0,
    "hideHardwareSpecs": false,
    "memoryGiB": 8,
    "name": "ml.m5d.large",
    "vcpuNum": 2
   },
   {
    "_defaultOrder": 13,
    "_isFastLaunch": false,
    "category": "General purpose",
    "gpuNum": 0,
    "hideHardwareSpecs": false,
    "memoryGiB": 16,
    "name": "ml.m5d.xlarge",
    "vcpuNum": 4
   },
   {
    "_defaultOrder": 14,
    "_isFastLaunch": false,
    "category": "General purpose",
    "gpuNum": 0,
    "hideHardwareSpecs": false,
    "memoryGiB": 32,
    "name": "ml.m5d.2xlarge",
    "vcpuNum": 8
   },
   {
    "_defaultOrder": 15,
    "_isFastLaunch": false,
    "category": "General purpose",
    "gpuNum": 0,
    "hideHardwareSpecs": false,
    "memoryGiB": 64,
    "name": "ml.m5d.4xlarge",
    "vcpuNum": 16
   },
   {
    "_defaultOrder": 16,
    "_isFastLaunch": false,
    "category": "General purpose",
    "gpuNum": 0,
    "hideHardwareSpecs": false,
    "memoryGiB": 128,
    "name": "ml.m5d.8xlarge",
    "vcpuNum": 32
   },
   {
    "_defaultOrder": 17,
    "_isFastLaunch": false,
    "category": "General purpose",
    "gpuNum": 0,
    "hideHardwareSpecs": false,
    "memoryGiB": 192,
    "name": "ml.m5d.12xlarge",
    "vcpuNum": 48
   },
   {
    "_defaultOrder": 18,
    "_isFastLaunch": false,
    "category": "General purpose",
    "gpuNum": 0,
    "hideHardwareSpecs": false,
    "memoryGiB": 256,
    "name": "ml.m5d.16xlarge",
    "vcpuNum": 64
   },
   {
    "_defaultOrder": 19,
    "_isFastLaunch": false,
    "category": "General purpose",
    "gpuNum": 0,
    "hideHardwareSpecs": false,
    "memoryGiB": 384,
    "name": "ml.m5d.24xlarge",
    "vcpuNum": 96
   },
   {
    "_defaultOrder": 20,
    "_isFastLaunch": false,
    "category": "General purpose",
    "gpuNum": 0,
    "hideHardwareSpecs": true,
    "memoryGiB": 0,
    "name": "ml.geospatial.interactive",
    "supportedImageNames": [
     "sagemaker-geospatial-v1-0"
    ],
    "vcpuNum": 0
   },
   {
    "_defaultOrder": 21,
    "_isFastLaunch": true,
    "category": "Compute optimized",
    "gpuNum": 0,
    "hideHardwareSpecs": false,
    "memoryGiB": 4,
    "name": "ml.c5.large",
    "vcpuNum": 2
   },
   {
    "_defaultOrder": 22,
    "_isFastLaunch": false,
    "category": "Compute optimized",
    "gpuNum": 0,
    "hideHardwareSpecs": false,
    "memoryGiB": 8,
    "name": "ml.c5.xlarge",
    "vcpuNum": 4
   },
   {
    "_defaultOrder": 23,
    "_isFastLaunch": false,
    "category": "Compute optimized",
    "gpuNum": 0,
    "hideHardwareSpecs": false,
    "memoryGiB": 16,
    "name": "ml.c5.2xlarge",
    "vcpuNum": 8
   },
   {
    "_defaultOrder": 24,
    "_isFastLaunch": false,
    "category": "Compute optimized",
    "gpuNum": 0,
    "hideHardwareSpecs": false,
    "memoryGiB": 32,
    "name": "ml.c5.4xlarge",
    "vcpuNum": 16
   },
   {
    "_defaultOrder": 25,
    "_isFastLaunch": false,
    "category": "Compute optimized",
    "gpuNum": 0,
    "hideHardwareSpecs": false,
    "memoryGiB": 72,
    "name": "ml.c5.9xlarge",
    "vcpuNum": 36
   },
   {
    "_defaultOrder": 26,
    "_isFastLaunch": false,
    "category": "Compute optimized",
    "gpuNum": 0,
    "hideHardwareSpecs": false,
    "memoryGiB": 96,
    "name": "ml.c5.12xlarge",
    "vcpuNum": 48
   },
   {
    "_defaultOrder": 27,
    "_isFastLaunch": false,
    "category": "Compute optimized",
    "gpuNum": 0,
    "hideHardwareSpecs": false,
    "memoryGiB": 144,
    "name": "ml.c5.18xlarge",
    "vcpuNum": 72
   },
   {
    "_defaultOrder": 28,
    "_isFastLaunch": false,
    "category": "Compute optimized",
    "gpuNum": 0,
    "hideHardwareSpecs": false,
    "memoryGiB": 192,
    "name": "ml.c5.24xlarge",
    "vcpuNum": 96
   },
   {
    "_defaultOrder": 29,
    "_isFastLaunch": true,
    "category": "Accelerated computing",
    "gpuNum": 1,
    "hideHardwareSpecs": false,
    "memoryGiB": 16,
    "name": "ml.g4dn.xlarge",
    "vcpuNum": 4
   },
   {
    "_defaultOrder": 30,
    "_isFastLaunch": false,
    "category": "Accelerated computing",
    "gpuNum": 1,
    "hideHardwareSpecs": false,
    "memoryGiB": 32,
    "name": "ml.g4dn.2xlarge",
    "vcpuNum": 8
   },
   {
    "_defaultOrder": 31,
    "_isFastLaunch": false,
    "category": "Accelerated computing",
    "gpuNum": 1,
    "hideHardwareSpecs": false,
    "memoryGiB": 64,
    "name": "ml.g4dn.4xlarge",
    "vcpuNum": 16
   },
   {
    "_defaultOrder": 32,
    "_isFastLaunch": false,
    "category": "Accelerated computing",
    "gpuNum": 1,
    "hideHardwareSpecs": false,
    "memoryGiB": 128,
    "name": "ml.g4dn.8xlarge",
    "vcpuNum": 32
   },
   {
    "_defaultOrder": 33,
    "_isFastLaunch": false,
    "category": "Accelerated computing",
    "gpuNum": 4,
    "hideHardwareSpecs": false,
    "memoryGiB": 192,
    "name": "ml.g4dn.12xlarge",
    "vcpuNum": 48
   },
   {
    "_defaultOrder": 34,
    "_isFastLaunch": false,
    "category": "Accelerated computing",
    "gpuNum": 1,
    "hideHardwareSpecs": false,
    "memoryGiB": 256,
    "name": "ml.g4dn.16xlarge",
    "vcpuNum": 64
   },
   {
    "_defaultOrder": 35,
    "_isFastLaunch": false,
    "category": "Accelerated computing",
    "gpuNum": 1,
    "hideHardwareSpecs": false,
    "memoryGiB": 61,
    "name": "ml.p3.2xlarge",
    "vcpuNum": 8
   },
   {
    "_defaultOrder": 36,
    "_isFastLaunch": false,
    "category": "Accelerated computing",
    "gpuNum": 4,
    "hideHardwareSpecs": false,
    "memoryGiB": 244,
    "name": "ml.p3.8xlarge",
    "vcpuNum": 32
   },
   {
    "_defaultOrder": 37,
    "_isFastLaunch": false,
    "category": "Accelerated computing",
    "gpuNum": 8,
    "hideHardwareSpecs": false,
    "memoryGiB": 488,
    "name": "ml.p3.16xlarge",
    "vcpuNum": 64
   },
   {
    "_defaultOrder": 38,
    "_isFastLaunch": false,
    "category": "Accelerated computing",
    "gpuNum": 8,
    "hideHardwareSpecs": false,
    "memoryGiB": 768,
    "name": "ml.p3dn.24xlarge",
    "vcpuNum": 96
   },
   {
    "_defaultOrder": 39,
    "_isFastLaunch": false,
    "category": "Memory Optimized",
    "gpuNum": 0,
    "hideHardwareSpecs": false,
    "memoryGiB": 16,
    "name": "ml.r5.large",
    "vcpuNum": 2
   },
   {
    "_defaultOrder": 40,
    "_isFastLaunch": false,
    "category": "Memory Optimized",
    "gpuNum": 0,
    "hideHardwareSpecs": false,
    "memoryGiB": 32,
    "name": "ml.r5.xlarge",
    "vcpuNum": 4
   },
   {
    "_defaultOrder": 41,
    "_isFastLaunch": false,
    "category": "Memory Optimized",
    "gpuNum": 0,
    "hideHardwareSpecs": false,
    "memoryGiB": 64,
    "name": "ml.r5.2xlarge",
    "vcpuNum": 8
   },
   {
    "_defaultOrder": 42,
    "_isFastLaunch": false,
    "category": "Memory Optimized",
    "gpuNum": 0,
    "hideHardwareSpecs": false,
    "memoryGiB": 128,
    "name": "ml.r5.4xlarge",
    "vcpuNum": 16
   },
   {
    "_defaultOrder": 43,
    "_isFastLaunch": false,
    "category": "Memory Optimized",
    "gpuNum": 0,
    "hideHardwareSpecs": false,
    "memoryGiB": 256,
    "name": "ml.r5.8xlarge",
    "vcpuNum": 32
   },
   {
    "_defaultOrder": 44,
    "_isFastLaunch": false,
    "category": "Memory Optimized",
    "gpuNum": 0,
    "hideHardwareSpecs": false,
    "memoryGiB": 384,
    "name": "ml.r5.12xlarge",
    "vcpuNum": 48
   },
   {
    "_defaultOrder": 45,
    "_isFastLaunch": false,
    "category": "Memory Optimized",
    "gpuNum": 0,
    "hideHardwareSpecs": false,
    "memoryGiB": 512,
    "name": "ml.r5.16xlarge",
    "vcpuNum": 64
   },
   {
    "_defaultOrder": 46,
    "_isFastLaunch": false,
    "category": "Memory Optimized",
    "gpuNum": 0,
    "hideHardwareSpecs": false,
    "memoryGiB": 768,
    "name": "ml.r5.24xlarge",
    "vcpuNum": 96
   },
   {
    "_defaultOrder": 47,
    "_isFastLaunch": false,
    "category": "Accelerated computing",
    "gpuNum": 1,
    "hideHardwareSpecs": false,
    "memoryGiB": 16,
    "name": "ml.g5.xlarge",
    "vcpuNum": 4
   },
   {
    "_defaultOrder": 48,
    "_isFastLaunch": false,
    "category": "Accelerated computing",
    "gpuNum": 1,
    "hideHardwareSpecs": false,
    "memoryGiB": 32,
    "name": "ml.g5.2xlarge",
    "vcpuNum": 8
   },
   {
    "_defaultOrder": 49,
    "_isFastLaunch": false,
    "category": "Accelerated computing",
    "gpuNum": 1,
    "hideHardwareSpecs": false,
    "memoryGiB": 64,
    "name": "ml.g5.4xlarge",
    "vcpuNum": 16
   },
   {
    "_defaultOrder": 50,
    "_isFastLaunch": false,
    "category": "Accelerated computing",
    "gpuNum": 1,
    "hideHardwareSpecs": false,
    "memoryGiB": 128,
    "name": "ml.g5.8xlarge",
    "vcpuNum": 32
   },
   {
    "_defaultOrder": 51,
    "_isFastLaunch": false,
    "category": "Accelerated computing",
    "gpuNum": 1,
    "hideHardwareSpecs": false,
    "memoryGiB": 256,
    "name": "ml.g5.16xlarge",
    "vcpuNum": 64
   },
   {
    "_defaultOrder": 52,
    "_isFastLaunch": false,
    "category": "Accelerated computing",
    "gpuNum": 4,
    "hideHardwareSpecs": false,
    "memoryGiB": 192,
    "name": "ml.g5.12xlarge",
    "vcpuNum": 48
   },
   {
    "_defaultOrder": 53,
    "_isFastLaunch": false,
    "category": "Accelerated computing",
    "gpuNum": 4,
    "hideHardwareSpecs": false,
    "memoryGiB": 384,
    "name": "ml.g5.24xlarge",
    "vcpuNum": 96
   },
   {
    "_defaultOrder": 54,
    "_isFastLaunch": false,
    "category": "Accelerated computing",
    "gpuNum": 8,
    "hideHardwareSpecs": false,
    "memoryGiB": 768,
    "name": "ml.g5.48xlarge",
    "vcpuNum": 192
   },
   {
    "_defaultOrder": 55,
    "_isFastLaunch": false,
    "category": "Accelerated computing",
    "gpuNum": 8,
    "hideHardwareSpecs": false,
    "memoryGiB": 1152,
    "name": "ml.p4d.24xlarge",
    "vcpuNum": 96
   },
   {
    "_defaultOrder": 56,
    "_isFastLaunch": false,
    "category": "Accelerated computing",
    "gpuNum": 8,
    "hideHardwareSpecs": false,
    "memoryGiB": 1152,
    "name": "ml.p4de.24xlarge",
    "vcpuNum": 96
   },
   {
    "_defaultOrder": 57,
    "_isFastLaunch": false,
    "category": "Accelerated computing",
    "gpuNum": 0,
    "hideHardwareSpecs": false,
    "memoryGiB": 32,
    "name": "ml.trn1.2xlarge",
    "vcpuNum": 8
   },
   {
    "_defaultOrder": 58,
    "_isFastLaunch": false,
    "category": "Accelerated computing",
    "gpuNum": 0,
    "hideHardwareSpecs": false,
    "memoryGiB": 512,
    "name": "ml.trn1.32xlarge",
    "vcpuNum": 128
   },
   {
    "_defaultOrder": 59,
    "_isFastLaunch": false,
    "category": "Accelerated computing",
    "gpuNum": 0,
    "hideHardwareSpecs": false,
    "memoryGiB": 512,
    "name": "ml.trn1n.32xlarge",
    "vcpuNum": 128
   }
  ],
  "instance_type": "ml.t3.medium",
  "kernelspec": {
   "display_name": "conda_python3",
   "language": "python",
   "name": "conda_python3"
  },
  "language_info": {
   "codemirror_mode": {
    "name": "ipython",
    "version": 3
   },
   "file_extension": ".py",
   "mimetype": "text/x-python",
   "name": "python",
   "nbconvert_exporter": "python",
   "pygments_lexer": "ipython3",
   "version": "3.10.14"
  }
 },
 "nbformat": 4,
 "nbformat_minor": 5
}
